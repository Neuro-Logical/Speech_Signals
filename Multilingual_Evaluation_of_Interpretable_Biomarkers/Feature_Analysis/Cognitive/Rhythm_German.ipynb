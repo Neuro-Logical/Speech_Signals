{
 "cells": [
  {
   "cell_type": "code",
   "execution_count": 21,
   "id": "aa52d9f2",
   "metadata": {},
   "outputs": [],
   "source": [
    "import os\n",
    "import pandas as pd\n",
    "import seaborn as sns\n",
    "from utils import *\n",
    "from scipy.stats import kurtosis, skew\n",
    "import numpy as np"
   ]
  },
  {
   "cell_type": "code",
   "execution_count": null,
   "outputs": [],
   "source": [
    "    \n",
    "# Read word alignment files \n",
    "\n",
    "path_align_german = '/export/b15/afavaro/Frontiers/German_PD/Alignment_German'\n",
    "paths= [os.path.join(path_align_german, base) for base in os.listdir(path_align_german)]\n",
    "\n",
    "# Create data frames  \n",
    "\n",
    "len(paths)\n",
    "list_of_dataframes = []\n",
    "for element in paths:\n",
    "    participant = pd.read_csv(element)\n",
    "    elem = os.path.basename(element)\n",
    "    \n",
    "    name = elem.split(\"_\", 2)[1]\n",
    "    label = elem.split(\"_\")[0]\n",
    "    task = (elem.split(\"_\", 2)[-1].split('.csv')[0])\n",
    "    \n",
    "    tot= participant.time_stamp.tolist()\n",
    "    tot = (list(set(tot)))\n",
    "    unique = participant['time_stamp'].unique()\n",
    "    stdx = unique.std()\n",
    "    kurtx = kurtosis(unique)\n",
    "    skewx =  skew(unique)\n",
    "\n",
    "     # Compute standard deviation, skewness and kurtosis of the initial timestamp of each word in each recording.\n",
    "\n",
    "    dict = {'name': name, 'label': label, 'tasks': task,   'rhythm_std': stdx,'rhythm_skew': skewx, 'rhythm_kurt': kurtx } # 'Rhythm_kurt': kurtosis, \n",
    "    df = pd.DataFrame(dict, index=[0])\n",
    "    list_of_dataframes.append(df)\n",
    "\n",
    "data = pd.concat(list_of_dataframes, ignore_index=True)\n",
    "data = data.dropna()\n",
    "task = data.groupby('tasks')\n",
    "monolo = task.get_group('monologue_German')\n",
    "cocnc =  task.get_group('concatenateread_German')\n",
    "read = task.get_group('readtext_German')"
   ],
   "metadata": {
    "collapsed": false,
    "pycharm": {
     "name": "#%%\n"
    }
   }
  },
  {
   "cell_type": "markdown",
   "source": [
    "## Monologue"
   ],
   "metadata": {
    "collapsed": false,
    "pycharm": {
     "name": "#%% md\n"
    }
   }
  },
  {
   "cell_type": "code",
   "execution_count": null,
   "outputs": [],
   "source": [
    "grouped = monolo.groupby(\"label\") #here we extract the values by category\n",
    "control = grouped.get_group(\"CN\") \n",
    "parkinson_ = grouped.get_group(\"PD\")\n",
    "task = monolo.columns[-3:-2].values.tolist()\n",
    "parkinson_all_feat = np.array([parkinson_[feat] for feat in np.array(monolo.columns[-3:-2])])\n",
    "control_all_feat = np.array([control[feat] for feat in np.array(monolo.columns[-3:-2])])\n",
    "\n",
    "with open('/export/b15/afavaro/Frontiers/submission/GERMAN/COGNITIVE/Results/rhythm_rt_mon.txt', 'w') as f:\n",
    " \n",
    "    kruskal(f, task, control_all_feat, parkinson_all_feat, \"controls vs.\", \"parkinson\")\n",
    "    \n",
    "kruskal_1 = read_stats_test('/export/b15/afavaro/Frontiers/submission/GERMAN/COGNITIVE/Results/rhythm_rt_mon.txt')\n",
    "holm_correction(kruskal_1)\n",
    "\n",
    "for i, title in enumerate(task):  \n",
    "    \n",
    "    nome = title\n",
    "    controls = []\n",
    "    parkinson=[]\n",
    "    data = np.concatenate([control_all_feat[i], parkinson_all_feat[i]])\n",
    "    data = data.tolist()\n",
    "    data = [float(x) for x in data if x != \"None\"]\n",
    "    [controls.append('CN') for value in range(len(control_all_feat[i]))]\n",
    "    [parkinson.append('PD') for value in range(len(parkinson_all_feat[i]))]\n",
    "    lista = controls+parkinson\n",
    "    dict = {nome: data, 'Group': lista} \n",
    "    df = pd.DataFrame(dict)\n",
    "    sns.set(font_scale=2)\n",
    "    sns.catplot(x=nome, y=\"Group\", kind=\"boxen\", data=df, k_depth='full', palette=\"Blues\",\\\n",
    "               height=4.2, aspect=1.4, showfliers = False)"
   ],
   "metadata": {
    "collapsed": false,
    "pycharm": {
     "name": "#%% \n"
    }
   }
  },
  {
   "cell_type": "markdown",
   "source": [
    "##  Read passage"
   ],
   "metadata": {
    "collapsed": false,
    "pycharm": {
     "name": "#%% md\n"
    }
   }
  },
  {
   "cell_type": "code",
   "source": [
    "grouped = read.groupby(\"label\") #here we extract the values by category\n",
    "control = grouped.get_group(\"CN\") \n",
    "parkinson_ = grouped.get_group(\"PD\")\n",
    "task = read.columns[-3:].values.tolist()\n",
    "parkinson_all_feat = np.array([parkinson_[feat] for feat in np.array(read.columns[-3:])])\n",
    "control_all_feat = np.array([control[feat] for feat in np.array(read.columns[-3:])])\n",
    "\n",
    "\n",
    "with open('/export/b15/afavaro/Frontiers/submission/GERMAN/COGNITIVE/Results/rhythm_rt_read.txt', 'w') as f:\n",
    " \n",
    "    kruskal(f, task, control_all_feat, parkinson_all_feat, \"controls vs.\", \"parkinson\")\n",
    "\n",
    "kruskal_1 = read_stats_test('/export/b15/afavaro/Frontiers/submission/GERMAN/COGNITIVE/Results/rhythm_rt_read.txt')\n",
    "holm_correction(kruskal_1)\n",
    "\n",
    "\n",
    "for i, title in enumerate(task):  \n",
    "    \n",
    "    nome = title\n",
    "    controls = []\n",
    "    parkinson=[]\n",
    "    data = np.concatenate([control_all_feat[i], parkinson_all_feat[i]])\n",
    "    data = data.tolist()\n",
    "    data = [float(x) for x in data if x != \"None\"]\n",
    "    [controls.append('CN') for value in range(len(control_all_feat[i]))]\n",
    "    [parkinson.append('PD') for value in range(len(parkinson_all_feat[i]))]\n",
    "    lista = controls+parkinson\n",
    "    dict = {nome: data, 'Group': lista} \n",
    "    df = pd.DataFrame(dict)\n",
    "    sns.set(font_scale=2)\n",
    "    sns.catplot(x=nome, y=\"Group\", kind=\"boxen\", data=df, k_depth='full', palette=\"Blues\",\\\n",
    "               height=4.2, aspect=1.4, showfliers = False)\n"
   ],
   "metadata": {
    "collapsed": false,
    "pycharm": {
     "name": "#%% \n"
    }
   },
   "execution_count": null,
   "outputs": []
  },
  {
   "cell_type": "markdown",
   "source": [
    "## Text Dependent Utterances (TDU)"
   ],
   "metadata": {
    "collapsed": false
   }
  },
  {
   "cell_type": "code",
   "source": [
    "grouped = cocnc.groupby(\"label\") #here we extract the values by category\n",
    "control = grouped.get_group(\"CN\") \n",
    "parkinson_ = grouped.get_group(\"PD\")\n",
    "task = cocnc.columns[-3:].values.tolist()\n",
    "parkinson_all_feat = np.array([parkinson_[feat] for feat in np.array(cocnc.columns[-3:])])\n",
    "control_all_feat = np.array([control[feat] for feat in np.array(cocnc.columns[-3:])])\n",
    "\n",
    "with open('/export/b15/afavaro/Frontiers/submission/GERMAN/COGNITIVE/Results/rhythm_conc.txt', 'w') as f:\n",
    " \n",
    "    kruskal(f, task, control_all_feat, parkinson_all_feat, \"controls vs.\", \"parkinson\")\n",
    "\n",
    "kruskal_1 = read_stats_test('/export/b15/afavaro/Frontiers/submission/GERMAN/COGNITIVE/Results/rhythm_conc.txt')\n",
    "holm_correction(kruskal_1)"
   ],
   "metadata": {
    "collapsed": false,
    "pycharm": {
     "name": "#%%\n"
    }
   },
   "execution_count": null,
   "outputs": []
  },
  {
   "cell_type": "code",
   "execution_count": 40,
   "id": "5642d505",
   "metadata": {
    "pycharm": {
     "name": "#%%\n"
    }
   },
   "outputs": [
    {
     "data": {
      "image/png": "[encoded data removed]",
      "text/plain": [
       "<Figure size 423.36x302.4 with 1 Axes>"
      ]
     },
     "metadata": {},
     "output_type": "display_data"
    },
    {
     "data": {
      "image/png": "[encoded data removed]",
      "text/plain": [
       "<Figure size 423.36x302.4 with 1 Axes>"
      ]
     },
     "metadata": {},
     "output_type": "display_data"
    },
    {
     "data": {
      "image/png": "[encoded data removed]",
      "text/plain": [
       "<Figure size 423.36x302.4 with 1 Axes>"
      ]
     },
     "metadata": {},
     "output_type": "display_data"
    }
   ],
   "source": [
    "for i, title in enumerate(task):  \n",
    "    \n",
    "    nome = title\n",
    "    controls = []\n",
    "    parkinson=[]\n",
    "    data = np.concatenate([control_all_feat[i], parkinson_all_feat[i]])\n",
    "    data = data.tolist()\n",
    "    data = [float(x) for x in data if x != \"None\"]\n",
    "    [controls.append('CN') for value in range(len(control_all_feat[i]))]\n",
    "    [parkinson.append('PD') for value in range(len(parkinson_all_feat[i]))]\n",
    "    lista = controls+parkinson\n",
    "    dict = {nome: data, 'Group': lista} \n",
    "    df = pd.DataFrame(dict)\n",
    "    sns.set(font_scale=2)\n",
    "    sns.catplot(x=nome, y=\"Group\", kind=\"boxen\", data=df, k_depth='full', palette=\"Blues\",\\\n",
    "               height=4.2, aspect=1.4, showfliers = False)"
   ]
  }
 ],
 "metadata": {
  "kernelspec": {
   "display_name": "Python 3 (ipykernel)",
   "language": "python",
   "name": "python3"
  },
  "language_info": {
   "codemirror_mode": {
    "name": "ipython",
    "version": 3
   },
   "file_extension": ".py",
   "mimetype": "text/x-python",
   "name": "python",
   "nbconvert_exporter": "python",
   "pygments_lexer": "ipython3",
   "version": "3.9.7"
  }
 },
 "nbformat": 4,
 "nbformat_minor": 5
}