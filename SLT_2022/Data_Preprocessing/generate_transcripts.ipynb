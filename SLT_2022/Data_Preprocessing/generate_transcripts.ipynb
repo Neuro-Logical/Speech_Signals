{
 "cells": [
  {
   "cell_type": "markdown",
   "metadata": {
    "id": "2nvf4vtl4kRD"
   },
   "source": [
    "## Description\n",
    "This notebook shows how to use a pre-trained conformer-ctc model with [icefall] using HLG decoding + n-gram LM rescoring + attention decoder rescoring.(https://huggingface.co/csukuangfj/icefall-asr-librispeech-conformer-ctc-jit-bpe-500-2021-11-09/tree/main)."
   ]
  },
  {
   "cell_type": "markdown",
   "metadata": {
    "id": "NO5ZXI4m5ZAz"
   },
   "source": [
    "## Environment setup\n",
    "\n",
    "To use a pre-trained model with icefall, we have to install the following dependencies:\n",
    "\n",
    "- [k2][k2], for FSA operations\n",
    "- [torchaudio][audio], for reading sound files\n",
    "- [kaldifeat][kaldifeat], for extracting features from a single sound\n",
    "  file or multiple sound files\n",
    "\n",
    "**NOTE**: [lhotse][lhotse] is used only in training time, for data preparation.\n",
    "\n",
    "\n",
    "[k2]: https://github.com/k2-fsa/k2\n",
    "[audio]: https://github.com/pytorch/audio\n",
    "[kaldifeat]: https://github.com/csukuangfj/kaldifeat\n",
    "[lhotse]: https://github.com/lhotse-speech/lhotse"
   ]
  },
  {
   "cell_type": "markdown",
   "metadata": {
    "id": "y6_gTMua5ht0"
   },
   "source": [
    "### Install PyTorch and torchaudio"
   ]
  },
  {
   "cell_type": "code",
   "execution_count": null,
   "metadata": {
    "colab": {
     "base_uri": "https://localhost:8080/"
    },
    "id": "fJLFqPWO4S3F",
    "outputId": "795bc3a3-50a0-42cc-e760-cda8ed2ab8ff"
   },
   "outputs": [
    {
     "output_type": "stream",
     "name": "stdout",
     "text": [
      "nvcc: NVIDIA (R) Cuda compiler driver\n",
      "Copyright (c) 2005-2021 NVIDIA Corporation\n",
      "Built on Sun_Feb_14_21:12:58_PST_2021\n",
      "Cuda compilation tools, release 11.2, V11.2.152\n",
      "Build cuda_11.2.r11.2/compiler.29618528_0\n"
     ]
    }
   ],
   "source": [
    "! nvcc --version"
   ]
  },
  {
   "cell_type": "code",
   "source": [
    "! pip install torch==1.7.1+cu101 torchaudio==0.7.2 torchvision==0.8.2 torchtext==0.8.1 -f https://download.pytorch.org/whl/torch_stable.html"
   ],
   "metadata": {
    "colab": {
     "base_uri": "https://localhost:8080/"
    },
    "id": "2uV1i7qoRk2M",
    "outputId": "5060f3b8-0fcf-4d58-ad56-3919ef11b716"
   },
   "execution_count": null,
   "outputs": [
    {
     "output_type": "stream",
     "name": "stdout",
     "text": [
      "Looking in indexes: https://pypi.org/simple, https://us-python.pkg.dev/colab-wheels/public/simple/\n",
      "Looking in links: https://download.pytorch.org/whl/torch_stable.html\n",
      "Collecting torch==1.7.1+cu101\n",
      "  Downloading https://download.pytorch.org/whl/cu101/torch-1.7.1%2Bcu101-cp38-cp38-linux_x86_64.whl (735.4 MB)\n",
      "\u001B[K     |████████████████████████████████| 735.4 MB 5.9 kB/s \n",
      "\u001B[?25hCollecting torchaudio==0.7.2\n",
      "  Downloading torchaudio-0.7.2-cp38-cp38-manylinux1_x86_64.whl (7.6 MB)\n",
      "\u001B[K     |████████████████████████████████| 7.6 MB 4.9 MB/s \n",
      "\u001B[?25hCollecting torchvision==0.8.2\n",
      "  Downloading https://download.pytorch.org/whl/cu92/torchvision-0.8.2%2Bcu92-cp38-cp38-linux_x86_64.whl (12.5 MB)\n",
      "\u001B[K     |████████████████████████████████| 12.5 MB 24.9 MB/s \n",
      "\u001B[?25hCollecting torchtext==0.8.1\n",
      "  Downloading torchtext-0.8.1-cp38-cp38-manylinux1_x86_64.whl (7.0 MB)\n",
      "\u001B[K     |████████████████████████████████| 7.0 MB 68.6 MB/s \n",
      "\u001B[?25hRequirement already satisfied: typing-extensions in /usr/local/lib/python3.8/dist-packages (from torch==1.7.1+cu101) (4.4.0)\n",
      "Requirement already satisfied: numpy in /usr/local/lib/python3.8/dist-packages (from torch==1.7.1+cu101) (1.21.6)\n",
      "Requirement already satisfied: pillow>=4.1.1 in /usr/local/lib/python3.8/dist-packages (from torchvision==0.8.2) (7.1.2)\n",
      "Requirement already satisfied: requests in /usr/local/lib/python3.8/dist-packages (from torchtext==0.8.1) (2.23.0)\n",
      "Requirement already satisfied: tqdm in /usr/local/lib/python3.8/dist-packages (from torchtext==0.8.1) (4.64.1)\n",
      "Requirement already satisfied: idna<3,>=2.5 in /usr/local/lib/python3.8/dist-packages (from requests->torchtext==0.8.1) (2.10)\n",
      "Requirement already satisfied: certifi>=2017.4.17 in /usr/local/lib/python3.8/dist-packages (from requests->torchtext==0.8.1) (2022.12.7)\n",
      "Requirement already satisfied: chardet<4,>=3.0.2 in /usr/local/lib/python3.8/dist-packages (from requests->torchtext==0.8.1) (3.0.4)\n",
      "Requirement already satisfied: urllib3!=1.25.0,!=1.25.1,<1.26,>=1.21.1 in /usr/local/lib/python3.8/dist-packages (from requests->torchtext==0.8.1) (1.24.3)\n",
      "Installing collected packages: torch, torchvision, torchtext, torchaudio\n",
      "  Attempting uninstall: torch\n",
      "    Found existing installation: torch 1.13.0+cu116\n",
      "    Uninstalling torch-1.13.0+cu116:\n",
      "      Successfully uninstalled torch-1.13.0+cu116\n",
      "  Attempting uninstall: torchvision\n",
      "    Found existing installation: torchvision 0.14.0+cu116\n",
      "    Uninstalling torchvision-0.14.0+cu116:\n",
      "      Successfully uninstalled torchvision-0.14.0+cu116\n",
      "  Attempting uninstall: torchtext\n",
      "    Found existing installation: torchtext 0.14.0\n",
      "    Uninstalling torchtext-0.14.0:\n",
      "      Successfully uninstalled torchtext-0.14.0\n",
      "  Attempting uninstall: torchaudio\n",
      "    Found existing installation: torchaudio 0.13.0+cu116\n",
      "    Uninstalling torchaudio-0.13.0+cu116:\n",
      "      Successfully uninstalled torchaudio-0.13.0+cu116\n",
      "Successfully installed torch-1.7.1+cu101 torchaudio-0.7.2 torchtext-0.8.1 torchvision-0.8.2+cu92\n"
     ]
    }
   ]
  },
  {
   "cell_type": "code",
   "source": [
    "! pip install lhotse"
   ],
   "metadata": {
    "colab": {
     "base_uri": "https://localhost:8080/"
    },
    "id": "mLYwjA8Ae2OA",
    "outputId": "69464779-717e-4e7f-d3a0-74afbbfe5a02"
   },
   "execution_count": null,
   "outputs": [
    {
     "output_type": "stream",
     "name": "stdout",
     "text": [
      "Looking in indexes: https://pypi.org/simple, https://us-python.pkg.dev/colab-wheels/public/simple/\n",
      "Collecting lhotse\n",
      "  Downloading lhotse-1.11.0-py3-none-any.whl (588 kB)\n",
      "\u001B[K     |████████████████████████████████| 588 kB 4.7 MB/s \n",
      "\u001B[?25hRequirement already satisfied: tabulate>=0.8.1 in /usr/local/lib/python3.8/dist-packages (from lhotse) (0.8.10)\n",
      "Requirement already satisfied: tqdm in /usr/local/lib/python3.8/dist-packages (from lhotse) (4.64.1)\n",
      "Collecting cytoolz>=0.10.1\n",
      "  Downloading cytoolz-0.12.1-cp38-cp38-manylinux_2_17_x86_64.manylinux2014_x86_64.whl (1.8 MB)\n",
      "\u001B[K     |████████████████████████████████| 1.8 MB 90.4 MB/s \n",
      "\u001B[?25hCollecting lilcom>=1.1.0\n",
      "  Downloading lilcom-1.5.1.tar.gz (45 kB)\n",
      "\u001B[K     |████████████████████████████████| 45 kB 4.2 MB/s \n",
      "\u001B[?25hRequirement already satisfied: audioread>=2.1.9 in /usr/local/lib/python3.8/dist-packages (from lhotse) (3.0.0)\n",
      "Requirement already satisfied: packaging in /usr/local/lib/python3.8/dist-packages (from lhotse) (21.3)\n",
      "Collecting dataclasses\n",
      "  Downloading dataclasses-0.6-py3-none-any.whl (14 kB)\n",
      "Requirement already satisfied: numpy>=1.18.1 in /usr/local/lib/python3.8/dist-packages (from lhotse) (1.21.6)\n",
      "Requirement already satisfied: SoundFile>=0.10 in /usr/local/lib/python3.8/dist-packages (from lhotse) (0.11.0)\n",
      "Collecting intervaltree>=3.1.0\n",
      "  Downloading intervaltree-3.1.0.tar.gz (32 kB)\n",
      "Requirement already satisfied: click>=7.1.1 in /usr/local/lib/python3.8/dist-packages (from lhotse) (7.1.2)\n",
      "Requirement already satisfied: pyyaml>=5.3.1 in /usr/local/lib/python3.8/dist-packages (from lhotse) (6.0)\n",
      "Requirement already satisfied: toolz>=0.8.0 in /usr/local/lib/python3.8/dist-packages (from cytoolz>=0.10.1->lhotse) (0.12.0)\n",
      "Requirement already satisfied: sortedcontainers<3.0,>=2.0 in /usr/local/lib/python3.8/dist-packages (from intervaltree>=3.1.0->lhotse) (2.4.0)\n",
      "Requirement already satisfied: cffi>=1.0 in /usr/local/lib/python3.8/dist-packages (from SoundFile>=0.10->lhotse) (1.15.1)\n",
      "Requirement already satisfied: pycparser in /usr/local/lib/python3.8/dist-packages (from cffi>=1.0->SoundFile>=0.10->lhotse) (2.21)\n",
      "Requirement already satisfied: pyparsing!=3.0.5,>=2.0.2 in /usr/local/lib/python3.8/dist-packages (from packaging->lhotse) (3.0.9)\n",
      "Building wheels for collected packages: intervaltree, lilcom\n",
      "  Building wheel for intervaltree (setup.py) ... \u001B[?25l\u001B[?25hdone\n",
      "  Created wheel for intervaltree: filename=intervaltree-3.1.0-py2.py3-none-any.whl size=26118 sha256=ee6c5635c65c44618fe723188b68c158f03001766bf9a92481083a8c32bbd58c\n",
      "  Stored in directory: /root/.cache/pip/wheels/45/23/de/5789a92962483fd33cb06674792b9697c1b3766d7c7742830e\n",
      "  Building wheel for lilcom (setup.py) ... \u001B[?25l\u001B[?25hdone\n",
      "  Created wheel for lilcom: filename=lilcom-1.5.1-py3-none-any.whl size=60976 sha256=396bf84af7493692a5ec065f2b979e9ce638d0b121a68999eef50ac80f89496b\n",
      "  Stored in directory: /root/.cache/pip/wheels/1c/37/03/c23b5aa07a26ecc8e6db39690848228135d502b57887d62ad2\n",
      "Successfully built intervaltree lilcom\n",
      "Installing collected packages: lilcom, intervaltree, dataclasses, cytoolz, lhotse\n",
      "  Attempting uninstall: intervaltree\n",
      "    Found existing installation: intervaltree 2.1.0\n",
      "    Uninstalling intervaltree-2.1.0:\n",
      "      Successfully uninstalled intervaltree-2.1.0\n",
      "Successfully installed cytoolz-0.12.1 dataclasses-0.6 intervaltree-3.1.0 lhotse-1.11.0 lilcom-1.5.1\n"
     ]
    }
   ]
  },
  {
   "cell_type": "markdown",
   "metadata": {
    "id": "MA7J3nGc8Uni"
   },
   "source": [
    "### Install k2"
   ]
  },
  {
   "cell_type": "code",
   "execution_count": null,
   "metadata": {
    "colab": {
     "base_uri": "https://localhost:8080/"
    },
    "id": "5n0MNtzy8VZx",
    "outputId": "2f33e89a-a000-4770-a717-690b5a5f7731"
   },
   "outputs": [
    {
     "output_type": "stream",
     "name": "stdout",
     "text": [
      "Looking in indexes: https://pypi.org/simple, https://us-python.pkg.dev/colab-wheels/public/simple/\n",
      "Collecting k2==1.17\n",
      "  Downloading k2-1.17-py38-none-any.whl (72.7 MB)\n",
      "\u001B[K     |████████████████████████████████| 72.7 MB 1.7 MB/s \n",
      "\u001B[?25hRequirement already satisfied: torch==1.7.1 in /usr/local/lib/python3.8/dist-packages (from k2==1.17) (1.7.1+cu101)\n",
      "Requirement already satisfied: graphviz in /usr/local/lib/python3.8/dist-packages (from k2==1.17) (0.10.1)\n",
      "Requirement already satisfied: numpy in /usr/local/lib/python3.8/dist-packages (from torch==1.7.1->k2==1.17) (1.21.6)\n",
      "Requirement already satisfied: typing-extensions in /usr/local/lib/python3.8/dist-packages (from torch==1.7.1->k2==1.17) (4.4.0)\n",
      "Installing collected packages: k2\n",
      "Successfully installed k2-1.17\n"
     ]
    }
   ],
   "source": [
    "! pip install k2==1.17"
   ]
  },
  {
   "cell_type": "markdown",
   "metadata": {
    "id": "gCHNnNea8aTJ"
   },
   "source": [
    "Check that k2 was installed successfully:"
   ]
  },
  {
   "cell_type": "code",
   "execution_count": null,
   "metadata": {
    "id": "pkXbvb3I8cjN",
    "colab": {
     "base_uri": "https://localhost:8080/"
    },
    "outputId": "a9d3a4b2-4f81-4b70-a5bc-427f40b532fa"
   },
   "outputs": [
    {
     "output_type": "stream",
     "name": "stdout",
     "text": [
      "Collecting environment information...\n",
      "\n",
      "k2 version: 1.17\n",
      "Build type: Release\n",
      "Git SHA1: 3dc222f981b9fdbc8061b3782c3b385514a2d444\n",
      "Git date: Mon Jul 4 02:13:04 2022\n",
      "Cuda used to build k2: 10.1\n",
      "cuDNN used to build k2: 8.0.2\n",
      "Python version used to build k2: 3.8\n",
      "OS used to build k2: Ubuntu 18.04.6 LTS\n",
      "CMake version: 3.23.2\n",
      "GCC version: 5.5.0\n",
      "CMAKE_CUDA_FLAGS:   -lineinfo --expt-extended-lambda -use_fast_math -Xptxas=-w  --expt-extended-lambda -gencode arch=compute_35,code=sm_35  -lineinfo --expt-extended-lambda -use_fast_math -Xptxas=-w  --expt-extended-lambda -gencode arch=compute_50,code=sm_50  -lineinfo --expt-extended-lambda -use_fast_math -Xptxas=-w  --expt-extended-lambda -gencode arch=compute_60,code=sm_60  -lineinfo --expt-extended-lambda -use_fast_math -Xptxas=-w  --expt-extended-lambda -gencode arch=compute_61,code=sm_61  -lineinfo --expt-extended-lambda -use_fast_math -Xptxas=-w  --expt-extended-lambda -gencode arch=compute_70,code=sm_70  -lineinfo --expt-extended-lambda -use_fast_math -Xptxas=-w  --expt-extended-lambda -gencode arch=compute_75,code=sm_75 -D_GLIBCXX_USE_CXX11_ABI=0 --compiler-options -Wall  --compiler-options -Wno-strict-overflow  --compiler-options -Wno-unknown-pragmas \n",
      "CMAKE_CXX_FLAGS:  -D_GLIBCXX_USE_CXX11_ABI=0 -Wno-unused-variable  -Wno-strict-overflow \n",
      "PyTorch version used to build k2: 1.7.1+cu101\n",
      "PyTorch is using Cuda: 10.1\n",
      "NVTX enabled: True\n",
      "With CUDA: True\n",
      "Disable debug: True\n",
      "Sync kernels : False\n",
      "Disable checks: False\n",
      "Max cpu memory allocate: 214748364800\n",
      "k2 abort: False\n",
      "    \n"
     ]
    }
   ],
   "source": [
    "! python3 -m k2.version"
   ]
  },
  {
   "cell_type": "markdown",
   "metadata": {
    "id": "Th0fdUe58faO"
   },
   "source": [
    "### Install kaldifeat"
   ]
  },
  {
   "cell_type": "code",
   "execution_count": null,
   "metadata": {
    "colab": {
     "base_uri": "https://localhost:8080/"
    },
    "id": "NIQDLXJf8iU2",
    "outputId": "dc1403e0-416a-4e39-e8e6-4ccc137cc43b"
   },
   "outputs": [
    {
     "output_type": "stream",
     "name": "stdout",
     "text": [
      "Looking in indexes: https://pypi.org/simple, https://us-python.pkg.dev/colab-wheels/public/simple/\n",
      "Collecting kaldifeat==1.21\n",
      "  Downloading kaldifeat-1.21.tar.gz (482 kB)\n",
      "\u001B[K     |████████████████████████████████| 482 kB 5.1 MB/s \n",
      "\u001B[?25hBuilding wheels for collected packages: kaldifeat\n",
      "  Building wheel for kaldifeat (setup.py) ... \u001B[?25l\u001B[?25hdone\n",
      "  Created wheel for kaldifeat: filename=kaldifeat-1.21-cp38-cp38-linux_x86_64.whl size=269348 sha256=c9b8070d9512c5dee9443db1ed49328ebab9cd1d12e347c674b2ce6729faa8d6\n",
      "  Stored in directory: /root/.cache/pip/wheels/cd/32/ad/768cf2700e58c7899d3668e14e5a513c45e69e36f258b9d0d3\n",
      "Successfully built kaldifeat\n",
      "Installing collected packages: kaldifeat\n",
      "Successfully installed kaldifeat-1.21\n"
     ]
    }
   ],
   "source": [
    "! pip install kaldifeat==1.21"
   ]
  },
  {
   "cell_type": "markdown",
   "metadata": {
    "id": "hdv4qGXC8oKs"
   },
   "source": [
    "To check that kaldifeat was installed successfully, run"
   ]
  },
  {
   "cell_type": "code",
   "execution_count": null,
   "metadata": {
    "id": "0LKfjL-A8qwk",
    "colab": {
     "base_uri": "https://localhost:8080/"
    },
    "outputId": "c6f3f3ef-10bf-4d76-f576-0619b397a42f"
   },
   "outputs": [
    {
     "output_type": "stream",
     "name": "stdout",
     "text": [
      "1.21\n"
     ]
    }
   ],
   "source": [
    "! python3 -c \"import kaldifeat; print(kaldifeat.__version__)\""
   ]
  },
  {
   "cell_type": "markdown",
   "metadata": {
    "id": "NjGPYRJ18yvG"
   },
   "source": [
    "### Install icefall\n",
    "\n",
    "icefall is a collection of Python scripts. All you need is just to\n",
    "download its source code and set the `PYTHONPATH` environment variable."
   ]
  },
  {
   "cell_type": "code",
   "execution_count": null,
   "metadata": {
    "id": "H69upDK68zxv",
    "colab": {
     "base_uri": "https://localhost:8080/"
    },
    "outputId": "66e44c7e-f772-4186-d0d7-7fb6d09f3d02"
   },
   "outputs": [
    {
     "output_type": "stream",
     "name": "stdout",
     "text": [
      "Cloning into 'icefall'...\n",
      "remote: Enumerating objects: 10001, done.\u001B[K\n",
      "remote: Counting objects: 100% (82/82), done.\u001B[K\n",
      "remote: Compressing objects: 100% (63/63), done.\u001B[K\n",
      "remote: Total 10001 (delta 31), reused 47 (delta 15), pack-reused 9919\u001B[K\n",
      "Receiving objects: 100% (10001/10001), 11.91 MiB | 33.15 MiB/s, done.\n",
      "Resolving deltas: 100% (6829/6829), done.\n"
     ]
    }
   ],
   "source": [
    "! git clone https://github.com/k2-fsa/icefall\n"
   ]
  },
  {
   "cell_type": "code",
   "execution_count": null,
   "metadata": {
    "id": "uy29XgaB823B"
   },
   "outputs": [],
   "source": [
    "! pip install -q kaldialign sentencepiece>=0.1.96"
   ]
  },
  {
   "cell_type": "markdown",
   "metadata": {
    "id": "4vDQYo4YUqa3"
   },
   "source": [
    "### Load the data from My Drive"
   ]
  },
  {
   "cell_type": "code",
   "execution_count": null,
   "metadata": {
    "id": "mtzzoUmOUwRc",
    "colab": {
     "base_uri": "https://localhost:8080/"
    },
    "outputId": "6b8215d1-5eb3-4aaf-dff0-5236e6986578"
   },
   "outputs": [
    {
     "output_type": "stream",
     "name": "stdout",
     "text": [
      "Mounted at /content/drive\n"
     ]
    }
   ],
   "source": [
    "import os, sys\n",
    "from google.colab import drive\n",
    "drive.mount('/content/drive')\n"
   ]
  },
  {
   "cell_type": "markdown",
   "metadata": {
    "id": "vNHLxZ-S9BYD"
   },
   "source": [
    "## Download pre-trained conformer CTC model\n",
    "\n",
    "To make the following steps easier, we decide to download the model\n",
    "to `icefall/egs/librispeech/ASR/tmp`"
   ]
  },
  {
   "cell_type": "code",
   "execution_count": null,
   "metadata": {
    "id": "VlgKHGeSRww2",
    "colab": {
     "base_uri": "https://localhost:8080/"
    },
    "outputId": "772d92e4-f16e-4e4d-ea21-464647f71c48"
   },
   "outputs": [
    {
     "output_type": "stream",
     "name": "stdout",
     "text": [
      "Selecting previously unselected package libopencore-amrnb0:amd64.\n",
      "(Reading database ... 124016 files and directories currently installed.)\n",
      "Preparing to unpack .../0-libopencore-amrnb0_0.1.3-2.1_amd64.deb ...\n",
      "Unpacking libopencore-amrnb0:amd64 (0.1.3-2.1) ...\n",
      "Selecting previously unselected package libopencore-amrwb0:amd64.\n",
      "Preparing to unpack .../1-libopencore-amrwb0_0.1.3-2.1_amd64.deb ...\n",
      "Unpacking libopencore-amrwb0:amd64 (0.1.3-2.1) ...\n",
      "Selecting previously unselected package libmagic-mgc.\n",
      "Preparing to unpack .../2-libmagic-mgc_1%3a5.32-2ubuntu0.4_amd64.deb ...\n",
      "Unpacking libmagic-mgc (1:5.32-2ubuntu0.4) ...\n",
      "Selecting previously unselected package libmagic1:amd64.\n",
      "Preparing to unpack .../3-libmagic1_1%3a5.32-2ubuntu0.4_amd64.deb ...\n",
      "Unpacking libmagic1:amd64 (1:5.32-2ubuntu0.4) ...\n",
      "Selecting previously unselected package libsox3:amd64.\n",
      "Preparing to unpack .../4-libsox3_14.4.2-3ubuntu0.18.04.1_amd64.deb ...\n",
      "Unpacking libsox3:amd64 (14.4.2-3ubuntu0.18.04.1) ...\n",
      "Selecting previously unselected package libsox-fmt-alsa:amd64.\n",
      "Preparing to unpack .../5-libsox-fmt-alsa_14.4.2-3ubuntu0.18.04.1_amd64.deb ...\n",
      "Unpacking libsox-fmt-alsa:amd64 (14.4.2-3ubuntu0.18.04.1) ...\n",
      "Selecting previously unselected package libsox-fmt-base:amd64.\n",
      "Preparing to unpack .../6-libsox-fmt-base_14.4.2-3ubuntu0.18.04.1_amd64.deb ...\n",
      "Unpacking libsox-fmt-base:amd64 (14.4.2-3ubuntu0.18.04.1) ...\n",
      "Selecting previously unselected package sox.\n",
      "Preparing to unpack .../7-sox_14.4.2-3ubuntu0.18.04.1_amd64.deb ...\n",
      "Unpacking sox (14.4.2-3ubuntu0.18.04.1) ...\n",
      "Selecting previously unselected package tree.\n",
      "Preparing to unpack .../8-tree_1.7.0-5_amd64.deb ...\n",
      "Unpacking tree (1.7.0-5) ...\n",
      "Setting up tree (1.7.0-5) ...\n",
      "Setting up libmagic-mgc (1:5.32-2ubuntu0.4) ...\n",
      "Setting up libmagic1:amd64 (1:5.32-2ubuntu0.4) ...\n",
      "Setting up libopencore-amrnb0:amd64 (0.1.3-2.1) ...\n",
      "Setting up libopencore-amrwb0:amd64 (0.1.3-2.1) ...\n",
      "Setting up libsox3:amd64 (14.4.2-3ubuntu0.18.04.1) ...\n",
      "Setting up libsox-fmt-base:amd64 (14.4.2-3ubuntu0.18.04.1) ...\n",
      "Setting up libsox-fmt-alsa:amd64 (14.4.2-3ubuntu0.18.04.1) ...\n",
      "Setting up sox (14.4.2-3ubuntu0.18.04.1) ...\n",
      "Processing triggers for libc-bin (2.27-3ubuntu1.6) ...\n",
      "Processing triggers for man-db (2.8.3-2ubuntu0.1) ...\n",
      "Processing triggers for mime-support (3.60ubuntu1) ...\n"
     ]
    }
   ],
   "source": [
    "! apt-get install -y -qq tree sox git-lfs"
   ]
  },
  {
   "cell_type": "code",
   "execution_count": null,
   "metadata": {
    "id": "EEPVvIXZgxgS",
    "colab": {
     "base_uri": "https://localhost:8080/"
    },
    "outputId": "f0024e9e-c06d-472b-96b0-ff95cae87a45"
   },
   "outputs": [
    {
     "output_type": "stream",
     "name": "stdout",
     "text": [
      "Updated git hooks.\n",
      "Git LFS initialized.\n",
      "Cloning into 'icefall_asr_librispeech_conformer_ctc'...\n",
      "POST git-upload-pack (165 bytes)\n",
      "remote: Enumerating objects: 55, done.\u001B[K\n",
      "remote: Counting objects: 100% (55/55), done.\u001B[K\n",
      "remote: Compressing objects: 100% (51/51), done.\u001B[K\n",
      "remote: Total 55 (delta 14), reused 0 (delta 0), pack-reused 0\u001B[K\n",
      "Unpacking objects: 100% (55/55), done.\n",
      "tcmalloc: large alloc 1471086592 bytes == 0x560e743e0000 @  0x7fae09ab22a4 0x560e3899578f 0x560e389728db 0x560e389275b3 0x560e388cb34a 0x560e388cb806 0x560e388e8ad1 0x560e388e9069 0x560e388e9593 0x560e3898e482 0x560e3882ecc2 0x560e38815a75 0x560e38816735 0x560e3881573a 0x7fae08df9c87 0x560e3881578a\n",
      "tcmalloc: large alloc 2206621696 bytes == 0x560ecbed0000 @  0x7fae09ab22a4 0x560e3899578f 0x560e389728db 0x560e389275b3 0x560e388cb34a 0x560e388cb806 0x560e388e8ad1 0x560e388e9069 0x560e388e9593 0x560e3898e482 0x560e3882ecc2 0x560e38815a75 0x560e38816735 0x560e3881573a 0x7fae08df9c87 0x560e3881578a\n",
      "tcmalloc: large alloc 3309936640 bytes == 0x560f4f736000 @  0x7fae09ab22a4 0x560e3899578f 0x560e389728db 0x560e389275b3 0x560e388cb34a 0x560e388cb806 0x560e388e8ad1 0x560e388e9069 0x560e388e9593 0x560e3898e482 0x560e3882ecc2 0x560e38815a75 0x560e38816735 0x560e3881573a 0x7fae08df9c87 0x560e3881578a\n",
      "tcmalloc: large alloc 2206621696 bytes == 0x560ecbed0000 @  0x7fae09ab22a4 0x560e3899578f 0x560e389728db 0x560e389275b3 0x560e388cb34a 0x560e388cb806 0x560e388e8ad1 0x560e388e9069 0x560e388e9593 0x560e3898e482 0x560e3882ecc2 0x560e38815a75 0x560e38816735 0x560e3881573a 0x7fae08df9c87 0x560e3881578a\n",
      "tcmalloc: large alloc 3309936640 bytes == 0x560f4f736000 @  0x7fae09ab22a4 0x560e3899578f 0x560e389728db 0x560e389275b3 0x560e388cb34a 0x560e388cb806 0x560e388e8ad1 0x560e388e9069 0x560e388e9593 0x560e3898e482 0x560e3882ecc2 0x560e38815a75 0x560e38816735 0x560e3881573a 0x7fae08df9c87 0x560e3881578a\n",
      "tcmalloc: large alloc 4964900864 bytes == 0x561046e0c000 @  0x7fae09ab22a4 0x560e3899578f 0x560e389728db 0x560e389275b3 0x560e388cb34a 0x560e388cb806 0x560e388e8ad1 0x560e388e9069 0x560e388e9593 0x560e3898e482 0x560e3882ecc2 0x560e38815a75 0x560e38816735 0x560e3881573a 0x7fae08df9c87 0x560e3881578a\n",
      "Filtering content: 100% (6/6), 6.56 GiB | 59.42 MiB/s, done.\n",
      "/bin/bash: tree: command not found\n"
     ]
    }
   ],
   "source": [
    "! cd /content/icefall/egs/librispeech/ASR && \\\n",
    "  mkdir tmp1 && \\\n",
    "  cd tmp1 && \\\n",
    "  git lfs install && \\\n",
    "  git clone -v https://huggingface.co/pkufool/icefall_asr_librispeech_conformer_ctc && \\\n",
    "  cd icefall_asr_librispeech_conformer_ctc && \\\n",
    "  cd ../.. && \\\n",
    "  tree tmp1\n",
    "\n"
   ]
  },
  {
   "cell_type": "code",
   "execution_count": null,
   "metadata": {
    "colab": {
     "base_uri": "https://localhost:8080/"
    },
    "id": "O57iFMrSZTZd",
    "outputId": "2c373e14-a7a0-459e-faa0-928c84ef9590"
   },
   "outputs": [
    {
     "output_type": "stream",
     "name": "stdout",
     "text": [
      "\n",
      "Input File     : '/content/drive/MyDrive/Neurological_Signals/PEC_7_ses1_Naming_object_1.wav'\n",
      "Channels       : 1\n",
      "Sample Rate    : 24000\n",
      "Precision      : 16-bit\n",
      "Duration       : 00:00:03.50 = 84000 samples ~ 262.5 CDDA sectors\n",
      "File Size      : 168k\n",
      "Bit Rate       : 384k\n",
      "Sample Encoding: 16-bit Signed Integer PCM\n",
      "\n"
     ]
    }
   ],
   "source": [
    "! soxi /content/drive/MyDrive/Neurological_Signals/PEC_7_ses1_Naming_object_1.wav"
   ]
  },
  {
   "cell_type": "markdown",
   "metadata": {
    "id": "OZODnqAPyk6c"
   },
   "source": [
    "### Change sample rate for decoding from 48000 to 16000"
   ]
  },
  {
   "cell_type": "code",
   "execution_count": null,
   "metadata": {
    "id": "u5H0vydFzT9k"
   },
   "outputs": [],
   "source": [
    "import glob\n",
    "from pathlib import Path\n",
    "import os"
   ]
  },
  {
   "cell_type": "code",
   "execution_count": null,
   "metadata": {
    "colab": {
     "base_uri": "https://localhost:8080/"
    },
    "id": "iVGXShadjgeV",
    "outputId": "e97383da-7e0f-434b-cf0b-6ba9366950ee"
   },
   "outputs": [
    {
     "output_type": "execute_result",
     "data": {
      "text/plain": [
       "381"
      ]
     },
     "metadata": {},
     "execution_count": 19
    }
   ],
   "source": [
    "# original dataset path\n",
    "path1 = \"/content/drive/MyDrive/NLS7/\"\n",
    "\n",
    "#os.chdir(path1)\n",
    "\n",
    "# save path\n",
    "path2 = \"/content/drive/MyDrive/NLS7/NLS7_16k/\"\n",
    "\n",
    "audio_paths = glob.glob(path1 + '/*.wav')\n",
    "len(audio_paths)\n"
   ]
  },
  {
   "cell_type": "code",
   "execution_count": null,
   "metadata": {
    "colab": {
     "base_uri": "https://localhost:8080/"
    },
    "id": "9HXyegmeyjsO",
    "outputId": "a6661b01-b219-43e6-9a58-e588c6c98cb2"
   },
   "outputs": [
    {
     "output_type": "stream",
     "name": "stdout",
     "text": [
      "1\n",
      "2\n",
      "3\n",
      "4\n",
      "5\n",
      "6\n",
      "7\n",
      "8\n",
      "9\n",
      "10\n",
      "11\n",
      "12\n",
      "13\n",
      "14\n",
      "15\n",
      "16\n",
      "17\n",
      "18\n",
      "19\n",
      "20\n",
      "21\n",
      "22\n",
      "23\n",
      "24\n",
      "25\n",
      "26\n",
      "27\n",
      "28\n",
      "29\n",
      "30\n",
      "31\n",
      "32\n",
      "33\n",
      "34\n",
      "35\n",
      "36\n",
      "37\n",
      "38\n",
      "39\n",
      "40\n",
      "41\n",
      "42\n",
      "43\n",
      "44\n",
      "45\n",
      "46\n",
      "47\n",
      "48\n",
      "49\n",
      "50\n",
      "51\n",
      "52\n",
      "53\n",
      "54\n",
      "55\n",
      "56\n",
      "57\n",
      "58\n",
      "59\n",
      "60\n",
      "61\n",
      "62\n",
      "63\n",
      "64\n",
      "65\n",
      "66\n",
      "67\n",
      "68\n",
      "69\n",
      "70\n",
      "71\n",
      "72\n",
      "73\n",
      "74\n",
      "75\n",
      "76\n",
      "77\n",
      "78\n",
      "79\n",
      "80\n",
      "81\n",
      "82\n",
      "83\n",
      "84\n",
      "85\n",
      "86\n",
      "87\n",
      "88\n",
      "89\n",
      "90\n",
      "91\n",
      "92\n",
      "93\n",
      "94\n",
      "95\n",
      "96\n",
      "97\n",
      "98\n",
      "99\n",
      "100\n",
      "101\n",
      "102\n",
      "103\n",
      "104\n",
      "105\n",
      "106\n",
      "107\n",
      "108\n",
      "109\n",
      "110\n",
      "111\n",
      "112\n",
      "113\n",
      "114\n",
      "115\n",
      "116\n",
      "117\n",
      "118\n",
      "119\n",
      "120\n",
      "121\n",
      "122\n",
      "123\n",
      "124\n",
      "125\n",
      "126\n",
      "127\n",
      "128\n",
      "129\n",
      "130\n",
      "131\n",
      "132\n",
      "133\n",
      "134\n",
      "135\n",
      "136\n",
      "137\n",
      "138\n",
      "139\n",
      "140\n",
      "141\n",
      "142\n",
      "143\n",
      "144\n",
      "145\n",
      "146\n",
      "147\n",
      "148\n",
      "149\n",
      "150\n",
      "151\n",
      "152\n",
      "153\n",
      "154\n",
      "155\n",
      "156\n",
      "157\n",
      "158\n",
      "159\n",
      "160\n",
      "161\n",
      "162\n",
      "163\n",
      "164\n",
      "165\n",
      "166\n",
      "167\n",
      "168\n",
      "169\n",
      "170\n",
      "171\n",
      "172\n",
      "173\n",
      "174\n",
      "175\n",
      "176\n",
      "177\n",
      "178\n",
      "179\n",
      "180\n",
      "181\n",
      "182\n",
      "183\n",
      "184\n",
      "185\n",
      "186\n",
      "187\n",
      "188\n",
      "189\n",
      "190\n",
      "191\n",
      "192\n",
      "193\n",
      "194\n",
      "195\n",
      "196\n",
      "197\n",
      "198\n",
      "199\n",
      "200\n",
      "201\n",
      "202\n",
      "203\n",
      "204\n",
      "205\n",
      "206\n",
      "207\n",
      "208\n",
      "209\n",
      "210\n",
      "211\n",
      "212\n",
      "213\n",
      "214\n",
      "215\n",
      "216\n",
      "217\n",
      "218\n",
      "219\n",
      "220\n",
      "221\n",
      "222\n",
      "223\n",
      "224\n",
      "225\n",
      "226\n",
      "227\n",
      "228\n",
      "229\n",
      "230\n",
      "231\n",
      "232\n",
      "233\n",
      "234\n",
      "235\n",
      "236\n",
      "237\n",
      "238\n",
      "239\n",
      "240\n",
      "241\n",
      "242\n",
      "243\n",
      "244\n",
      "245\n",
      "246\n",
      "247\n",
      "248\n",
      "249\n",
      "250\n",
      "251\n",
      "252\n",
      "253\n",
      "254\n",
      "255\n",
      "256\n",
      "257\n",
      "258\n",
      "259\n",
      "260\n",
      "261\n",
      "262\n",
      "263\n",
      "264\n",
      "265\n",
      "266\n",
      "267\n",
      "268\n",
      "269\n",
      "270\n",
      "271\n",
      "272\n",
      "273\n",
      "274\n",
      "275\n",
      "276\n",
      "277\n",
      "278\n",
      "279\n",
      "280\n",
      "281\n",
      "282\n",
      "283\n",
      "284\n",
      "285\n",
      "286\n",
      "287\n",
      "288\n",
      "289\n",
      "290\n",
      "291\n",
      "292\n",
      "293\n",
      "294\n",
      "295\n",
      "296\n",
      "297\n",
      "298\n",
      "299\n",
      "300\n",
      "301\n",
      "302\n",
      "303\n",
      "304\n",
      "305\n",
      "306\n",
      "307\n",
      "308\n",
      "309\n",
      "310\n",
      "311\n",
      "312\n",
      "313\n",
      "314\n",
      "315\n",
      "316\n",
      "317\n",
      "318\n",
      "319\n",
      "320\n",
      "321\n",
      "322\n",
      "323\n",
      "324\n",
      "325\n",
      "326\n",
      "327\n",
      "328\n",
      "329\n",
      "330\n",
      "331\n",
      "332\n",
      "333\n",
      "334\n",
      "335\n",
      "336\n",
      "337\n",
      "338\n",
      "339\n",
      "340\n",
      "341\n",
      "342\n",
      "343\n",
      "344\n",
      "345\n",
      "346\n",
      "347\n",
      "348\n",
      "349\n",
      "350\n",
      "351\n",
      "352\n",
      "353\n",
      "354\n",
      "355\n",
      "356\n",
      "357\n",
      "358\n",
      "359\n",
      "360\n",
      "361\n",
      "362\n",
      "363\n",
      "364\n",
      "365\n",
      "366\n",
      "367\n",
      "368\n",
      "369\n",
      "370\n",
      "371\n",
      "372\n",
      "373\n",
      "374\n",
      "375\n",
      "376\n",
      "377\n",
      "378\n",
      "379\n",
      "380\n",
      "381\n",
      "381\n"
     ]
    }
   ],
   "source": [
    "audio_paths = glob.glob(path1 + '/*.wav')\n",
    "\n",
    "os.chdir(path2)\n",
    "\n",
    "count = 0\n",
    "for i in range(len(audio_paths)):\n",
    "  name = audio_paths[i]\n",
    "  name=name.split(\"/\")[-1].split(\".\")[0]\n",
    "  file_name_original =  path1 + name + '.wav'\n",
    "  file_name_resample =  path2 + name + '-16k.wav'\n",
    "  command = \"sox \"+ file_name_original +\" -r 16000 \"+ file_name_resample\n",
    "  os.system(command)\n",
    "  count += 1\n",
    "\n",
    "  print(count)\n",
    "\n",
    "print(count)\n",
    "\n"
   ]
  },
  {
   "cell_type": "markdown",
   "metadata": {
    "id": "AmP6AcV6aLZK"
   },
   "source": [
    "### CTC Decoding"
   ]
  },
  {
   "cell_type": "code",
   "execution_count": null,
   "metadata": {
    "id": "Wm4c2nlO-hKd"
   },
   "outputs": [],
   "source": [
    "import glob\n",
    "from pathlib import Path\n",
    "import os\n",
    "\n"
   ]
  },
  {
   "cell_type": "code",
   "execution_count": null,
   "metadata": {
    "colab": {
     "base_uri": "https://localhost:8080/"
    },
    "id": "mYV7NNPDBx6_",
    "outputId": "30945b4b-eba2-41c5-cd6c-251f5d115159"
   },
   "outputs": [
    {
     "output_type": "stream",
     "name": "stdout",
     "text": [
      "['/content/drive/MyDrive/DATA_NEW/test/test_dataset_16k/AD_1_ses1_Blue_green-16k.wav', '/content/drive/MyDrive/DATA_NEW/test/test_dataset_16k/AD_1_ses1_CookieThief-16k.wav']\n",
      "/usr/local/lib/python3.8/dist-packages/torchaudio/backend/utils.py:53: UserWarning: \"sox\" backend is being deprecated. The default backend will be changed to \"sox_io\" backend in 0.8.0 and \"sox\" backend will be removed in 0.9.0. Please migrate to \"sox_io\" backend. Please refer to https://github.com/pytorch/audio/issues/903 for the detail.\n",
      "  warnings.warn(\n",
      "2022-12-27 02:06:11,170 INFO [pretrained.py:258] {'sample_rate': 16000, 'subsampling_factor': 4, 'vgg_frontend': False, 'use_feat_batchnorm': True, 'feature_dim': 80, 'nhead': 8, 'attention_dim': 512, 'num_decoder_layers': 0, 'search_beam': 20, 'output_beam': 8, 'min_active_states': 30, 'max_active_states': 10000, 'use_double_scores': True, 'checkpoint': './tmp1/icefall_asr_librispeech_conformer_ctc/exp/pretrained.pt', 'words_file': None, 'HLG': None, 'bpe_model': './tmp1/icefall_asr_librispeech_conformer_ctc/data/lang_bpe/bpe.model', 'method': 'ctc-decoding', 'G': None, 'num_paths': 100, 'ngram_lm_scale': 1.3, 'attention_decoder_scale': 1.2, 'nbest_scale': 0.5, 'sos_id': 1, 'num_classes': 5000, 'eos_id': 1, 'sound_files': ['/content/drive/MyDrive/DATA_NEW/test/test_dataset_16k/AD_1_ses1_CookieThief-16k.wav']}\n",
      "2022-12-27 02:06:11,844 INFO [pretrained.py:264] device: cuda:0\n",
      "2022-12-27 02:06:11,844 INFO [pretrained.py:266] Creating model\n",
      "2022-12-27 02:06:21,001 INFO [pretrained.py:283] Constructing Fbank computer\n",
      "2022-12-27 02:06:21,005 INFO [pretrained.py:293] Reading sound files: ['/content/drive/MyDrive/DATA_NEW/test/test_dataset_16k/AD_1_ses1_CookieThief-16k.wav']\n",
      "2022-12-27 02:06:21,340 INFO [pretrained.py:299] Decoding started\n",
      "2022-12-27 02:06:21,672 INFO [pretrained.py:315] Use CTC decoding\n",
      "2022-12-27 02:06:22,116 INFO [pretrained.py:421] \n",
      "/content/drive/MyDrive/DATA_NEW/test/test_dataset_16k/AD_1_ses1_CookieThief-16k.wav:\n",
      "A LITTLE GIRL WITH PROBABLY BROTHER WHO'S FALLEN ON A STOOL REACHING FOR COOKY IN THE COOKY JAR MOB STANDING AT TO SINK WASH DISHES AS THE SINK OVERFLOWS WITH WATER THERE'S A VIEW OF THE BACK YARD THAT LOOKS LIKE WITH BUSHES AND A SIDEWALK AND ON THE COUNTERTOP ARE TWO CUPS AND A PLATE THINK THAT'S IT TREES AND BUSHES OUTSIDE THE WINDOW SIDEW WALKK SIDE OF THE HOUSE I'D SEE PO\n",
      "\n",
      "\n",
      "\n",
      "/content/drive/MyDrive/DATA_NEW/test/test_dataset_16k/AD_1_ses1_CookieThief-16k.wav:\n",
      "A LITTLE GIRL WITH PROBABLY BROTHER WHO'S FALLEN ON A STOOL REACHING FOR COOKY IN THE COOKY JAR MOB STANDING AT TO SINK WASH DISHES AS THE SINK OVERFLOWS WITH WATER THERE'S A VIEW OF THE BACK YARD THAT LOOKS LIKE WITH BUSHES AND A SIDEWALK AND ON THE COUNTERTOP ARE TWO CUPS AND A PLATE THINK THAT'S IT TREES AND BUSHES OUTSIDE THE WINDOW SIDEW WALKK SIDE OF THE HOUSE I'D SEE PO\n",
      "\n",
      "\n",
      "2022-12-27 02:06:22,116 INFO [pretrained.py:424] Decoding Done\n"
     ]
    }
   ],
   "source": [
    "path3 = '/content/drive/MyDrive/DATA_NEW/test_dataset_16k/'\n",
    "\n",
    "audio_paths = glob.glob(path3 + '/*.wav')\n",
    "\n",
    "print(audio_paths)\n",
    "\n",
    "! cd /content/icefall/egs/librispeech/ASR && \\\n",
    "    PYTHONPATH=/content/icefall python3 ./conformer_ctc/pretrained.py \\\n",
    "      --method ctc-decoding \\\n",
    "      --checkpoint ./tmp1/icefall_asr_librispeech_conformer_ctc/exp/pretrained.pt \\\n",
    "      --bpe-model ./tmp1/icefall_asr_librispeech_conformer_ctc/data/lang_bpe/bpe.model \\\n",
    "      --num-classes 5000 \\\n",
    "      '/content/drive/MyDrive/DATA_NEW/test/test_dataset_16k/AD_1_ses1_CookieThief-16k.wav'\n",
    "\n",
    "\n"
   ]
  }
 ],
 "metadata": {
  "accelerator": "GPU",
  "colab": {
   "machine_shape": "hm",
   "provenance": [],
   "collapsed_sections": [
    "OZODnqAPyk6c"
   ]
  },
  "kernelspec": {
   "display_name": "Python 3",
   "name": "python3"
  },
  "language_info": {
   "name": "python"
  }
 },
 "nbformat": 4,
 "nbformat_minor": 0
}