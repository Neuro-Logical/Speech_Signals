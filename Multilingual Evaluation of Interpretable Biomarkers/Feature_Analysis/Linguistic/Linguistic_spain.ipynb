{
 "cells": [
  {
   "cell_type": "code",
   "execution_count": 145,
   "id": "d7960e7c",
   "metadata": {},
   "outputs": [],
   "source": [
    "import os\n",
    "from sklearn import metrics\n",
    "from utils import *\n",
    "import seaborn as sns\n",
    "import pandas as pd\n",
    "import numpy as np\n",
    "from nltk.corpus import stopwords\n",
    "import spacy\n",
    "from spacy.matcher import Matcher"
   ]
  },
  {
   "cell_type": "code",
   "execution_count": null,
   "outputs": [],
   "source": [
    "input_dir = '/export/b15/afavaro/Frontiers/Neurovoz_data/Whole_transcr/'\n",
    "path = []\n",
    "for ok in os.listdir(input_dir):\n",
    "    if ok.endswith('.txt'):\n",
    "        path.append(os.path.join(input_dir, ok))"
   ],
   "metadata": {
    "collapsed": false,
    "pycharm": {
     "name": "#%%\n"
    }
   }
  },
  {
   "cell_type": "code",
   "execution_count": 151,
   "id": "5f451fa1",
   "metadata": {},
   "outputs": [],
   "source": [
    "# Create dataframe\n",
    "tasks=[]\n",
    "label__ =[]\n",
    "name_id = []\n",
    "transc = []\n",
    "for every in path:\n",
    "    name_id.append(os.path.basename(every).split('-', -1)[0])\n",
    "    with open(every, \"r\") as f:\n",
    "        string_without_line_breaks = \"\"\n",
    "        for line in f:\n",
    "            stripped_line = line.rstrip()\n",
    "            string_without_line_breaks += stripped_line\n",
    "            transc.append(string_without_line_breaks)\n",
    "            every = os.path.basename(every)\n",
    "            tasks.append(every.split(\"_\")[1])#.split(\"_\")\n",
    "            label__.append(every.split(\"_\")[0])\n",
    "\n",
    "df= pd.DataFrame(\n",
    "    {'idx': name_id, \n",
    "     'sentence': transc,\n",
    "     'label': label__,\n",
    "     'task': tasks\n",
    "    })\n",
    "\n",
    "df['sentence'] = df['sentence'].str.lower()"
   ]
  },
  {
   "cell_type": "markdown",
   "id": "03589f82",
   "metadata": {},
   "source": [
    "## Feature Extraction"
   ]
  },
  {
   "cell_type": "code",
   "execution_count": 154,
   "id": "aa2ad94f",
   "metadata": {},
   "outputs": [],
   "source": [
    "# Create a function to preprocess the text\n",
    "#Customized list of stopwords \n",
    "nlp = spacy.load(\"es_core_news_sm\")\n",
    "stopwords = list(stopwords.words('spanish'))\n",
    "\n",
    "def preprocess(text):\n",
    "    \"\"\"This is a function to perform tokenization, lemmatization, removal of non-alphabetic characters\n",
    "    and stopword removal\"\"\"\n",
    "  # Create Doc object\n",
    "    doc = nlp(text, disable=['ner'])\n",
    "    # Generate lemmas\n",
    "    lemmas = [token.lemma_ for token in doc]\n",
    "    # Remove stopwords and non-alphabetic characters\n",
    "    a_lemmas = [lemma for lemma in lemmas \n",
    "            if lemma.isalpha() and lemma not in stopwords]\n",
    "    return ' '.join(a_lemmas)\n",
    "\n",
    "df['Item'] = df['sentence'].apply(preprocess)"
   ]
  },
  {
   "cell_type": "code",
   "execution_count": 156,
   "id": "2d5b102b",
   "metadata": {},
   "outputs": [],
   "source": [
    "def count_words(string):\n",
    "    \"\"\"This function returns the number of words in a string\"\"\"\n",
    "    # Split the string into words\n",
    "    words = string.split()\n",
    "    # Return the number of words\n",
    "    return len(words)\n",
    "\n",
    "df['Word_Count'] = df['sentence'].apply(count_words)\n",
    "\n",
    "df['Word_Count_No_stop_words'] = df['Item'].apply(count_words)"
   ]
  },
  {
   "cell_type": "code",
   "execution_count": 157,
   "id": "66d0ed0f",
   "metadata": {},
   "outputs": [],
   "source": [
    "def word_length(string):\n",
    "    \"\"\"This function returns the average word length in characters for the words in an item\"\"\"\n",
    "    #Get the length of the full text in characters\n",
    "    chars = len(string)\n",
    "    #Split the string into words\n",
    "    words = string.split()\n",
    "    #Compute the average word length and round the output to the second decimal point\n",
    "    if len(words)!=0:\n",
    "        avg_word_length = chars/len(words)\n",
    "        return round(avg_word_length, 2)\n",
    "df['Avg_Word_Length'] = df['Item'].apply(word_length)"
   ]
  },
  {
   "cell_type": "code",
   "execution_count": 158,
   "id": "d0fde810",
   "metadata": {},
   "outputs": [],
   "source": [
    "def sentence_counter(text):\n",
    "    '''This function returns the number of sentences in an item'''\n",
    "    doc = nlp(text)\n",
    "    #Initialize a counter variable\n",
    "    counter = 0\n",
    "    #Update the counter for each sentence which can be found in the doc.sents object returned by the Spacy model\n",
    "    for sentence in doc.sents:\n",
    "        counter = counter + 1\n",
    "    return counter\n",
    "df['Sentence_Count'] = df['sentence'].apply(sentence_counter)"
   ]
  },
  {
   "cell_type": "code",
   "execution_count": 159,
   "id": "791f2384",
   "metadata": {},
   "outputs": [],
   "source": [
    "def avg_sent_length(text):\n",
    "    '''This function returns the average sentence length in an item'''\n",
    "    doc = nlp(text)\n",
    "    #Initialize a counter variable\n",
    "    sent_number = 0\n",
    "    #Update the counter for each sentence which can be found in the doc.sents object returned by the Spacy model\n",
    "    for sent in doc.sents:\n",
    "        sent_number = sent_number + 1\n",
    "    #Get the number of words\n",
    "    words = text.split()\n",
    "    #Compute the average sentence length and round it to the second decimal point\n",
    "    avg_sent_length = len(words)/sent_number\n",
    "    return round(avg_sent_length, 2)\n",
    "\n",
    "df['Avg_Sent_Length_in_Words'] = df['sentence'].apply(avg_sent_length)"
   ]
  },
  {
   "cell_type": "code",
   "execution_count": 160,
   "id": "b6f94692",
   "metadata": {},
   "outputs": [],
   "source": [
    "def nouns(text, model=nlp):\n",
    "    '''This function returns the number of nouns in an item'''\n",
    "    # Create doc object \n",
    "    doc = model(text)\n",
    "    # Generate list of POS tags\n",
    "    pos = [token.pos_ for token in doc]\n",
    "    # Return number of nouns\n",
    "    return pos.count('NOUN')\n",
    "\n",
    "df['Noun_Count'] = df['Item'].apply(nouns)"
   ]
  },
  {
   "cell_type": "code",
   "execution_count": 161,
   "id": "2582fa87",
   "metadata": {},
   "outputs": [],
   "source": [
    "def verbs(text, model=nlp):\n",
    "    '''This function returns the number of verbs in an item'''\n",
    "    # Create doc object\n",
    "    doc = model(text)\n",
    "    # Generate list of POS tags\n",
    "    pos = [token.pos_ for token in doc]\n",
    "    # Return number of verbs\n",
    "    return pos.count('VERB')\n",
    "\n",
    "df['Verb_Count'] = df['Item'].apply(verbs)"
   ]
  },
  {
   "cell_type": "code",
   "execution_count": 162,
   "id": "440808e1",
   "metadata": {},
   "outputs": [],
   "source": [
    "def adjectives(text, model=nlp):\n",
    "    '''This function returns the number of adjectives in an item'''\n",
    "    # Create doc object\n",
    "    doc = model(text)\n",
    "    # Generate list of POS tags\n",
    "    pos = [token.pos_ for token in doc]\n",
    "    # Return number of adjectives\n",
    "    return pos.count('ADJ')\n",
    "\n",
    "df['Adjective_Count'] = df['Item'].apply(adjectives)"
   ]
  },
  {
   "cell_type": "code",
   "execution_count": 163,
   "id": "fa67da14",
   "metadata": {},
   "outputs": [],
   "source": [
    "def adverbs(text, model=nlp):\n",
    "    '''This function returns the number of adverbs in an item'''\n",
    "    # Create doc object\n",
    "    doc = model(text)\n",
    "    # Generate list of POS tags\n",
    "    pos = [token.pos_ for token in doc]\n",
    "    # Return number of adverbs\n",
    "    return pos.count('ADV')\n",
    "\n",
    "df['Adverb_Count'] = df['Item'].apply(adverbs)"
   ]
  },
  {
   "cell_type": "code",
   "execution_count": 164,
   "id": "58761ae3",
   "metadata": {},
   "outputs": [],
   "source": [
    "def numeral(text, model=nlp):\n",
    "    '''This function returns the number of numerals (e.g., billion) in an item'''\n",
    "    # Create doc object\n",
    "    doc = model(text)\n",
    "    # Generate list of POS tags\n",
    "    pos = [token.pos_ for token in doc]\n",
    "    # Return number of adverbs\n",
    "    return pos.count('NUM')\n",
    "df['Numeral_Count'] = df['sentence'].apply(numeral)"
   ]
  },
  {
   "cell_type": "code",
   "execution_count": 165,
   "id": "203ddced",
   "metadata": {},
   "outputs": [],
   "source": [
    "def aux(text, model=nlp):\n",
    "    '''This function returns the number of auxiliary in an item'''\n",
    "    # Create doc object\n",
    "    doc = model(text)\n",
    "    # Generate list of POS tags\n",
    "    pos = [token.pos_ for token in doc]\n",
    "    # Return number of adverbs\n",
    "    return pos.count('AUX')\n",
    "\n",
    "df['Auxiliary_Count'] = df['sentence'].apply(aux) #meglio estrarlo dall'originale"
   ]
  },
  {
   "cell_type": "code",
   "execution_count": 166,
   "id": "8a5c6f78",
   "metadata": {},
   "outputs": [],
   "source": [
    "def get_nps(text):\n",
    "    '''This is a function that outputs the number of noun phrases in an item'''\n",
    "    doc = nlp(text)\n",
    "    NP_count = 0\n",
    "    for np in doc.noun_chunks:\n",
    "        NP_count = NP_count + 1\n",
    "    return NP_count\n",
    "    #print(np)\n",
    "\n",
    "df['Number_of_NPs'] = df['Item'].apply(get_nps)"
   ]
  },
  {
   "cell_type": "code",
   "execution_count": 167,
   "id": "184c9012",
   "metadata": {},
   "outputs": [],
   "source": [
    "def get_pps(text):\n",
    "    '''This is a function that outputs the number of prepositional phrases in an item'''\n",
    "    doc = nlp(text)\n",
    "    pps = 0\n",
    "    for token in doc:\n",
    "        # You can try this with other parts of speech for different subtrees.\n",
    "        if token.pos_ == 'ADP':\n",
    "            \n",
    "            #Use the command below if you wanted to get the actual PPs\n",
    "            #pp = ' '.join([tok.orth_ for tok in token.subtree])\n",
    "            \n",
    "            #This command counts the number of PPs\n",
    "            pps = pps + 1\n",
    "            \n",
    "    return pps\n",
    "df['Number_of_PPs'] = df['Item'].apply(get_pps)"
   ]
  },
  {
   "cell_type": "code",
   "execution_count": 168,
   "id": "06801453",
   "metadata": {},
   "outputs": [],
   "source": [
    "pattern = [{'POS': 'VERB', 'OP': '?'},\n",
    "           {'POS': 'ADV', 'OP': '*'},\n",
    "           {'POS': 'AUX', 'OP': '*'},\n",
    "           {'POS': 'VERB', 'OP': '+'}]\n",
    "\n",
    "\n",
    "def get_vps(text):\n",
    "    '''This function returns the number of verb phrases in an item'''\n",
    "    doc = nlp(text)\n",
    "    vps = 0\n",
    "    # instantiate a Matcher instance\n",
    "    matcher = Matcher(nlp.vocab)\n",
    "    matcher.add(\"Verb phrase\", [pattern], on_match=None) #new syntax of the command\n",
    "    # call the matcher to find matches \n",
    "    matches = matcher(doc)\n",
    "    spans = [doc[start:end] for _, start, end in matches]\n",
    "    for match in matches:\n",
    "        vps = vps +1\n",
    "    return vps\n",
    "df['Number_of_VPs'] = df['Item'].apply(get_vps)"
   ]
  },
  {
   "cell_type": "code",
   "execution_count": 169,
   "id": "49e62bd8",
   "metadata": {},
   "outputs": [],
   "source": [
    "def informational_verb(text):\n",
    "    \n",
    "    '''Exhaustivness of the description operationalized by \n",
    "    counting how many (if any) salient items (nouns) are mentioned. '''\n",
    "    \n",
    "    cont_con = 0\n",
    "    \n",
    "    if \"lavando\" in text:\n",
    "        cont_con = cont_con + 1\n",
    "        \n",
    "    if \"lavar\" in text:\n",
    "        cont_con = cont_con + 1\n",
    "        \n",
    "    if \"barrer\" in text:\n",
    "        cont_con = cont_con + 1\n",
    "    \n",
    "    if \"barriendo\" in text:\n",
    "        cont_con = cont_con + 1\n",
    "      \n",
    "    if \"ducharse\" in text:\n",
    "        cont_con = cont_con + 1\n",
    "        \n",
    "    if \"bañarse\" in text:\n",
    "        cont_con = cont_con + 1\n",
    "    \n",
    "    if \"duchandose\" in text:\n",
    "        cont_con = cont_con + 1\n",
    "        \n",
    "    if \"lavandose\" in text:\n",
    "        cont_con = cont_con + 1\n",
    "\n",
    "    if \"pesar\" in text:\n",
    "        cont_con = cont_con + 1\n",
    "        \n",
    "    if \"pesando\" in text:\n",
    "        cont_con = cont_con + 1\n",
    "        \n",
    "    if \"duchando\" in text:\n",
    "        cont_con = cont_con + 1\n",
    "\n",
    "    return cont_con\n",
    "df['informational_verb'] = df['sentence'].apply(informational_verb)"
   ]
  },
  {
   "cell_type": "code",
   "execution_count": 170,
   "id": "0f0f2368",
   "metadata": {},
   "outputs": [],
   "source": [
    "task_grouped_ = df.groupby('task')\n",
    "concatenateread = task_grouped_.get_group(\"concatenateread\")\n",
    "ESPONTANEA = task_grouped_.get_group(\"ESPONTANEA\")"
   ]
  },
  {
   "cell_type": "markdown",
   "id": "41e75c7a",
   "metadata": {},
   "source": [
    "## Monologue"
   ]
  },
  {
   "cell_type": "code",
   "execution_count": 171,
   "id": "360b1dea",
   "metadata": {
    "pycharm": {
     "name": "#%%\n"
    }
   },
   "outputs": [
    {
     "data": {
      "text/plain": [
       "(['kruskal results for Word_Count controls vs. parkinson 0.00545558570248233 ',\n",
       "  'kruskal results for Word_Count_No_stop_words controls vs. parkinson 0.008708228249670063 ',\n",
       "  'kruskal results for Sentence_Count controls vs. parkinson 0.0002551384817388585 ',\n",
       "  'kruskal results for Noun_Count controls vs. parkinson 0.007871536283856437 ',\n",
       "  'kruskal results for Verb_Count controls vs. parkinson 0.0008057789546427356 ',\n",
       "  'kruskal results for Auxiliary_Count controls vs. parkinson 0.007628355233504417 ',\n",
       "  'kruskal results for Number_of_NPs controls vs. parkinson 0.002938757954008111 ',\n",
       "  'kruskal results for Number_of_VPs controls vs. parkinson 0.008545195431261917 '],\n",
       " [0.01523939943692261,\n",
       "  0.01523939943692261,\n",
       "  0.0035719387443440193,\n",
       "  0.01523939943692261,\n",
       "  0.005640452682499149,\n",
       "  0.01523939943692261,\n",
       "  0.013714203785371186,\n",
       "  0.01523939943692261])"
      ]
     },
     "execution_count": 171,
     "metadata": {},
     "output_type": "execute_result"
    }
   ],
   "source": [
    "grouped = ESPONTANEA.groupby('label')\n",
    "control = grouped.get_group(\"HC\") \n",
    "parkinson_ = grouped.get_group(\"PD\")\n",
    "task = ESPONTANEA.columns[5:-1].values.tolist()\n",
    "PD_all_feat = np.array([parkinson_[feat] for feat in np.array(ESPONTANEA.columns[5:-1])])\n",
    "CN_all_feat = np.array([control[feat] for feat in np.array(ESPONTANEA.columns[5:-1])])\n",
    "\n",
    "\n",
    "with open('/export/b15/afavaro/Frontiers/submission/SPANISH/LINGUISTIC/Results/cd_pd_espontanea.txt', 'w') as f:\n",
    " \n",
    "    kruskal(f, task, CN_all_feat,  PD_all_feat, \"controls vs.\", \"parkinson\")\n",
    "    \n",
    "kruskal_1 = read_stats_test('/export/b15/afavaro/Frontiers/submission/SPANISH/LINGUISTIC/Results/cd_pd_espontanea.txt')\n",
    "holm_correction(kruskal_1)"
   ]
  },
  {
   "cell_type": "code",
   "execution_count": null,
   "outputs": [],
   "source": [
    "#  Plot\n",
    "for i, title in enumerate(task):  \n",
    "    \n",
    "    nome = title\n",
    "    controls = []\n",
    "    parkinson=[]\n",
    "    data = np.concatenate([CN_all_feat[i], PD_all_feat[i]])\n",
    "    data = data.tolist()\n",
    "    data = [float(x) for x in data if x != \"None\"]\n",
    "    [controls.append('CN') for value in range(len(CN_all_feat[i]))]\n",
    "    [parkinson.append('PD') for value in range(len(PD_all_feat[i]))]\n",
    "    lista = controls+parkinson\n",
    "    dict = {nome: data, 'Group': lista} \n",
    "    df = pd.DataFrame(dict)\n",
    "    sns.set(font_scale=2)\n",
    "    sns.catplot(x=nome, y=\"Group\", kind=\"boxen\", data=df, k_depth='full', palette=\"Blues\",\\\n",
    "               height=4.2, aspect=1.4, showfliers = False)\n",
    "    "
   ],
   "metadata": {
    "collapsed": false,
    "pycharm": {
     "name": "#%%\n"
    }
   }
  }
 ],
 "metadata": {
  "kernelspec": {
   "display_name": "Python 3 (ipykernel)",
   "language": "python",
   "name": "python3"
  },
  "language_info": {
   "codemirror_mode": {
    "name": "ipython",
    "version": 3
   },
   "file_extension": ".py",
   "mimetype": "text/x-python",
   "name": "python",
   "nbconvert_exporter": "python",
   "pygments_lexer": "ipython3",
   "version": "3.9.7"
  }
 },
 "nbformat": 4,
 "nbformat_minor": 5
}