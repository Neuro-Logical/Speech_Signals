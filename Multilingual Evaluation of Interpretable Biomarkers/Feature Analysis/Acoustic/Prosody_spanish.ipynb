{
 "cells": [
  {
   "cell_type": "code",
   "execution_count": 114,
   "id": "0027c336",
   "metadata": {},
   "outputs": [],
   "source": [
    "import os\n",
    "import pandas as pd\n",
    "import numpy as np\n",
    "from scipy import stats\n",
    "import seaborn as sns\n",
    "import glob\n",
    "import matplotlib.pyplot as plt\n",
    "import statsmodels\n",
    "\n",
    "import statsmodels.api as sm\n",
    "\n",
    "from scipy.stats import ranksums"
   ]
  },
  {
   "cell_type": "markdown",
   "id": "f6aa69a5",
   "metadata": {},
   "source": [
    "### Prosody Feats"
   ]
  },
  {
   "cell_type": "code",
   "execution_count": 115,
   "id": "6dfc9049",
   "metadata": {},
   "outputs": [],
   "source": [
    "\n",
    "import numpy as np\n",
    "from sklearn import metrics\n",
    "import sklearn\n",
    "\n",
    "\n",
    "def compute_auc(array_1, array_2):\n",
    "    xs = np.concatenate([array_1, array_2],axis=1)\n",
    "    y = np.concatenate([array_1.shape[1]*[2], array_2.shape[1]*[1]])\n",
    "    \n",
    "    for i, x in enumerate(xs):\n",
    "        fpr, tpr, thresholds = metrics.roc_curve(y, x, pos_label=2)\n",
    "        #print(i, metrics.auc(fpr, tpr))\n",
    "        m = metrics.roc_auc_score(y, x)\n",
    "        print(round(max(m, 1-m), 2))\n",
    "\n",
    "\n",
    "def compute_eta_squared(H, n_of_grp,n_of_observ):\n",
    "    return (H - n_of_grp + 1)/(n_of_observ - n_of_grp)"
   ]
  },
  {
   "cell_type": "code",
   "execution_count": 116,
   "id": "e6e30084",
   "metadata": {},
   "outputs": [],
   "source": [
    "def delete_multiple_element(list_object, indices):\n",
    "    indices = sorted(indices, reverse=True)\n",
    "    for idx in indices:\n",
    "        if idx < len(list_object):\n",
    "            list_object.pop(idx)\n",
    "            \n",
    "    return list_object\n"
   ]
  },
  {
   "cell_type": "code",
   "execution_count": 117,
   "id": "63e843cb",
   "metadata": {},
   "outputs": [],
   "source": [
    "def read_stats_test(file):\n",
    "    \n",
    "    with open(file, 'r') as f:\n",
    "        lista = []\n",
    "        testo = f.readlines()\n",
    "        testo = [line.strip(\"\\n\") for line in testo]\n",
    "\n",
    "        for line in testo:\n",
    "            if line==\"\":\n",
    "                pass\n",
    "            else:\n",
    "                lista.append(line)\n",
    "                \n",
    "    return lista\n",
    "\n",
    "\n",
    "def kruskal(f, task, c, p, c_name, p_name):\n",
    "    for i, title in enumerate(task):\n",
    "        nome = title\n",
    "        f.write(('\\n'+ f'kruskal results for {title} {c_name} {p_name} {stats.kruskal(c[i], p[i]).pvalue} \\n\\n'))\n",
    "         \n"
   ]
  },
  {
   "cell_type": "code",
   "execution_count": 118,
   "id": "b555b50a",
   "metadata": {},
   "outputs": [],
   "source": [
    "def holm_correction(kruskal):\n",
    "    line_to_remove=[]\n",
    "    values=[]\n",
    "    corrected =[]\n",
    "    final = []\n",
    "    for l in kruskal:\n",
    "        if \"nan\" in l:\n",
    "            line_to_remove.append(kruskal.index(l))\n",
    "    \n",
    "    new_krusk = delete_multiple_element(kruskal, line_to_remove)\n",
    "            \n",
    "    for line in new_krusk:\n",
    "        ok = line.split('vs.')[1]\n",
    "        num = ok.split(\" \")[2]\n",
    "        values.append(float(num))\n",
    "   # values = [x for x in values if isnan(x) == False]\n",
    "    result = statsmodels.stats.multitest.fdrcorrection(values, alpha=0.05, method='indep', is_sorted=False)\n",
    "    num = np.where(result[0] == True)\n",
    "    list_index = ((num)[0]).tolist()\n",
    "\n",
    "    for i in list_index:\n",
    "        corrected.append(result[1][i])\n",
    "    for i in list_index:\n",
    "        final.append(kruskal[i])\n",
    "    \n",
    "    return final, corrected\n"
   ]
  },
  {
   "cell_type": "code",
   "execution_count": 119,
   "id": "2379ceab",
   "metadata": {},
   "outputs": [],
   "source": [
    "prosody = pd.read_csv('/export/b15/afavaro/Frontiers/submission/Statistical_Analysis/NEUROVOZ/Acoustic/Prosody/whole_prosody.csv')\n",
    "prosody = prosody.drop(columns=['Unnamed: 0'])\n",
    "prosody['task'] = [elem.split(\"_\")[1] for elem in prosody['id'].tolist()]\n",
    "\n",
    "gr = prosody.groupby(\"task\")\n",
    "esp = gr.get_group('ESPONTANEA')\n",
    "conc = gr.get_group('concatenateread')\n",
    "tot_or = pd.concat([esp, conc])\n",
    "prosody = tot_or.sort_values('id')\n",
    "\n",
    "\n",
    "\n"
   ]
  },
  {
   "cell_type": "code",
   "execution_count": 120,
   "id": "4ed2b212",
   "metadata": {},
   "outputs": [],
   "source": [
    "\n",
    "intensity = pd.read_csv('/export/b15/afavaro/Frontiers/submission/Statistical_Analysis/NEUROVOZ/Acoustic/Prosody/Harmonics.csv')\n",
    "intensity = intensity.drop(columns=['Unnamed: 0'])\n",
    "intensity = intensity.sort_values('sound_filepath')\n",
    "prosody['intensity'] = intensity['stddev_intensity'].tolist()\n",
    "\n",
    "#prosody.to_csv(\"/export/b15/afavaro/Frontiers/submission/Statistical_Analysis/NEUROVOZ/Acoustic/complete_audio.csv\")"
   ]
  },
  {
   "cell_type": "code",
   "execution_count": 121,
   "id": "a4b53479",
   "metadata": {},
   "outputs": [],
   "source": [
    "prosody = prosody.drop(columns=['F0avg', 'F0max', 'F0min', 'F0kurt', \n",
    "'F0tiltavg',\n",
    "'F0mseavg', \n",
    "'F0tiltstd',\n",
    "'F0msestd',\n",
    "'F0tiltmax',\n",
    "'F0msemax',\n",
    "'F0tiltmin',\n",
    "'F0msemin',\n",
    "'F0tiltskw',\n",
    "'F0mseskw',\n",
    "'F0tiltku',\n",
    "'F0mseku',\n",
    "'1F0mean',\n",
    "#'1F0std',\n",
    "'1F0max',\n",
    "'1F0min',\n",
    "'1F0skw',\n",
    "'1F0ku',\n",
    "'lastF0avg',\n",
    "'lastF0std',\n",
    "'lastF0max',\n",
    "'lastF0min',\n",
    "'lastF0skw',\n",
    "'lastF0ku',\n",
    "'avgEvoiced',\n",
    "'stdEvoiced',\n",
    "'skwEvoiced',\n",
    "'kurtosisEvoiced',\n",
    "'avgtiltEvoiced',\n",
    "'stdtiltEvoiced',\n",
    "'skwtiltEvoiced',\n",
    "'kurtosistiltEvoiced',\n",
    "'avgmseEvoiced',\n",
    "'stdmseEvoiced',\n",
    "'skwmseEvoiced',\n",
    "'kurtosismseEvoiced',\n",
    "'avg1Evoiced',\n",
    "'std1Evoiced',\n",
    "'max1Evoiced',\n",
    "'min1Evoiced',\n",
    "'skw1Evoiced',\n",
    "'kurtosis1Evoiced',\n",
    "'avglastEvoiced',\n",
    "'stdlastEvoiced',\n",
    "'maxlastEvoiced',\n",
    "'minlastEvoiced',\n",
    "'skwlastEvoiced',\n",
    "'kurtosislastEvoiced',\n",
    "'avgEunvoiced',\n",
    "'stdEunvoiced',\n",
    "'skwEunvoiced',\n",
    "'kurtosisEunvoiced',\n",
    "'avgtiltEunvoiced',\n",
    "'stdtiltEunvoiced',\n",
    "'skwtiltEunvoiced',\n",
    "'kurtosistiltEunvoiced',\n",
    "'avgmseEunvoiced',\n",
    "'stdmseEunvoiced',\n",
    "'skwmseEunvoiced',\n",
    "'kurtosismseEunvoiced',\n",
    "'avg1Eunvoiced',\n",
    "'std1Eunvoiced',\n",
    "'max1Eunvoiced',\n",
    "'min1Eunvoiced',\n",
    "'skw1Eunvoiced',\n",
    "'kurtosis1Eunvoiced',\n",
    "'avglastEunvoiced',\n",
    "'stdlastEunvoiced',\n",
    "'maxlastEunvoiced',\n",
    "'minlastEunvoiced',\n",
    "'skwlastEunvoiced',\n",
    "'kurtosislastEunvoiced',\n",
    "'Vrate',\n",
    "'avgdurvoiced',\n",
    "'stddurvoiced',\n",
    "'skwdurvoiced',\n",
    "'kurtosisdurvoiced',\n",
    "'maxdurvoiced',\n",
    "'mindurvoiced',\n",
    "'avgdurunvoiced',\n",
    "'stddurunvoiced',\n",
    "'skwdurunvoiced',\n",
    "'kurtosisdurunvoiced',\n",
    "'maxdurunvoiced',\n",
    "'mindurunvoiced',\n",
    "'avgdurpause',\n",
    "'stddurpause',\n",
    "'skwdurpause',\n",
    "'kurtosisdurpause',\n",
    "'maxdurpause',\n",
    "'mindurpause',\n",
    "'PVU',\n",
    "'PU',\n",
    "'UVU',\n",
    "'VVU',\n",
    "'VP',\n",
    "'UP'])"
   ]
  },
  {
   "cell_type": "code",
   "execution_count": 122,
   "id": "3a514fec",
   "metadata": {},
   "outputs": [],
   "source": [
    "all_ = prosody['id'].tolist()"
   ]
  },
  {
   "cell_type": "code",
   "execution_count": 123,
   "id": "4e1a2427",
   "metadata": {},
   "outputs": [],
   "source": [
    "tasks=[]\n",
    "label__ =[]\n",
    "for every in all_:\n",
    "    tasks.append(every.split(\"_\")[1])#.split(\"_\")\n",
    "    label__.append(every.split(\"_\")[0])\n",
    "prosody['task'] = tasks\n",
    "prosody['labels']=label__\n",
    "    "
   ]
  },
  {
   "cell_type": "code",
   "execution_count": 124,
   "id": "25d5b320",
   "metadata": {},
   "outputs": [],
   "source": [
    "task_grouped_ = prosody.groupby(\"task\")\n",
    "concatenateread = task_grouped_.get_group(\"concatenateread\")\n",
    "#ACAMPADA = task_grouped_.get_group(\"ACAMPADA\") \n",
    "ESPONTANEA = task_grouped_.get_group(\"ESPONTANEA\")"
   ]
  },
  {
   "cell_type": "markdown",
   "id": "e4001727",
   "metadata": {},
   "source": [
    "## Monologue"
   ]
  },
  {
   "cell_type": "code",
   "execution_count": 125,
   "id": "4b0d5aa1",
   "metadata": {},
   "outputs": [
    {
     "data": {
      "text/plain": [
       "([], [])"
      ]
     },
     "execution_count": 125,
     "metadata": {},
     "output_type": "execute_result"
    }
   ],
   "source": [
    "ESPONTANEA = ESPONTANEA.drop(columns=['task', 'id', 'F0skew'])\n",
    "\n",
    "task = ESPONTANEA.columns[1:-1].values.tolist()\n",
    "\n",
    "grouped = ESPONTANEA.groupby(\"labels\") #here we extract the values by category\n",
    "\n",
    "control = grouped.get_group(\"HC\") \n",
    "parkinson_ = grouped.get_group(\"PD\")\n",
    "\n",
    "parkinson_all_feat = np.array([parkinson_[feat] for feat in np.array(ESPONTANEA.columns[1:-1])])\n",
    "control_all_feat = np.array([control[feat] for feat in np.array(ESPONTANEA.columns[1:-1])])\n",
    "\n",
    "\n",
    "with open('/export/b15/afavaro/Frontiers/submission/SPANISH/ACOUSTIC/PROSODY/Results/mon.txt', 'w') as f:\n",
    " \n",
    "    kruskal(f, task, control_all_feat, parkinson_all_feat, \"controls vs.\", \"parkinson\")\n",
    "    \n",
    "\n",
    "    \n",
    "kruskal_1 = read_stats_test('/export/b15/afavaro/Frontiers/submission/SPANISH/ACOUSTIC/PROSODY/Results/mon.txt')\n",
    "holm_correction(kruskal_1)\n",
    "\n"
   ]
  },
  {
   "cell_type": "code",
   "execution_count": 126,
   "id": "7de112ab",
   "metadata": {},
   "outputs": [
    {
     "data": {
      "image/png": "[encoded data removed]",
      "text/plain": [
       "<Figure size 423.36x302.4 with 1 Axes>"
      ]
     },
     "metadata": {},
     "output_type": "display_data"
    },
    {
     "data": {
      "image/png": "[encoded data removed]",
      "text/plain": [
       "<Figure size 423.36x302.4 with 1 Axes>"
      ]
     },
     "metadata": {},
     "output_type": "display_data"
    }
   ],
   "source": [
    "for i, title in enumerate(task):  \n",
    "    \n",
    "    nome = title\n",
    "   \n",
    "    controls = []\n",
    "    parkinson=[]\n",
    "    \n",
    "    data = np.concatenate([control_all_feat[i], parkinson_all_feat[i]])\n",
    "    data = data.tolist()\n",
    "    data = [float(x) for x in data if x != \"None\"]\n",
    "\n",
    "\n",
    "    [controls.append('CN') for value in range(len(control_all_feat[i]))]\n",
    "   \n",
    "    [parkinson.append('PD') for value in range(len(parkinson_all_feat[i]))]\n",
    "   \n",
    "    lista = controls+parkinson\n",
    "    \n",
    "    dict = {nome: data, 'Group': lista} \n",
    "    df = pd.DataFrame(dict)\n",
    "    #tips = pd.DataFrame()\n",
    "    #tips['task'] = data\n",
    "    #tips['lista'] = lista\n",
    "    \n",
    "    sns.set(font_scale=2)\n",
    "    sns.catplot(x=nome, y=\"Group\", kind=\"boxen\", data=df, k_depth='full', palette=\"Blues\",\\\n",
    "               height=4.2, aspect=1.4, showfliers = False)\n",
    "    \n",
    "    #plt.savefig(f'/export/b15/afavaro/Frontiers/submission/SPANISH/ACOUSTIC/Plots_Prosody/{nome}', facecolor='white', dpi=600)"
   ]
  },
  {
   "cell_type": "markdown",
   "id": "067edf47",
   "metadata": {},
   "source": [
    "## Text dependent utterances (TDUs)"
   ]
  },
  {
   "cell_type": "code",
   "execution_count": 127,
   "id": "b50f4e4d",
   "metadata": {},
   "outputs": [
    {
     "data": {
      "text/plain": [
       "([], [])"
      ]
     },
     "execution_count": 127,
     "metadata": {},
     "output_type": "execute_result"
    }
   ],
   "source": [
    "\n",
    "concatenateread = concatenateread.drop(columns=['task', 'id', 'F0skew'])\n",
    "grouped = concatenateread.groupby(\"labels\") #here we extract the values by category\n",
    "\n",
    "control = grouped.get_group(\"HC\") \n",
    "parkinson_ = grouped.get_group(\"PD\")\n",
    "\n",
    "task = concatenateread.columns[1:-1].values.tolist()\n",
    "\n",
    "parkinson_all_feat = np.array([parkinson_[feat] for feat in np.array(concatenateread.columns[1:-1])])\n",
    "control_all_feat = np.array([control[feat] for feat in np.array(concatenateread.columns[1:-1])])\n",
    "\n",
    "\n",
    "\n",
    "\n",
    "with open('/export/b15/afavaro/Frontiers/submission/SPANISH/ACOUSTIC/PROSODY/Results/conc.txt', 'w') as f:\n",
    " \n",
    "    kruskal(f, task, control_all_feat, parkinson_all_feat, \"controls vs.\", \"parkinson\")\n",
    "    \n",
    "\n",
    "    \n",
    "kruskal_1 = read_stats_test('/export/b15/afavaro/Frontiers/submission/SPANISH/ACOUSTIC/PROSODY/Results/conc.txt')\n",
    "holm_correction(kruskal_1)\n"
   ]
  }
 ],
 "metadata": {
  "kernelspec": {
   "display_name": "Python 3 (ipykernel)",
   "language": "python",
   "name": "python3"
  },
  "language_info": {
   "codemirror_mode": {
    "name": "ipython",
    "version": 3
   },
   "file_extension": ".py",
   "mimetype": "text/x-python",
   "name": "python",
   "nbconvert_exporter": "python",
   "pygments_lexer": "ipython3",
   "version": "3.9.7"
  }
 },
 "nbformat": 4,
 "nbformat_minor": 5
}
