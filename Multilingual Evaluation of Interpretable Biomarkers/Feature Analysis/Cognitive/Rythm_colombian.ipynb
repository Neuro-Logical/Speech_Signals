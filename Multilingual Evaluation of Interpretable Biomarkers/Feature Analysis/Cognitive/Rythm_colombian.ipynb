{
 "cells": [
  {
   "cell_type": "code",
   "execution_count": 49,
   "id": "aa52d9f2",
   "metadata": {},
   "outputs": [],
   "source": [
    "import os\n",
    "import pandas as pd\n",
    "import numpy as np\n",
    "import seaborn as sns\n",
    "from scipy import stats\n",
    "import glob\n",
    "from scipy.stats import skewnorm\n",
    "import matplotlib.pyplot as plt\n",
    "from scipy.stats import ranksums\n",
    "from scipy.stats import skew\n",
    "from scipy.stats import kurtosis, skew\n",
    "import statsmodels\n",
    "import statsmodels.api as sm\n",
    "import statsmodels.formula.api as smf\n",
    "import sys"
   ]
  },
  {
   "cell_type": "code",
   "execution_count": 50,
   "id": "2bd5e4a2",
   "metadata": {},
   "outputs": [],
   "source": [
    "def delete_multiple_element(list_object, indices):\n",
    "    indices = sorted(indices, reverse=True)\n",
    "    for idx in indices:\n",
    "        if idx < len(list_object):\n",
    "            list_object.pop(idx)\n",
    "            \n",
    "    return list_object\n",
    "\n",
    "\n",
    "def kruskal(f, task, c, p, c_name, p_name):\n",
    "    for i, title in enumerate(task):\n",
    "        nome = title\n",
    "        f.write(('\\n'+ f'kruskal results for {title} {c_name} {p_name} {stats.kruskal(c[i], p[i]).pvalue} \\n\\n'))\n",
    "        \n",
    "        "
   ]
  },
  {
   "cell_type": "code",
   "execution_count": 51,
   "id": "52a2ef9d",
   "metadata": {},
   "outputs": [],
   "source": [
    "def holm_correction(kruskal):\n",
    "    line_to_remove=[]\n",
    "    values=[]\n",
    "    corrected =[]\n",
    "    final = []\n",
    "    for l in kruskal:\n",
    "        if \"nan\" in l:\n",
    "            line_to_remove.append(kruskal.index(l))\n",
    "    \n",
    "    new_krusk = delete_multiple_element(kruskal, line_to_remove)\n",
    "            \n",
    "    for line in new_krusk:\n",
    "        ok = line.split('vs.')[1]\n",
    "        num = ok.split(\" \")[2]\n",
    "        values.append(float(num))\n",
    "   # values = [x for x in values if isnan(x) == False]\n",
    "    result = statsmodels.stats.multitest.fdrcorrection(values, alpha=0.05, method='indep', is_sorted=False)\n",
    "    num = np.where(result[0] == True)\n",
    "    list_index = ((num)[0]).tolist()\n",
    "\n",
    "    for i in list_index:\n",
    "        corrected.append(result[1][i])\n",
    "    for i in list_index:\n",
    "        final.append(kruskal[i])\n",
    "    \n",
    "    return final, corrected"
   ]
  },
  {
   "cell_type": "code",
   "execution_count": 52,
   "id": "417c4e17",
   "metadata": {},
   "outputs": [],
   "source": [
    "def read_stats_test(file):\n",
    "    \n",
    "    with open(file, 'r') as f:\n",
    "        lista = []\n",
    "        testo = f.readlines()\n",
    "        testo = [line.strip(\"\\n\") for line in testo]\n",
    "\n",
    "        for line in testo:\n",
    "            if line==\"\":\n",
    "                pass\n",
    "            else:\n",
    "                lista.append(line)\n",
    "                \n",
    "    return lista"
   ]
  },
  {
   "cell_type": "code",
   "execution_count": 53,
   "id": "a9287202",
   "metadata": {},
   "outputs": [],
   "source": [
    "def compute_best_scores(lista):    \n",
    "\n",
    "    values = []\n",
    "    critical = []\n",
    "    final = [] \n",
    "    \n",
    "    for l in lista:\n",
    "        ok = l.split('vs.')[1]\n",
    "        num = ok.split(\" \")[2]\n",
    "        values.append(num)\n",
    "\n",
    "    for value in values:\n",
    "        if float(value) < 0.05:\n",
    "            critical.append(value)\n",
    "\n",
    "    for li in lista:\n",
    "        for cri in critical:\n",
    "            if cri in li:\n",
    "                final.append(li)\n",
    "\n",
    "    return final"
   ]
  },
  {
   "cell_type": "code",
   "execution_count": 54,
   "id": "e0f7b370",
   "metadata": {},
   "outputs": [
    {
     "name": "stdout",
     "output_type": "stream",
     "text": [
      "699\n"
     ]
    }
   ],
   "source": [
    "word_analysis = []\n",
    "path = os.listdir(\"/export/b15/afavaro/Frontiers/GITA_NEW_TASKS/Alignment/\")\n",
    "print(len(path))\n",
    "for elem in path:\n",
    "\n",
    "        word_analysis.append(os.path.join('/export/b15/afavaro/Frontiers/GITA_NEW_TASKS/Alignment/', elem))"
   ]
  },
  {
   "cell_type": "code",
   "execution_count": 55,
   "id": "b2cd1f12",
   "metadata": {},
   "outputs": [],
   "source": [
    "list_of_dataframes = []\n",
    "for element in word_analysis:\n",
    "    participant = pd.read_csv(element)\n",
    "    elem = os.path.basename(element)\n",
    "    total = elem.split(\".csv\")[0]\n",
    "    name = elem.split('_', 1)[1]\n",
    "    name = name.split(\"_\")[0]\n",
    "    label = elem.split(\"_\")[0]\n",
    "    task = (elem.split(\"_\", 1)[1])\n",
    "    task= task.split(\"_\", -1)[1]\n",
    "    #task = task[:-4]\n",
    "    \n",
    "   # rt = participant.Time.tolist()[0]\n",
    "    tot= participant.time_stamp.tolist()\n",
    "    tot = (list(set(tot)))\n",
    "    unique = participant['time_stamp'].unique()\n",
    "    stdx = unique.std()\n",
    "    kurtx = kurtosis(unique)\n",
    "    skewx =  skew(unique)\n",
    "\n",
    "    #skew =  participant['time_stamp'].unique().skew()\n",
    "    dict = {'total': total, 'name': name, 'label': label, 'tasks': task, 'rhythm_std': stdx,'rhythm_skew': skewx, 'rhythm_kurt': kurtx} # 'Rhythm_kurt': kurtosis, \n",
    "    df = pd.DataFrame(dict, index=[0])\n",
    "    list_of_dataframes.append(df)\n",
    "\n",
    "data_ = pd.concat(list_of_dataframes, ignore_index=True)\n",
    "data_ = data_.dropna()"
   ]
  },
  {
   "cell_type": "code",
   "execution_count": 56,
   "id": "e5dcdbda",
   "metadata": {},
   "outputs": [],
   "source": [
    "#data_.to_csv(\"/export/b15/afavaro/Frontiers/submission/Statistical_Analysis/GITA/cognitive/RHYTHM_DATAFRAME_new_tot.csv\")"
   ]
  },
  {
   "cell_type": "code",
   "execution_count": 57,
   "id": "6f0e721a",
   "metadata": {},
   "outputs": [
    {
     "data": {
      "text/html": [
       "<div>\n",
       "<style scoped>\n",
       "    .dataframe tbody tr th:only-of-type {\n",
       "        vertical-align: middle;\n",
       "    }\n",
       "\n",
       "    .dataframe tbody tr th {\n",
       "        vertical-align: top;\n",
       "    }\n",
       "\n",
       "    .dataframe thead th {\n",
       "        text-align: right;\n",
       "    }\n",
       "</style>\n",
       "<table border=\"1\" class=\"dataframe\">\n",
       "  <thead>\n",
       "    <tr style=\"text-align: right;\">\n",
       "      <th></th>\n",
       "      <th>total</th>\n",
       "      <th>name</th>\n",
       "      <th>label</th>\n",
       "      <th>tasks</th>\n",
       "      <th>rhythm_std</th>\n",
       "      <th>rhythm_skew</th>\n",
       "      <th>rhythm_kurt</th>\n",
       "      <th>task</th>\n",
       "    </tr>\n",
       "  </thead>\n",
       "  <tbody>\n",
       "    <tr>\n",
       "      <th>0</th>\n",
       "      <td>CN_AVPEPUDEAC0001_laura</td>\n",
       "      <td>AVPEPUDEAC0001</td>\n",
       "      <td>CN</td>\n",
       "      <td>laura.csv</td>\n",
       "      <td>0.546219</td>\n",
       "      <td>-0.420468</td>\n",
       "      <td>-0.407961</td>\n",
       "      <td>laura</td>\n",
       "    </tr>\n",
       "    <tr>\n",
       "      <th>1</th>\n",
       "      <td>CN_AVPEPUDEAC0001_loslibros</td>\n",
       "      <td>AVPEPUDEAC0001</td>\n",
       "      <td>CN</td>\n",
       "      <td>loslibros.csv</td>\n",
       "      <td>1.133582</td>\n",
       "      <td>-0.603156</td>\n",
       "      <td>-1.275354</td>\n",
       "      <td>loslibros</td>\n",
       "    </tr>\n",
       "    <tr>\n",
       "      <th>2</th>\n",
       "      <td>CN_AVPEPUDEAC0001_luisa</td>\n",
       "      <td>AVPEPUDEAC0001</td>\n",
       "      <td>CN</td>\n",
       "      <td>luisa.csv</td>\n",
       "      <td>0.995301</td>\n",
       "      <td>-0.781415</td>\n",
       "      <td>-0.668067</td>\n",
       "      <td>luisa</td>\n",
       "    </tr>\n",
       "    <tr>\n",
       "      <th>3</th>\n",
       "      <td>CN_AVPEPUDEAC0001_micasa</td>\n",
       "      <td>AVPEPUDEAC0001</td>\n",
       "      <td>CN</td>\n",
       "      <td>micasa.csv</td>\n",
       "      <td>0.684137</td>\n",
       "      <td>0.106928</td>\n",
       "      <td>-1.211172</td>\n",
       "      <td>micasa</td>\n",
       "    </tr>\n",
       "    <tr>\n",
       "      <th>4</th>\n",
       "      <td>CN_AVPEPUDEAC0001_rosita</td>\n",
       "      <td>AVPEPUDEAC0001</td>\n",
       "      <td>CN</td>\n",
       "      <td>rosita.csv</td>\n",
       "      <td>1.074347</td>\n",
       "      <td>0.106904</td>\n",
       "      <td>-1.069499</td>\n",
       "      <td>rosita</td>\n",
       "    </tr>\n",
       "    <tr>\n",
       "      <th>...</th>\n",
       "      <td>...</td>\n",
       "      <td>...</td>\n",
       "      <td>...</td>\n",
       "      <td>...</td>\n",
       "      <td>...</td>\n",
       "      <td>...</td>\n",
       "      <td>...</td>\n",
       "      <td>...</td>\n",
       "    </tr>\n",
       "    <tr>\n",
       "      <th>694</th>\n",
       "      <td>PD_042_monologue_PCGITA</td>\n",
       "      <td>042</td>\n",
       "      <td>PD</td>\n",
       "      <td>monologue</td>\n",
       "      <td>6.874309</td>\n",
       "      <td>-0.116284</td>\n",
       "      <td>-1.063643</td>\n",
       "      <td>monologue</td>\n",
       "    </tr>\n",
       "    <tr>\n",
       "      <th>695</th>\n",
       "      <td>CN_085_monologue_PCGITA</td>\n",
       "      <td>085</td>\n",
       "      <td>CN</td>\n",
       "      <td>monologue</td>\n",
       "      <td>5.183033</td>\n",
       "      <td>-0.173188</td>\n",
       "      <td>-1.378294</td>\n",
       "      <td>monologue</td>\n",
       "    </tr>\n",
       "    <tr>\n",
       "      <th>696</th>\n",
       "      <td>PD_049_monologue_PCGITA</td>\n",
       "      <td>049</td>\n",
       "      <td>PD</td>\n",
       "      <td>monologue</td>\n",
       "      <td>19.890723</td>\n",
       "      <td>0.027826</td>\n",
       "      <td>-1.254092</td>\n",
       "      <td>monologue</td>\n",
       "    </tr>\n",
       "    <tr>\n",
       "      <th>697</th>\n",
       "      <td>CN_092_monologue_PCGITA</td>\n",
       "      <td>092</td>\n",
       "      <td>CN</td>\n",
       "      <td>monologue</td>\n",
       "      <td>9.757142</td>\n",
       "      <td>0.131811</td>\n",
       "      <td>-1.081562</td>\n",
       "      <td>monologue</td>\n",
       "    </tr>\n",
       "    <tr>\n",
       "      <th>698</th>\n",
       "      <td>CN_099_monologue_PCGITA</td>\n",
       "      <td>099</td>\n",
       "      <td>CN</td>\n",
       "      <td>monologue</td>\n",
       "      <td>13.119152</td>\n",
       "      <td>-0.312202</td>\n",
       "      <td>-1.055376</td>\n",
       "      <td>monologue</td>\n",
       "    </tr>\n",
       "  </tbody>\n",
       "</table>\n",
       "<p>699 rows × 8 columns</p>\n",
       "</div>"
      ],
      "text/plain": [
       "                           total            name label          tasks  \\\n",
       "0        CN_AVPEPUDEAC0001_laura  AVPEPUDEAC0001    CN      laura.csv   \n",
       "1    CN_AVPEPUDEAC0001_loslibros  AVPEPUDEAC0001    CN  loslibros.csv   \n",
       "2        CN_AVPEPUDEAC0001_luisa  AVPEPUDEAC0001    CN      luisa.csv   \n",
       "3       CN_AVPEPUDEAC0001_micasa  AVPEPUDEAC0001    CN     micasa.csv   \n",
       "4       CN_AVPEPUDEAC0001_rosita  AVPEPUDEAC0001    CN     rosita.csv   \n",
       "..                           ...             ...   ...            ...   \n",
       "694      PD_042_monologue_PCGITA             042    PD      monologue   \n",
       "695      CN_085_monologue_PCGITA             085    CN      monologue   \n",
       "696      PD_049_monologue_PCGITA             049    PD      monologue   \n",
       "697      CN_092_monologue_PCGITA             092    CN      monologue   \n",
       "698      CN_099_monologue_PCGITA             099    CN      monologue   \n",
       "\n",
       "     rhythm_std  rhythm_skew  rhythm_kurt       task  \n",
       "0      0.546219    -0.420468    -0.407961      laura  \n",
       "1      1.133582    -0.603156    -1.275354  loslibros  \n",
       "2      0.995301    -0.781415    -0.668067      luisa  \n",
       "3      0.684137     0.106928    -1.211172     micasa  \n",
       "4      1.074347     0.106904    -1.069499     rosita  \n",
       "..          ...          ...          ...        ...  \n",
       "694    6.874309    -0.116284    -1.063643  monologue  \n",
       "695    5.183033    -0.173188    -1.378294  monologue  \n",
       "696   19.890723     0.027826    -1.254092  monologue  \n",
       "697    9.757142     0.131811    -1.081562  monologue  \n",
       "698   13.119152    -0.312202    -1.055376  monologue  \n",
       "\n",
       "[699 rows x 8 columns]"
      ]
     },
     "execution_count": 57,
     "metadata": {},
     "output_type": "execute_result"
    }
   ],
   "source": [
    "data_['task']=[elem.split(\"_\")[2] for elem in data_['total'].tolist()]\n",
    "data_"
   ]
  },
  {
   "cell_type": "code",
   "execution_count": 58,
   "id": "5f7a4109",
   "metadata": {},
   "outputs": [],
   "source": [
    "task_grouped_= data_.groupby('tasks')\n",
    "read = task_grouped_.get_group(\"readtext.csv\")\n",
    "luisa = task_grouped_.get_group(\"luisa.csv\")\n",
    "loslibros = task_grouped_.get_group(\"loslibros.csv\")\n",
    "micasa = task_grouped_.get_group(\"micasa.csv\")\n",
    "rosita = task_grouped_.get_group(\"rosita.csv\")\n",
    "laura = task_grouped_.get_group(\"laura.csv\")\n",
    "monog= task_grouped_.get_group(\"monologue\")\n",
    "\n",
    "\n",
    "TDU = pd.concat([luisa, loslibros, rosita,monog,laura ])"
   ]
  },
  {
   "cell_type": "markdown",
   "id": "d7fa0cd3",
   "metadata": {},
   "source": [
    "## Read Passage "
   ]
  },
  {
   "cell_type": "code",
   "execution_count": 59,
   "id": "bd9a7a7f",
   "metadata": {},
   "outputs": [
    {
     "data": {
      "text/plain": [
       "([], [])"
      ]
     },
     "execution_count": 59,
     "metadata": {},
     "output_type": "execute_result"
    }
   ],
   "source": [
    "grouped = read.groupby('label')\n",
    "control = grouped.get_group('HC') \n",
    "parkinson = grouped.get_group(\"PD\")\n",
    "\n",
    "task = read.columns[4:-1].values.tolist()\n",
    "\n",
    "parkinson_all_feat = np.array([parkinson[feat] for feat in np.array(read.columns[4:-1])])\n",
    "control_all_feat = np.array([control[feat] for feat in np.array(read.columns[4:-1])])\n",
    "\n",
    "\n",
    "with open('/export/b15/afavaro/Frontiers/submission/COLOMBIAN/cognitive/rhythm_read.txt', 'w') as f:\n",
    " \n",
    "    kruskal(f, task, parkinson_all_feat, control_all_feat, \"controls vs.\", \"parkinson\")\n",
    "    \n",
    "\n",
    "\n",
    "kruskal_1 = read_stats_test('/export/b15/afavaro/Frontiers/submission/COLOMBIAN/cognitive/rhythm_read.txt')\n",
    "holm_correction(kruskal_1)\n"
   ]
  },
  {
   "cell_type": "code",
   "execution_count": 60,
   "id": "d827211d",
   "metadata": {},
   "outputs": [
    {
     "data": {
      "image/png": "[encoded data removed]",
      "text/plain": [
       "<Figure size 423.36x302.4 with 1 Axes>"
      ]
     },
     "metadata": {},
     "output_type": "display_data"
    },
    {
     "data": {
      "image/png": "[encoded data removed]",
      "text/plain": [
       "<Figure size 423.36x302.4 with 1 Axes>"
      ]
     },
     "metadata": {},
     "output_type": "display_data"
    },
    {
     "data": {
      "image/png": "[encoded data removed]",
      "text/plain": [
       "<Figure size 423.36x302.4 with 1 Axes>"
      ]
     },
     "metadata": {},
     "output_type": "display_data"
    }
   ],
   "source": [
    "for i, title in enumerate(task):  \n",
    "    \n",
    "    nome = title\n",
    "   \n",
    "    controls = []\n",
    "    parkinson=[]\n",
    "    \n",
    "    data = np.concatenate([control_all_feat[i], parkinson_all_feat[i]])\n",
    "    data = data.tolist()\n",
    "    data = [float(x) for x in data if x != \"None\"]\n",
    "\n",
    "\n",
    "    [controls.append('CN') for value in range(len(control_all_feat[i]))]\n",
    "   \n",
    "    [parkinson.append('PD') for value in range(len(parkinson_all_feat[i]))]\n",
    "   \n",
    "    lista = controls+parkinson\n",
    "    \n",
    "    dict = {nome: data, 'Group': lista} \n",
    "    df = pd.DataFrame(dict)\n",
    "    #tips = pd.DataFrame()\n",
    "    #tips['task'] = data\n",
    "    #tips['lista'] = lista\n",
    "    \n",
    "    sns.set(font_scale=2)\n",
    "    sns.catplot(x=nome, y=\"Group\", kind=\"boxen\", data=df, k_depth='full', palette=\"Blues\",\\\n",
    "               height=4.2, aspect=1.4, showfliers = False)\n",
    "    \n",
    "   "
   ]
  },
  {
   "cell_type": "markdown",
   "id": "83d63ec9",
   "metadata": {},
   "source": [
    "## Monologue"
   ]
  },
  {
   "cell_type": "code",
   "execution_count": 61,
   "id": "e71e4f12",
   "metadata": {},
   "outputs": [
    {
     "data": {
      "text/plain": [
       "([], [])"
      ]
     },
     "execution_count": 61,
     "metadata": {},
     "output_type": "execute_result"
    }
   ],
   "source": [
    "grouped = monog.groupby('label')\n",
    "control = grouped.get_group('CN') \n",
    "parkinson = grouped.get_group(\"PD\")\n",
    "\n",
    "task = monog.columns[4:-1].values.tolist()\n",
    "\n",
    "parkinson_all_feat = np.array([parkinson[feat] for feat in np.array(monog.columns[4:-1])])\n",
    "control_all_feat = np.array([control[feat] for feat in np.array(monog.columns[4:-1])])\n",
    "\n",
    "\n",
    "\n",
    "with open('/export/b15/afavaro/Frontiers/submission/COLOMBIAN/cognitive/rhythm.txt', 'w') as f:\n",
    " \n",
    "    kruskal(f, task, parkinson_all_feat, control_all_feat, \"controls vs.\", \"parkinson\")\n",
    "    \n",
    "\n",
    "\n",
    "kruskal_1 = read_stats_test('/export/b15/afavaro/Frontiers/submission/COLOMBIAN/cognitive/rhythm.txt')\n",
    "holm_correction(kruskal_1)"
   ]
  },
  {
   "cell_type": "code",
   "execution_count": 62,
   "id": "c4d2ec6e",
   "metadata": {},
   "outputs": [
    {
     "data": {
      "image/png": "[encoded data removed]",
      "text/plain": [
       "<Figure size 423.36x302.4 with 1 Axes>"
      ]
     },
     "metadata": {},
     "output_type": "display_data"
    },
    {
     "data": {
      "image/png": "[encoded data removed]",
      "text/plain": [
       "<Figure size 423.36x302.4 with 1 Axes>"
      ]
     },
     "metadata": {},
     "output_type": "display_data"
    },
    {
     "data": {
      "image/png": "[encoded data removed]",
      "text/plain": [
       "<Figure size 423.36x302.4 with 1 Axes>"
      ]
     },
     "metadata": {},
     "output_type": "display_data"
    }
   ],
   "source": [
    "for i, title in enumerate(task):  \n",
    "    \n",
    "    nome = title\n",
    "   \n",
    "    controls = []\n",
    "    parkinson=[]\n",
    "    \n",
    "    data = np.concatenate([control_all_feat[i], parkinson_all_feat[i]])\n",
    "    data = data.tolist()\n",
    "    data = [float(x) for x in data if x != \"None\"]\n",
    "\n",
    "\n",
    "    [controls.append('CN') for value in range(len(control_all_feat[i]))]\n",
    "   \n",
    "    [parkinson.append('PD') for value in range(len(parkinson_all_feat[i]))]\n",
    "   \n",
    "    lista = controls+parkinson\n",
    "    \n",
    "    dict = {nome: data, 'Group': lista} \n",
    "    df = pd.DataFrame(dict)\n",
    "    #tips = pd.DataFrame()\n",
    "    #tips['task'] = data\n",
    "    #tips['lista'] = lista\n",
    "    \n",
    "    sns.set(font_scale=2)\n",
    "    sns.catplot(x=nome, y=\"Group\", kind=\"boxen\", data=df, k_depth='full', palette=\"Blues\",\\\n",
    "               height=4.2, aspect=1.4, showfliers = False)\n",
    "    \n",
    "        \n",
    "   # plt.savefig(f'/export/b15/afavaro/Frontiers/submission/COLOMBIAN/cognitive/luisa_{nome}.png', facecolor='white', dpi=600)\n",
    "        \n",
    "    "
   ]
  },
  {
   "cell_type": "markdown",
   "id": "dfc49176",
   "metadata": {},
   "source": [
    "## Text Dependent Utterances (TDU)"
   ]
  },
  {
   "cell_type": "code",
   "execution_count": 63,
   "id": "c5f2ad2f",
   "metadata": {},
   "outputs": [
    {
     "data": {
      "text/plain": [
       "([], [])"
      ]
     },
     "execution_count": 63,
     "metadata": {},
     "output_type": "execute_result"
    }
   ],
   "source": [
    "grouped = TDU.groupby('label')\n",
    "control = grouped.get_group('CN') \n",
    "parkinson = grouped.get_group(\"PD\")\n",
    "\n",
    "task = TDU.columns[4:-1].values.tolist()\n",
    "\n",
    "parkinson_all_feat = np.array([parkinson[feat] for feat in np.array(TDU.columns[4:-1])])\n",
    "control_all_feat = np.array([control[feat] for feat in np.array(TDU.columns[4:-1])])\n",
    "\n",
    "\n",
    "\n",
    "with open('/export/b15/afavaro/Frontiers/submission/COLOMBIAN/cognitive/rhythm_TDU.txt', 'w') as f:\n",
    " \n",
    "    kruskal(f, task, parkinson_all_feat, control_all_feat, \"controls vs.\", \"parkinson\")\n",
    "    \n",
    "\n",
    "\n",
    "kruskal_1 = read_stats_test('/export/b15/afavaro/Frontiers/submission/COLOMBIAN/cognitive/rhythm_TDU.txt')\n",
    "holm_correction(kruskal_1)"
   ]
  },
  {
   "cell_type": "code",
   "execution_count": 64,
   "id": "ed381519",
   "metadata": {},
   "outputs": [
    {
     "data": {
      "image/png": "[encoded data removed]",
      "text/plain": [
       "<Figure size 423.36x302.4 with 1 Axes>"
      ]
     },
     "metadata": {},
     "output_type": "display_data"
    },
    {
     "data": {
      "image/png": "[encoded data removed]",
      "text/plain": [
       "<Figure size 423.36x302.4 with 1 Axes>"
      ]
     },
     "metadata": {},
     "output_type": "display_data"
    },
    {
     "data": {
      "image/png": "[encoded data removed]",
      "text/plain": [
       "<Figure size 423.36x302.4 with 1 Axes>"
      ]
     },
     "metadata": {},
     "output_type": "display_data"
    }
   ],
   "source": [
    "for i, title in enumerate(task):  \n",
    "    \n",
    "    nome = title\n",
    "   \n",
    "    controls = []\n",
    "    parkinson=[]\n",
    "    \n",
    "    data = np.concatenate([control_all_feat[i], parkinson_all_feat[i]])\n",
    "    data = data.tolist()\n",
    "    data = [float(x) for x in data if x != \"None\"]\n",
    "\n",
    "\n",
    "    [controls.append('CN') for value in range(len(control_all_feat[i]))]\n",
    "   \n",
    "    [parkinson.append('PD') for value in range(len(parkinson_all_feat[i]))]\n",
    "   \n",
    "    lista = controls+parkinson\n",
    "    \n",
    "    dict = {nome: data, 'Group': lista} \n",
    "    df = pd.DataFrame(dict)\n",
    "    #tips = pd.DataFrame()\n",
    "    #tips['task'] = data\n",
    "    #tips['lista'] = lista\n",
    "    \n",
    "    sns.set(font_scale=2)\n",
    "    sns.catplot(x=nome, y=\"Group\", kind=\"boxen\", data=df, k_depth='full', palette=\"Blues\",\\\n",
    "               height=4.2, aspect=1.4, showfliers = False)\n",
    "    \n",
    "        \n",
    "  #  plt.savefig(f'/export/b15/afavaro/Frontiers/submission/COLOMBIAN/cognitive/luisa_{nome}.png', facecolor='white', dpi=600)\n",
    "        \n",
    "    "
   ]
  },
  {
   "cell_type": "code",
   "execution_count": null,
   "id": "310d3c19",
   "metadata": {},
   "outputs": [],
   "source": []
  }
 ],
 "metadata": {
  "kernelspec": {
   "display_name": "Python 3 (ipykernel)",
   "language": "python",
   "name": "python3"
  },
  "language_info": {
   "codemirror_mode": {
    "name": "ipython",
    "version": 3
   },
   "file_extension": ".py",
   "mimetype": "text/x-python",
   "name": "python",
   "nbconvert_exporter": "python",
   "pygments_lexer": "ipython3",
   "version": "3.9.7"
  }
 },
 "nbformat": 4,
 "nbformat_minor": 5
}
