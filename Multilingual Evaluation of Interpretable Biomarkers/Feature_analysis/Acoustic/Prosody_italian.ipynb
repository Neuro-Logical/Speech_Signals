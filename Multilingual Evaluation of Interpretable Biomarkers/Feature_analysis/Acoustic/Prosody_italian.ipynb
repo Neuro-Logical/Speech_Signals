{
 "cells": [
  {
   "cell_type": "code",
   "execution_count": 36,
   "id": "0027c336",
   "metadata": {},
   "outputs": [],
   "source": [
    "import pandas as pd\n",
    "import seaborn as sns\n",
    "import numpy as np\n",
    "from ultils import *"
   ]
  },
  {
   "cell_type": "markdown",
   "id": "f6aa69a5",
   "metadata": {},
   "source": [
    "### Prosody Feats"
   ]
  },
  {
   "cell_type": "code",
   "execution_count": 41,
   "id": "4ed2b212",
   "metadata": {},
   "outputs": [],
   "source": [
    "prosody = pd.read_csv('/export/b15/afavaro/Frontiers/submission/Statistical_Analysis/ITALIAN_PD/Acoustic/Prosody/B1_prosody.csv')\n",
    "prosody1 = pd.read_csv('/export/b15/afavaro/Frontiers/submission/Statistical_Analysis/ITALIAN_PD/Acoustic/Prosody/B2_prosody.csv')\n",
    "prosody2 = pd.read_csv('/export/b15/afavaro/Frontiers/submission/Statistical_Analysis/ITALIAN_PD/Acoustic/Prosody/FBR1_prosody.csv')\n",
    "tot = pd.concat([prosody, prosody1, prosody2])\n",
    "tot = tot.drop(columns='Unnamed: 0')\n",
    "tot = tot.sort_values(by='id')\n",
    "intensity = pd.read_csv('/export/b15/afavaro/Frontiers/submission/Statistical_Analysis/ITALIAN_PD/Acoustic/Prosody/Harmonics.csv')\n",
    "intensity = intensity.drop(columns='Unnamed: 0')\n",
    "intensity = intensity.sort_values(by='sound_filepath')\n",
    "intensity_std = intensity['stddev_intensity'].tolist()\n",
    "tot.insert(0, 'intensity_std',  intensity_std)"
   ]
  },
  {
   "cell_type": "code",
   "execution_count": 45,
   "id": "a4b53479",
   "metadata": {},
   "outputs": [],
   "source": [
    "prosody = tot.drop(columns=['F0avg', 'F0max', 'F0min', 'F0kurt', 'F0skew',\n",
    "'F0tiltavg',\n",
    "'F0mseavg', \n",
    "'F0tiltstd',\n",
    "'F0msestd',\n",
    "'F0tiltmax',\n",
    "'F0msemax',\n",
    "'F0tiltmin',\n",
    "'F0msemin',\n",
    "'F0tiltskw',\n",
    "'F0mseskw',\n",
    "'F0tiltku',\n",
    "'F0mseku',\n",
    "'1F0mean',\n",
    "#'1F0std',\n",
    "'1F0max',\n",
    "'1F0min',\n",
    "'1F0skw',\n",
    "'1F0ku',\n",
    "'lastF0avg',\n",
    "'lastF0std',\n",
    "'lastF0max',\n",
    "'lastF0min',\n",
    "'lastF0skw',\n",
    "'lastF0ku',\n",
    "'avgEvoiced',\n",
    "'stdEvoiced',\n",
    "'skwEvoiced',\n",
    "'kurtosisEvoiced',\n",
    "'avgtiltEvoiced',\n",
    "'stdtiltEvoiced',\n",
    "'skwtiltEvoiced',\n",
    "'kurtosistiltEvoiced',\n",
    "'avgmseEvoiced',\n",
    "'stdmseEvoiced',\n",
    "'skwmseEvoiced',\n",
    "'kurtosismseEvoiced',\n",
    "'avg1Evoiced',\n",
    "'std1Evoiced',\n",
    "'max1Evoiced',\n",
    "'min1Evoiced',\n",
    "'skw1Evoiced',\n",
    "'kurtosis1Evoiced',\n",
    "'avglastEvoiced',\n",
    "'stdlastEvoiced',\n",
    "'maxlastEvoiced',\n",
    "'minlastEvoiced',\n",
    "'skwlastEvoiced',\n",
    "'kurtosislastEvoiced',\n",
    "'avgEunvoiced',\n",
    "'stdEunvoiced',\n",
    "'skwEunvoiced',\n",
    "'kurtosisEunvoiced',\n",
    "'avgtiltEunvoiced',\n",
    "'stdtiltEunvoiced',\n",
    "'skwtiltEunvoiced',\n",
    "'kurtosistiltEunvoiced',\n",
    "'avgmseEunvoiced',\n",
    "'stdmseEunvoiced',\n",
    "'skwmseEunvoiced',\n",
    "'kurtosismseEunvoiced',\n",
    "'avg1Eunvoiced',\n",
    "'std1Eunvoiced',\n",
    "'max1Eunvoiced',\n",
    "'min1Eunvoiced',\n",
    "'skw1Eunvoiced',\n",
    "'kurtosis1Eunvoiced',\n",
    "'avglastEunvoiced',\n",
    "'stdlastEunvoiced',\n",
    "'maxlastEunvoiced',\n",
    "'minlastEunvoiced',\n",
    "'skwlastEunvoiced',\n",
    "'kurtosislastEunvoiced',\n",
    "'Vrate',\n",
    "'avgdurvoiced',\n",
    "'stddurvoiced',\n",
    "'skwdurvoiced',\n",
    "'kurtosisdurvoiced',\n",
    "'maxdurvoiced',\n",
    "'mindurvoiced',\n",
    "'avgdurunvoiced',\n",
    "'stddurunvoiced',\n",
    "'skwdurunvoiced',\n",
    "'kurtosisdurunvoiced',\n",
    "'maxdurunvoiced',\n",
    "'mindurunvoiced',\n",
    "'avgdurpause',\n",
    "'stddurpause',\n",
    "'skwdurpause',\n",
    "'kurtosisdurpause',\n",
    "'maxdurpause',\n",
    "'mindurpause',\n",
    "'PVU',\n",
    "'PU',\n",
    "'UVU',\n",
    "'VVU',\n",
    "'VP',\n",
    "'UP'])"
   ]
  },
  {
   "cell_type": "code",
   "execution_count": 46,
   "id": "ca278ad8",
   "metadata": {},
   "outputs": [
    {
     "data": {
      "text/html": [
       "<div>\n",
       "<style scoped>\n",
       "    .dataframe tbody tr th:only-of-type {\n",
       "        vertical-align: middle;\n",
       "    }\n",
       "\n",
       "    .dataframe tbody tr th {\n",
       "        vertical-align: top;\n",
       "    }\n",
       "\n",
       "    .dataframe thead th {\n",
       "        text-align: right;\n",
       "    }\n",
       "</style>\n",
       "<table border=\"1\" class=\"dataframe\">\n",
       "  <thead>\n",
       "    <tr style=\"text-align: right;\">\n",
       "      <th></th>\n",
       "      <th>intensity_std</th>\n",
       "      <th>F0std</th>\n",
       "      <th>1F0std</th>\n",
       "      <th>id</th>\n",
       "      <th>label</th>\n",
       "    </tr>\n",
       "  </thead>\n",
       "  <tbody>\n",
       "    <tr>\n",
       "      <th>0</th>\n",
       "      <td>12.213648</td>\n",
       "      <td>43.966045</td>\n",
       "      <td>3.934146</td>\n",
       "      <td>CN_AGNESE_P_B1APGANRET55F170320171104.wav</td>\n",
       "      <td>CN</td>\n",
       "    </tr>\n",
       "    <tr>\n",
       "      <th>0</th>\n",
       "      <td>14.120050</td>\n",
       "      <td>43.835258</td>\n",
       "      <td>42.562552</td>\n",
       "      <td>CN_AGNESE_P_B2APGANRET55F170320171105.wav</td>\n",
       "      <td>CN</td>\n",
       "    </tr>\n",
       "    <tr>\n",
       "      <th>0</th>\n",
       "      <td>15.338148</td>\n",
       "      <td>34.803506</td>\n",
       "      <td>15.886904</td>\n",
       "      <td>CN_AGNESE_P_FB1APGANRET55F170320171115.wav</td>\n",
       "      <td>CN</td>\n",
       "    </tr>\n",
       "    <tr>\n",
       "      <th>1</th>\n",
       "      <td>17.002530</td>\n",
       "      <td>37.380330</td>\n",
       "      <td>25.398653</td>\n",
       "      <td>CN_ANGELA_C_B1ACNAGRER49F210320170916.wav</td>\n",
       "      <td>CN</td>\n",
       "    </tr>\n",
       "    <tr>\n",
       "      <th>1</th>\n",
       "      <td>13.586658</td>\n",
       "      <td>37.395260</td>\n",
       "      <td>34.090185</td>\n",
       "      <td>CN_ANGELA_C_B2ACNAGRER49F210320170919.wav</td>\n",
       "      <td>CN</td>\n",
       "    </tr>\n",
       "    <tr>\n",
       "      <th>...</th>\n",
       "      <td>...</td>\n",
       "      <td>...</td>\n",
       "      <td>...</td>\n",
       "      <td>...</td>\n",
       "      <td>...</td>\n",
       "    </tr>\n",
       "    <tr>\n",
       "      <th>58</th>\n",
       "      <td>17.553182</td>\n",
       "      <td>29.567412</td>\n",
       "      <td>21.136429</td>\n",
       "      <td>PD_Vito_S_B2VSIPTIOZ46M240120171922.wav</td>\n",
       "      <td>PD</td>\n",
       "    </tr>\n",
       "    <tr>\n",
       "      <th>59</th>\n",
       "      <td>46.054947</td>\n",
       "      <td>18.756348</td>\n",
       "      <td>23.045531</td>\n",
       "      <td>PD_Vito_S_B2vsiptioz46M1606161701.wav</td>\n",
       "      <td>PD</td>\n",
       "    </tr>\n",
       "    <tr>\n",
       "      <th>44</th>\n",
       "      <td>26.307974</td>\n",
       "      <td>24.520260</td>\n",
       "      <td>11.159868</td>\n",
       "      <td>PD_Vito_S_FB1VSIOTLOP47M100220171338.wav</td>\n",
       "      <td>PD</td>\n",
       "    </tr>\n",
       "    <tr>\n",
       "      <th>45</th>\n",
       "      <td>21.736433</td>\n",
       "      <td>41.468786</td>\n",
       "      <td>32.763151</td>\n",
       "      <td>PD_Vito_S_FB1VSIPTIOZ46M240120171936.wav</td>\n",
       "      <td>PD</td>\n",
       "    </tr>\n",
       "    <tr>\n",
       "      <th>46</th>\n",
       "      <td>63.753995</td>\n",
       "      <td>21.897348</td>\n",
       "      <td>18.853638</td>\n",
       "      <td>PD_Vito_S_FB1vsiptioz46M1606161712.wav</td>\n",
       "      <td>PD</td>\n",
       "    </tr>\n",
       "  </tbody>\n",
       "</table>\n",
       "<p>171 rows × 5 columns</p>\n",
       "</div>"
      ],
      "text/plain": [
       "    intensity_std      F0std     1F0std  \\\n",
       "0       12.213648  43.966045   3.934146   \n",
       "0       14.120050  43.835258  42.562552   \n",
       "0       15.338148  34.803506  15.886904   \n",
       "1       17.002530  37.380330  25.398653   \n",
       "1       13.586658  37.395260  34.090185   \n",
       "..            ...        ...        ...   \n",
       "58      17.553182  29.567412  21.136429   \n",
       "59      46.054947  18.756348  23.045531   \n",
       "44      26.307974  24.520260  11.159868   \n",
       "45      21.736433  41.468786  32.763151   \n",
       "46      63.753995  21.897348  18.853638   \n",
       "\n",
       "                                            id label  \n",
       "0    CN_AGNESE_P_B1APGANRET55F170320171104.wav    CN  \n",
       "0    CN_AGNESE_P_B2APGANRET55F170320171105.wav    CN  \n",
       "0   CN_AGNESE_P_FB1APGANRET55F170320171115.wav    CN  \n",
       "1    CN_ANGELA_C_B1ACNAGRER49F210320170916.wav    CN  \n",
       "1    CN_ANGELA_C_B2ACNAGRER49F210320170919.wav    CN  \n",
       "..                                         ...   ...  \n",
       "58     PD_Vito_S_B2VSIPTIOZ46M240120171922.wav    PD  \n",
       "59       PD_Vito_S_B2vsiptioz46M1606161701.wav    PD  \n",
       "44    PD_Vito_S_FB1VSIOTLOP47M100220171338.wav    PD  \n",
       "45    PD_Vito_S_FB1VSIPTIOZ46M240120171936.wav    PD  \n",
       "46      PD_Vito_S_FB1vsiptioz46M1606161712.wav    PD  \n",
       "\n",
       "[171 rows x 5 columns]"
      ]
     },
     "execution_count": 46,
     "metadata": {},
     "output_type": "execute_result"
    }
   ],
   "source": [
    "prosody['label']=prosody['id'].str.split('_').str[0]\n",
    "tasks = []\n",
    "names =prosody['id'].tolist()\n",
    "for e in names:\n",
    "    ok = e.split(\"_\", 3)[3]\n",
    "    ok = ok[:2]\n",
    "    tasks.append(ok)\n",
    "prosody['tasks'] = tasks\n",
    "df = prosody\n",
    "df = df.drop(columns=['id'])\n",
    " #here we extract the values by task\n",
    "task_grouped_= df.groupby('tasks')\n",
    "B1 = task_grouped_.get_group(\"B1\")\n",
    "B2 = task_grouped_.get_group(\"B2\")\n",
    "FB1 = task_grouped_.get_group(\"FB\")"
   ]
  },
  {
   "cell_type": "markdown",
   "id": "f381ea2f",
   "metadata": {},
   "source": [
    "## First read passage"
   ]
  },
  {
   "cell_type": "code",
   "execution_count": 52,
   "id": "996ee5f4",
   "metadata": {},
   "outputs": [
    {
     "data": {
      "text/plain": [
       "(['kruskal results for intensity_std controls vs. parkinson 1.0253432215872772e-08 ',\n",
       "  'kruskal results for F0std controls vs. parkinson 0.0011518622789287928 '],\n",
       " [3.076029664761832e-08, 0.0017277934183931893])"
      ]
     },
     "execution_count": 52,
     "metadata": {},
     "output_type": "execute_result"
    }
   ],
   "source": [
    "grouped = B1.groupby(\"label\") #here we extract the values by category\n",
    "control = grouped.get_group(\"CN\") \n",
    "parkinson_ = grouped.get_group(\"PD\")\n",
    "task = B1.columns[0:-2].values.tolist()\n",
    "parkinson_all_feat = np.array([parkinson_[feat] for feat in np.array(B1.columns[0:-2])])\n",
    "control_all_feat = np.array([control[feat] for feat in np.array(B1.columns[0:-2])])\n",
    "\n",
    "with open('/export/b15/afavaro/Frontiers/submission/ITALIAN/ACOUSTIC/PROSODY/Results/b1_rt_new.txt', 'w') as f:\n",
    " \n",
    "    kruskal(f, task, control_all_feat, parkinson_all_feat, \"controls vs.\", \"parkinson\")\n",
    "\n",
    "kruskal_1 = read_stats_test('/export/b15/afavaro/Frontiers/submission/ITALIAN/ACOUSTIC/PROSODY/Results/b1_rt_new.txt')\n",
    "holm_correction(kruskal_1)"
   ]
  },
  {
   "cell_type": "code",
   "execution_count": 53,
   "id": "bde063ca",
   "metadata": {},
   "outputs": [
    {
     "data": {
      "image/png": "[encoded data removed]",
      "text/plain": [
       "<Figure size 423.36x302.4 with 1 Axes>"
      ]
     },
     "metadata": {},
     "output_type": "display_data"
    },
    {
     "data": {
      "image/png": "[encoded data removed]",
      "text/plain": [
       "<Figure size 423.36x302.4 with 1 Axes>"
      ]
     },
     "metadata": {},
     "output_type": "display_data"
    },
    {
     "data": {
      "image/png": "[encoded data removed]",
      "text/plain": [
       "<Figure size 423.36x302.4 with 1 Axes>"
      ]
     },
     "metadata": {},
     "output_type": "display_data"
    }
   ],
   "source": [
    "for i, title in enumerate(task):  \n",
    "    \n",
    "    nome = title\n",
    "    controls = []\n",
    "    parkinson=[]\n",
    "    data = np.concatenate([control_all_feat[i], parkinson_all_feat[i]])\n",
    "    data = data.tolist()\n",
    "    data = [float(x) for x in data if x != \"None\"]\n",
    "    [controls.append('CN') for value in range(len(control_all_feat[i]))]\n",
    "    [parkinson.append('PD') for value in range(len(parkinson_all_feat[i]))]\n",
    "    lista = controls+parkinson\n",
    "    dict = {nome: data, 'Group': lista} \n",
    "    df = pd.DataFrame(dict)\n",
    "    sns.set(font_scale=2)\n",
    "    sns.catplot(x=nome, y=\"Group\", kind=\"boxen\", data=df, k_depth='full', palette=\"Blues\",\\\n",
    "               height=4.2, aspect=1.4, showfliers = False)"
   ]
  },
  {
   "cell_type": "markdown",
   "id": "c007f04b",
   "metadata": {},
   "source": [
    "## Second read passage"
   ]
  },
  {
   "cell_type": "code",
   "execution_count": 54,
   "id": "f40a6379",
   "metadata": {},
   "outputs": [
    {
     "data": {
      "text/plain": [
       "(['kruskal results for intensity_std controls vs. parkinson 2.5422674650085972e-08 ',\n",
       "  'kruskal results for F0std controls vs. parkinson 0.0021360290713834666 '],\n",
       " [5.0845349300171945e-08, 0.0021360290713834666])"
      ]
     },
     "execution_count": 54,
     "metadata": {},
     "output_type": "execute_result"
    }
   ],
   "source": [
    "grouped = B2.groupby(\"label\") #here we extract the values by category\n",
    "control = grouped.get_group(\"CN\") \n",
    "parkinson_ = grouped.get_group(\"PD\")\n",
    "task = B2.columns[0:-3].values.tolist()\n",
    "parkinson_all_feat = np.array([parkinson_[feat] for feat in np.array(B2.columns[0:-3])])\n",
    "control_all_feat = np.array([control[feat] for feat in np.array(B2.columns[0:-3])])\n",
    "\n",
    "\n",
    "with open('/export/b15/afavaro/Frontiers/submission/ITALIAN/ACOUSTIC/PROSODY/Results/b2_rt_new.txt', 'w') as f:\n",
    " \n",
    "    kruskal(f, task, control_all_feat, parkinson_all_feat, \"controls vs.\", \"parkinson\")\n",
    "\n",
    "kruskal_1 = read_stats_test('/export/b15/afavaro/Frontiers/submission/ITALIAN/ACOUSTIC/PROSODY/Results/b2_rt_new.txt')\n",
    "holm_correction(kruskal_1)"
   ]
  },
  {
   "cell_type": "code",
   "execution_count": 55,
   "id": "47b2ae55",
   "metadata": {},
   "outputs": [
    {
     "data": {
      "image/png": "[encoded data removed]",
      "text/plain": [
       "<Figure size 423.36x302.4 with 1 Axes>"
      ]
     },
     "metadata": {},
     "output_type": "display_data"
    },
    {
     "data": {
      "image/png": "[encoded data removed]",
      "text/plain": [
       "<Figure size 423.36x302.4 with 1 Axes>"
      ]
     },
     "metadata": {},
     "output_type": "display_data"
    }
   ],
   "source": [
    "for i, title in enumerate(task):\n",
    "    nome = title\n",
    "    controls = []\n",
    "    parkinson=[]\n",
    "    data = np.concatenate([control_all_feat[i], parkinson_all_feat[i]])\n",
    "    data = data.tolist()\n",
    "    data = [float(x) for x in data if x != \"None\"]\n",
    "    [controls.append('CN') for value in range(len(control_all_feat[i]))]\n",
    "    [parkinson.append('PD') for value in range(len(parkinson_all_feat[i]))]\n",
    "    lista = controls+parkinson\n",
    "    dict = {nome: data, 'Group': lista} \n",
    "    df = pd.DataFrame(dict)\n",
    "    sns.set(font_scale=2)\n",
    "    sns.catplot(x=nome, y=\"Group\", kind=\"boxen\", data=df, k_depth='full', palette=\"Blues\",\\\n",
    "               height=4.2, aspect=1.4, showfliers = False)"
   ]
  },
  {
   "cell_type": "markdown",
   "id": "0c72a5ef",
   "metadata": {},
   "source": [
    "## Text Dependent Utterances"
   ]
  },
  {
   "cell_type": "code",
   "execution_count": 56,
   "id": "fdcff1b4",
   "metadata": {},
   "outputs": [
    {
     "data": {
      "text/plain": [
       "(['kruskal results for intensity_std controls vs. parkinson 3.307123381108414e-05 ',\n",
       "  'kruskal results for F0std controls vs. parkinson 0.01157091851317232 '],\n",
       " [6.614246762216827e-05, 0.01157091851317232])"
      ]
     },
     "execution_count": 56,
     "metadata": {},
     "output_type": "execute_result"
    }
   ],
   "source": [
    "grouped = FB1.groupby(\"label\") #here we extract the values by category\n",
    "control = grouped.get_group(\"CN\") \n",
    "parkinson_ = grouped.get_group(\"PD\")\n",
    "task = FB1.columns[0:-3].values.tolist()\n",
    "parkinson_all_feat = np.array([parkinson_[feat] for feat in np.array(FB1.columns[0:-3])])\n",
    "control_all_feat = np.array([control[feat] for feat in np.array(FB1.columns[0:-3])])\n",
    "\n",
    "        \n",
    "with open('/export/b15/afavaro/Frontiers/submission/ITALIAN/ACOUSTIC/PROSODY/Results/fb1_rt_new.txt', 'w') as f:\n",
    " \n",
    "    kruskal(f, task, control_all_feat, parkinson_all_feat, \"controls vs.\", \"parkinson\")\n",
    "\n",
    "kruskal_1 = read_stats_test('/export/b15/afavaro/Frontiers/submission/ITALIAN/ACOUSTIC/PROSODY/Results/fb1_rt_new.txt')\n",
    "holm_correction(kruskal_1)\n"
   ]
  },
  {
   "cell_type": "code",
   "execution_count": 58,
   "id": "fbced4e7",
   "metadata": {
    "pycharm": {
     "name": "#%%\n"
    }
   },
   "outputs": [
    {
     "data": {
      "image/png": "[encoded data removed]",
      "text/plain": [
       "<Figure size 423.36x302.4 with 1 Axes>"
      ]
     },
     "metadata": {},
     "output_type": "display_data"
    },
    {
     "data": {
      "image/png": "[encoded data removed]",
      "text/plain": [
       "<Figure size 423.36x302.4 with 1 Axes>"
      ]
     },
     "metadata": {},
     "output_type": "display_data"
    }
   ],
   "source": [
    "for i, title in enumerate(task):  \n",
    "    \n",
    "    nome = title\n",
    "    controls = []\n",
    "    parkinson=[]\n",
    "    data = np.concatenate([control_all_feat[i], parkinson_all_feat[i]])\n",
    "    data = data.tolist()\n",
    "    data = [float(x) for x in data if x != \"None\"]\n",
    "    [controls.append('CN') for value in range(len(control_all_feat[i]))]\n",
    "    [parkinson.append('PD') for value in range(len(parkinson_all_feat[i]))]\n",
    "    lista = controls+parkinson\n",
    "    dict = {nome: data, 'Group': lista} \n",
    "    df = pd.DataFrame(dict)\n",
    "    sns.set(font_scale=2)\n",
    "    sns.catplot(x=nome, y=\"Group\", kind=\"boxen\", data=df, k_depth='full', palette=\"Blues\",\\\n",
    "               height=4.2, aspect=1.4, showfliers = False)\n"
   ]
  }
 ],
 "metadata": {
  "kernelspec": {
   "display_name": "Python 3 (ipykernel)",
   "language": "python",
   "name": "python3"
  },
  "language_info": {
   "codemirror_mode": {
    "name": "ipython",
    "version": 3
   },
   "file_extension": ".py",
   "mimetype": "text/x-python",
   "name": "python",
   "nbconvert_exporter": "python",
   "pygments_lexer": "ipython3",
   "version": "3.9.7"
  }
 },
 "nbformat": 4,
 "nbformat_minor": 5
}