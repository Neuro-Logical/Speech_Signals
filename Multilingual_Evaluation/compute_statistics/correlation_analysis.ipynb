{
 "cells": [
  {
   "cell_type": "code",
   "execution_count": 29,
   "id": "8b07570d",
   "metadata": {},
   "outputs": [],
   "source": [
    "from numpy.random import randn\n",
    "from numpy.random import seed\n",
    "from scipy.stats import pearsonr\n",
    "import webrtcvad\n",
    "from scipy.stats import spearmanr\n",
    "import os\n",
    "import seaborn as sns\n",
    "import sox\n",
    "import shutil\n",
    "from operator import itemgetter\n",
    "from itertools import groupby\n",
    "import numpy as np\n",
    "import shutil\n",
    "import pandas as pd\n",
    "from scipy import stats\n",
    "import matplotlib.pyplot as plt\n",
    "from scipy.stats import ranksums\n",
    "import seaborn as sns\n",
    "\n",
    "import statsmodels.api\n",
    "\n",
    "import os\n",
    "import numpy as np\n",
    "import pandas as pd\n",
    "from scipy.stats import spearmanr\n",
    "from scipy.stats import pearsonr\n",
    "from statsmodels.stats.multitest import fdrcorrection\n"
   ]
  },
  {
   "cell_type": "code",
   "execution_count": 2,
   "id": "2505bf7c",
   "metadata": {},
   "outputs": [],
   "source": [
    "export_table = True\n",
    "correlation = 'spearman'  # or 'pearson'"
   ]
  },
  {
   "cell_type": "code",
   "execution_count": 11,
   "id": "e2182a44",
   "metadata": {},
   "outputs": [
    {
     "data": {
      "text/html": [
       "<div>\n",
       "<style scoped>\n",
       "    .dataframe tbody tr th:only-of-type {\n",
       "        vertical-align: middle;\n",
       "    }\n",
       "\n",
       "    .dataframe tbody tr th {\n",
       "        vertical-align: top;\n",
       "    }\n",
       "\n",
       "    .dataframe thead th {\n",
       "        text-align: right;\n",
       "    }\n",
       "</style>\n",
       "<table border=\"1\" class=\"dataframe\">\n",
       "  <thead>\n",
       "    <tr style=\"text-align: right;\">\n",
       "      <th></th>\n",
       "      <th>ID</th>\n",
       "      <th>label</th>\n",
       "      <th>task</th>\n",
       "      <th>rhythm_std</th>\n",
       "      <th>rhythm_skew</th>\n",
       "      <th>rhythm_kurt</th>\n",
       "    </tr>\n",
       "  </thead>\n",
       "  <tbody>\n",
       "    <tr>\n",
       "      <th>0</th>\n",
       "      <td>6</td>\n",
       "      <td>PD</td>\n",
       "      <td>concatenateread</td>\n",
       "      <td>10.783627</td>\n",
       "      <td>0.121304</td>\n",
       "      <td>-1.255141</td>\n",
       "    </tr>\n",
       "    <tr>\n",
       "      <th>1</th>\n",
       "      <td>7</td>\n",
       "      <td>PD</td>\n",
       "      <td>concatenateread</td>\n",
       "      <td>11.104187</td>\n",
       "      <td>0.162573</td>\n",
       "      <td>-1.212628</td>\n",
       "    </tr>\n",
       "  </tbody>\n",
       "</table>\n",
       "</div>"
      ],
      "text/plain": [
       "   ID label             task  rhythm_std  rhythm_skew  rhythm_kurt\n",
       "0   6    PD  concatenateread   10.783627     0.121304    -1.255141\n",
       "1   7    PD  concatenateread   11.104187     0.162573    -1.212628"
      ]
     },
     "execution_count": 11,
     "metadata": {},
     "output_type": "execute_result"
    }
   ],
   "source": [
    "# Load data_frame containing features, speaker ID and labels (i.e., \"PD\", \"CN\")\n",
    "new = pd.read_csv('/export/b15/afavaro/Frontiers/submission/Statistical_Analysis/NEUROVOZ/rhythm_data_whispx.csv')\n",
    "#new = new.dropna()\n",
    "new = new.drop(columns=['total_name'])\n",
    "\n",
    "new = new.dropna()\n",
    "#new['sp'] = [int(elem.split(\"_\")[2].split(\"-16\")[0])  for elem in new['idx'].tolist()]\n",
    "new = new.sort_values(by='name', ignore_index=True)\n",
    "new = new.rename(columns={\"name\":\"ID\" })\n",
    "new = new.drop(columns=['Unnamed: 0'])\n",
    "\n",
    "new.head()[:2]"
   ]
  },
  {
   "cell_type": "code",
   "execution_count": 13,
   "id": "4d758719",
   "metadata": {},
   "outputs": [],
   "source": [
    "# Load clinical data\n",
    "demo = pd.read_excel(\"/export/b15/afavaro/Frontiers/submission/Correlation_Analysis/SPANISH/Datos.xlsx\")\n",
    "codes = demo['PAC'].tolist()\n",
    "updrs =  demo['Escala UPDRS'].tolist()\n",
    "hoen = demo['Estadio H-Y'].tolist()"
   ]
  },
  {
   "cell_type": "code",
   "execution_count": 16,
   "id": "0c20a60a",
   "metadata": {},
   "outputs": [
    {
     "data": {
      "text/html": [
       "<div>\n",
       "<style scoped>\n",
       "    .dataframe tbody tr th:only-of-type {\n",
       "        vertical-align: middle;\n",
       "    }\n",
       "\n",
       "    .dataframe tbody tr th {\n",
       "        vertical-align: top;\n",
       "    }\n",
       "\n",
       "    .dataframe thead th {\n",
       "        text-align: right;\n",
       "    }\n",
       "</style>\n",
       "<table border=\"1\" class=\"dataframe\">\n",
       "  <thead>\n",
       "    <tr style=\"text-align: right;\">\n",
       "      <th></th>\n",
       "      <th>rhythm_std</th>\n",
       "      <th>ID</th>\n",
       "      <th>label</th>\n",
       "      <th>task</th>\n",
       "    </tr>\n",
       "  </thead>\n",
       "  <tbody>\n",
       "    <tr>\n",
       "      <th>0</th>\n",
       "      <td>-0.42839</td>\n",
       "      <td>6</td>\n",
       "      <td>PD</td>\n",
       "      <td>concatenateread</td>\n",
       "    </tr>\n",
       "  </tbody>\n",
       "</table>\n",
       "</div>"
      ],
      "text/plain": [
       "   rhythm_std  ID label             task\n",
       "0    -0.42839   6    PD  concatenateread"
      ]
     },
     "execution_count": 16,
     "metadata": {},
     "output_type": "execute_result"
    }
   ],
   "source": [
    "# normalize\n",
    "feats = new.iloc[:, 3:-2] # select only columns containing feature values\n",
    "info_subject = new.iloc[:, :3] #select only columns containing task and subject-related information.\n",
    "df_z_scaled = feats.copy()\n",
    "  \n",
    "# apply normalization techniques\n",
    "for column in df_z_scaled.columns:\n",
    "    df_z_scaled[column] = (df_z_scaled[column] -\n",
    "                           df_z_scaled[column].mean())/df_z_scaled[column].std()    \n",
    "\n",
    "normalized = df_z_scaled\n",
    "final =pd.concat([normalized, info_subject], axis=1)\n",
    "final.head()[:1]"
   ]
  },
  {
   "cell_type": "code",
   "execution_count": 17,
   "id": "33032dd5",
   "metadata": {},
   "outputs": [],
   "source": [
    "# Group by tasks for the analysis\n",
    "grouped = final.groupby(\"task\")\n",
    "read = grouped.get_group(\"concatenateread\")\n",
    "mon = grouped.get_group(\"ESPONTANEA\")"
   ]
  },
  {
   "cell_type": "code",
   "execution_count": 19,
   "id": "23b32b33",
   "metadata": {},
   "outputs": [
    {
     "name": "stderr",
     "output_type": "stream",
     "text": [
      "/tmp/3539467.1.g.q/ipykernel_210137/3356042900.py:15: SettingWithCopyWarning: \n",
      "A value is trying to be set on a copy of a slice from a DataFrame.\n",
      "Try using .loc[row_indexer,col_indexer] = value instead\n",
      "\n",
      "See the caveats in the documentation: https://pandas.pydata.org/pandas-docs/stable/user_guide/indexing.html#returning-a-view-versus-a-copy\n",
      "  read['updrs'] = label_new_\n",
      "/tmp/3539467.1.g.q/ipykernel_210137/3356042900.py:29: SettingWithCopyWarning: \n",
      "A value is trying to be set on a copy of a slice from a DataFrame.\n",
      "Try using .loc[row_indexer,col_indexer] = value instead\n",
      "\n",
      "See the caveats in the documentation: https://pandas.pydata.org/pandas-docs/stable/user_guide/indexing.html#returning-a-view-versus-a-copy\n",
      "  read['hoen'] = label_new_\n"
     ]
    }
   ],
   "source": [
    "## Combining feature values and clinical scores into a unique data frame.\n",
    "spk2lab_ = {sp:lab for sp,lab in zip(codes,updrs)}\n",
    "#read['sp'] = [int(elem.split(\"_\")[2]) for elem in read['idx'].tolist()]\n",
    "speak = read['ID'].tolist()\n",
    "etichettex = []\n",
    "for nome in speak:\n",
    "    if nome in spk2lab_.keys():\n",
    "        lav = spk2lab_[nome]\n",
    "        etichettex.append(([nome, lav]))\n",
    "    else:\n",
    "         etichettex.append(([nome, 'Unknown']))\n",
    "label_new_ = []\n",
    "for e in etichettex:\n",
    "    label_new_.append(e[1])\n",
    "read['updrs'] = label_new_\n",
    "\n",
    "spk2lab_ = {sp:lab for sp,lab in zip(codes, hoen)}\n",
    "\n",
    "etichettex = []\n",
    "for nome in speak:\n",
    "    if nome in spk2lab_.keys():\n",
    "        lav = spk2lab_[nome]\n",
    "        etichettex.append(([nome, lav]))\n",
    "    else:\n",
    "         etichettex.append(([nome, 'Unknown']))\n",
    "label_new_ = []\n",
    "for e in etichettex:\n",
    "    label_new_.append(e[1])\n",
    "read['hoen'] = label_new_\n",
    "\n"
   ]
  },
  {
   "cell_type": "code",
   "execution_count": 20,
   "id": "7eb81a6c",
   "metadata": {},
   "outputs": [
    {
     "name": "stderr",
     "output_type": "stream",
     "text": [
      "/tmp/3539467.1.g.q/ipykernel_210137/1161279131.py:16: SettingWithCopyWarning: \n",
      "A value is trying to be set on a copy of a slice from a DataFrame.\n",
      "Try using .loc[row_indexer,col_indexer] = value instead\n",
      "\n",
      "See the caveats in the documentation: https://pandas.pydata.org/pandas-docs/stable/user_guide/indexing.html#returning-a-view-versus-a-copy\n",
      "  mon['updrs'] = label_new_\n",
      "/tmp/3539467.1.g.q/ipykernel_210137/1161279131.py:30: SettingWithCopyWarning: \n",
      "A value is trying to be set on a copy of a slice from a DataFrame.\n",
      "Try using .loc[row_indexer,col_indexer] = value instead\n",
      "\n",
      "See the caveats in the documentation: https://pandas.pydata.org/pandas-docs/stable/user_guide/indexing.html#returning-a-view-versus-a-copy\n",
      "  mon['hoen'] = label_new_\n"
     ]
    }
   ],
   "source": [
    "spk2lab_ = {sp:lab for sp,lab in zip(codes,updrs)}\n",
    "#mon['sp'] = [int(elem.split(\"_\")[2].split(\"-16\")[0])  for elem in mon['idx'].tolist()]\n",
    "speak = mon['ID'].tolist()\n",
    "etichettex = []\n",
    "for nome in speak:\n",
    "    if nome in spk2lab_.keys():\n",
    "        lav = spk2lab_[nome]\n",
    "        etichettex.append(([nome, lav]))\n",
    "    else:\n",
    "         etichettex.append(([nome, 'Unknown']))\n",
    "label_new_ = []\n",
    "for e in etichettex:\n",
    "    label_new_.append(e[1])\n",
    "mon['updrs'] = label_new_\n",
    "\n",
    "spk2lab_ = {sp:lab for sp,lab in zip(codes, hoen)}\n",
    "\n",
    "etichettex = []\n",
    "for nome in speak:\n",
    "    if nome in spk2lab_.keys():\n",
    "        lav = spk2lab_[nome]\n",
    "        etichettex.append(([nome, lav]))\n",
    "    else:\n",
    "         etichettex.append(([nome, 'Unknown']))\n",
    "label_new_ = []\n",
    "for e in etichettex:\n",
    "    label_new_.append(e[1])\n",
    "mon['hoen'] = label_new_"
   ]
  },
  {
   "cell_type": "code",
   "execution_count": 48,
   "id": "5f47bec2",
   "metadata": {},
   "outputs": [
    {
     "data": {
      "text/html": [
       "<div>\n",
       "<style scoped>\n",
       "    .dataframe tbody tr th:only-of-type {\n",
       "        vertical-align: middle;\n",
       "    }\n",
       "\n",
       "    .dataframe tbody tr th {\n",
       "        vertical-align: top;\n",
       "    }\n",
       "\n",
       "    .dataframe thead th {\n",
       "        text-align: right;\n",
       "    }\n",
       "</style>\n",
       "<table border=\"1\" class=\"dataframe\">\n",
       "  <thead>\n",
       "    <tr style=\"text-align: right;\">\n",
       "      <th></th>\n",
       "      <th>rhythm_std</th>\n",
       "      <th>ID</th>\n",
       "      <th>label</th>\n",
       "      <th>task</th>\n",
       "      <th>updrs</th>\n",
       "      <th>hoen</th>\n",
       "    </tr>\n",
       "  </thead>\n",
       "  <tbody>\n",
       "    <tr>\n",
       "      <th>25</th>\n",
       "      <td>-1.215151</td>\n",
       "      <td>35</td>\n",
       "      <td>PD</td>\n",
       "      <td>ESPONTANEA</td>\n",
       "      <td>14.0</td>\n",
       "      <td>2.0</td>\n",
       "    </tr>\n",
       "    <tr>\n",
       "      <th>28</th>\n",
       "      <td>-0.757056</td>\n",
       "      <td>37</td>\n",
       "      <td>PD</td>\n",
       "      <td>ESPONTANEA</td>\n",
       "      <td>47.0</td>\n",
       "      <td>5.0</td>\n",
       "    </tr>\n",
       "  </tbody>\n",
       "</table>\n",
       "</div>"
      ],
      "text/plain": [
       "    rhythm_std  ID label        task  updrs  hoen\n",
       "25   -1.215151  35    PD  ESPONTANEA   14.0   2.0\n",
       "28   -0.757056  37    PD  ESPONTANEA   47.0   5.0"
      ]
     },
     "execution_count": 48,
     "metadata": {},
     "output_type": "execute_result"
    }
   ],
   "source": [
    "# use only PD subjects for correlation analysis\n",
    "gr_read = read.groupby(\"label\")\n",
    "pd_read = gr_read.get_group(\"PD\")\n",
    "\n",
    "gr_mon = mon.groupby(\"label\")\n",
    "pd_mon = gr_mon.get_group(\"PD\")\n",
    "pd_mon.head()[:2]"
   ]
  },
  {
   "cell_type": "code",
   "execution_count": 47,
   "id": "77257ad0",
   "metadata": {},
   "outputs": [
    {
     "name": "stderr",
     "output_type": "stream",
     "text": [
      "/home/afavaro/new_conda/lib/python3.9/site-packages/pandas/util/_decorators.py:311: SettingWithCopyWarning: \n",
      "A value is trying to be set on a copy of a slice from a DataFrame\n",
      "\n",
      "See the caveats in the documentation: https://pandas.pydata.org/pandas-docs/stable/user_guide/indexing.html#returning-a-view-versus-a-copy\n",
      "  return func(*args, **kwargs)\n"
     ]
    }
   ],
   "source": [
    "pd_mon.dropna(\n",
    "    axis=0,\n",
    "    how='any',\n",
    "    thresh=None,\n",
    "    subset=None,\n",
    "    inplace=True\n",
    ")"
   ]
  },
  {
   "cell_type": "code",
   "execution_count": 24,
   "id": "d336d8fb",
   "metadata": {},
   "outputs": [],
   "source": [
    "pd_read.dropna(\n",
    "    axis=0,\n",
    "    how='any',\n",
    "    thresh=None,\n",
    "    subset=None,\n",
    "    inplace=True\n",
    ")"
   ]
  },
  {
   "cell_type": "code",
   "execution_count": 50,
   "id": "92600a4c",
   "metadata": {},
   "outputs": [],
   "source": [
    "## correlation between features and UPDRS \n",
    "def compute_correlation(data_frame, num_cols, clinical_score):\n",
    "    \n",
    "    feats_col = data_frame.iloc[:, :num_cols] #select only columns containing features\n",
    "   # print(feats_col)\n",
    "    updrs_pd = data_frame[clinical_score].tolist()\n",
    "    feats = feats_col.columns.values.tolist() \n",
    "    file = []\n",
    "    p_vals = []\n",
    "    \n",
    "    #print spearman's correlation values and respective p-value\n",
    "    \n",
    "    for fea in feats:\n",
    "        data = feats_col[fea].tolist()\n",
    "        corr, _ = spearmanr(data, updrs_pd)\n",
    "        p_vals.append(_)\n",
    "        file.append((f'Spearm correlation for feats {fea}: p_value {_} and correlation coeff is {corr}'))\n",
    "   # print(file)\n",
    "    # Apply correction \n",
    "    res = statsmodels.stats.multitest.fdrcorrection(p_vals, alpha=0.05, method='indep', is_sorted=False)   \n",
    "    ows=np.where(res[1][:,]<0.05)\n",
    "    l = list(ows[0])\n",
    "    values = res[1][l]\n",
    "    for m in zip(l, values):\n",
    "        print(m, feats[m[0]])   \n",
    "        \n",
    "   "
   ]
  },
  {
   "cell_type": "code",
   "execution_count": 51,
   "id": "25115783",
   "metadata": {},
   "outputs": [],
   "source": [
    "compute_correlation(pd_read, 1, 'updrs')"
   ]
  },
  {
   "cell_type": "code",
   "execution_count": 52,
   "id": "a2cc6dc7",
   "metadata": {},
   "outputs": [],
   "source": [
    "compute_correlation(pd_read, 1, 'hoen')"
   ]
  },
  {
   "cell_type": "code",
   "execution_count": null,
   "id": "a720a91e",
   "metadata": {},
   "outputs": [],
   "source": []
  }
 ],
 "metadata": {
  "kernelspec": {
   "display_name": "Python 3 (ipykernel)",
   "language": "python",
   "name": "python3"
  },
  "language_info": {
   "codemirror_mode": {
    "name": "ipython",
    "version": 3
   },
   "file_extension": ".py",
   "mimetype": "text/x-python",
   "name": "python",
   "nbconvert_exporter": "python",
   "pygments_lexer": "ipython3",
   "version": "3.9.7"
  }
 },
 "nbformat": 4,
 "nbformat_minor": 5
}