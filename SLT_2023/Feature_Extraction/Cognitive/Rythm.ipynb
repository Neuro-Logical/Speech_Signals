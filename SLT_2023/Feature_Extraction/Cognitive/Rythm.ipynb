{
 "cells": [
  {
   "cell_type": "code",
   "execution_count": 1,
   "id": "aa52d9f2",
   "metadata": {
    "pycharm": {
     "name": "#%%\n"
    }
   },
   "outputs": [],
   "source": [
    "import os\n",
    "import pandas as pd\n",
    "\n",
    "\n",
    "\n",
    "word_analysis = []\n",
    "path = os.listdir(\"/export/c12/afavaro/csv_png_files/\")\n",
    "print(len(path))\n",
    "for elem in path:\n",
    "    if \"word.csv\" in elem:\n",
    "        word_analysis.append(os.path.join('/export/c12/afavaro/csv_png_files/', elem))\n",
    "        \n",
    "\n",
    "\n",
    "tasks = []\n",
    "list_of_dataframes = []\n",
    "for element in word_analysis:\n",
    "#pathx = '/export/c12/afavaro/csv_png_files/NLS_10_ses1_SecuencestroopPrevious2-word.csv'\n",
    "    participant = pd.read_csv(element)\n",
    "    name = os.path.basename(element).split(\"_ses\")[0]\n",
    "   # task = os.path.basename(element).split(\"_\")[3].strip(\"-word.csv\")\n",
    "    task = os.path.basename(element)\n",
    "    tasks.append(task)\n",
    "    \n",
    "\n",
    "\n",
    "list_of_dataframes = []\n",
    "for element in word_analysis:\n",
    "#pathx = '/export/c12/afavaro/csv_png_files/NLS_10_ses1_SecuencestroopPrevious2-word.csv'\n",
    "    participant = pd.read_csv(element)\n",
    "    name = os.path.basename(element).split(\"_ses\")[0]\n",
    "    task = os.path.basename(element)\n",
    "    if \"ses1\" in task:\n",
    "        #print(task)\n",
    "        task = task.split(\"ses1_\")[1]\n",
    "        task = task.split(\"-word.csv\")[0]\n",
    "        \n",
    "    if \"ses2\" in task:\n",
    "       # print(every)\n",
    "        task = task.split(\"ses2_\")[1]\n",
    "        task = task.split(\"-word.csv\")[0]\n",
    "        \n",
    "    if \"ses3\" in task:\n",
    "       # print(every)\n",
    "        task = task.split(\"ses3_\")[1]\n",
    "        task = task.split(\"-word.csv\")[0]\n",
    "        \n",
    "    mean = participant.Time.mean()\n",
    "    std = participant.Time.std()\n",
    "    kurtosis = participant.Time.kurtosis()\n",
    "    skew = participant.Time.skew()\n",
    "    d = {'name': name, 'task': task,'Rhythm (σ)': std,'rhythm_skew': skew} # 'Rhythm_kurt': kurtosis, \n",
    "    df = pd.DataFrame(d, index =[0])\n",
    "    list_of_dataframes.append(df)\n",
    "\n",
    "data = pd.concat(list_of_dataframes, sort=False)\n",
    "data = data.dropna()\n",
    "\n"
   ]
  }
 ],
 "metadata": {
  "kernelspec": {
   "display_name": "Python 3 (ipykernel)",
   "language": "python",
   "name": "python3"
  },
  "language_info": {
   "codemirror_mode": {
    "name": "ipython",
    "version": 3
   },
   "file_extension": ".py",
   "mimetype": "text/x-python",
   "name": "python",
   "nbconvert_exporter": "python",
   "pygments_lexer": "ipython3",
   "version": "3.9.7"
  }
 },
 "nbformat": 4,
 "nbformat_minor": 5
}