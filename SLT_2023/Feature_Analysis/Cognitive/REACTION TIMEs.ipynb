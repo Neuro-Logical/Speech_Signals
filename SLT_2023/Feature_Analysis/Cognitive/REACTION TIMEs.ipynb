{
 "cells": [
  {
   "cell_type": "code",
   "execution_count": null,
   "outputs": [],
   "source": [
    "import pandas as pd\n",
    "import numpy as np\n",
    "from scipy import stats\n",
    "import glob\n",
    "import matplotlib.pyplot as plt\n",
    "from scipy.stats import ranksums\n",
    "import seaborn as sns\n",
    "import numpy as np\n",
    "from sklearn import metrics\n",
    "from numpy.random import randn\n",
    "from numpy.random import seed\n",
    "from numpy import mean\n",
    "from numpy import var\n",
    "from math import sqrt\n",
    "import numpy as np\n",
    "#!pip install scikit-posthocs\n",
    "import statsmodels\n",
    "import statsmodels.api as sm\n",
    "import statsmodels.formula.api as smf\n",
    "import statsmodels.api as sm"
   ],
   "metadata": {
    "collapsed": false,
    "pycharm": {
     "name": "#%%\n"
    }
   }
  },
  {
   "cell_type": "code",
   "execution_count": null,
   "outputs": [],
   "source": [
    "#Path first word alignment\n",
    "\n",
    "path = '/export/c12/afavaro/Alignment/firstwordalignment_tot_21august.txt'\n",
    "data = pd.read_csv(path,sep=\" \", header=None)\n",
    "data.columns = [\"subject\", \"RT\"] #CTP\n",
    "\n",
    "all_ = data['subject'].tolist()\n",
    "\n",
    "\n",
    "\n",
    "participants = []\n",
    "tasks = []\n",
    "\n",
    "for every in all_:\n",
    "    participant = every.split(\"_ses\")[0]\n",
    "    participants.append(participant)\n",
    "    if \"ses1\" in every:\n",
    "        print(every)\n",
    "        task = every.split(\"ses1_\")[1]\n",
    "        task = task.split(\"-16k.wav\")[0]\n",
    "        tasks.append(task)\n",
    "    if \"ses2\" in every:\n",
    "       # print(every)\n",
    "        task = every.split(\"ses2_\")[1]\n",
    "        task = task.split(\"-16k.wav\")[0]\n",
    "        tasks.append(task)\n",
    "    if \"ses3\" in every:\n",
    "       # print(every)\n",
    "        task = every.split(\"ses3_\")[1]\n",
    "        task = task.split(\"-16k.wav\")[0]\n",
    "        tasks.append(task)\n",
    "\n",
    "\n",
    "data['Task'] = tasks\n",
    "data['idx'] = participants\n",
    "\n",
    "# Add labels for each subject\n",
    "\n",
    "label_seneca = pd.read_excel(\"/export/b14/afavaro/Acoustic_Features/DigiPsych_Prosody/Hospital_Analysis/Book3.xlsx\")\n",
    "label = label_seneca['Label'].tolist()\n",
    "speak = label_seneca['Participant I.D.'].tolist()\n",
    "spk2lab_ = {sp:lab for sp,lab in zip(speak,label)}\n",
    "speak2__ = data['idx'].tolist()"
   ],
   "metadata": {
    "collapsed": false,
    "pycharm": {
     "name": "#%%\n"
    }
   }
  },
  {
   "cell_type": "code",
   "execution_count": null,
   "outputs": [],
   "source": [
    "etichettex = []\n",
    "for nome in speak2__:\n",
    "    if nome in spk2lab_.keys():\n",
    "        lav = spk2lab_[nome]\n",
    "        etichettex.append(([nome, lav]))\n",
    "    else:\n",
    "         etichettex.append(([nome, 'Unknown']))"
   ],
   "metadata": {
    "collapsed": false,
    "pycharm": {
     "name": "#%%\n"
    }
   }
  },
  {
   "cell_type": "code",
   "execution_count": null,
   "outputs": [],
   "source": [
    "label_new_ = []\n",
    "for e in etichettex:\n",
    "    label_new_.append(e[1])\n",
    "data['label'] = label_new_\n",
    "\n",
    "\n",
    "data = data[data['RT'] != 'None']"
   ],
   "metadata": {
    "collapsed": false,
    "pycharm": {
     "name": "#%%\n"
    }
   }
  },
  {
   "cell_type": "code",
   "execution_count": null,
   "outputs": [],
   "source": [
    "data.to_csv(\"/export/b14/afavaro/Reaction_Time_helin.csv\")\n",
    "\n",
    "# group data by tasks\n",
    "\n",
    "task_grouped_= data.groupby('Task')\n",
    "seq2prev2 = task_grouped_.get_group(\"Secuence_stroop_Previous_2\")\n",
    "seq2prev1 = task_grouped_.get_group(\"Secuence_stroop_Previous_1\")\n",
    "word_color = task_grouped_.get_group(\"WordColor\")\n",
    "cookie_thief = task_grouped_.get_group(\"CookieThief\")\n",
    "rainbow_pass = task_grouped_.get_group(\"RainbowPassage\") \n",
    "\n",
    "seq2prev1.reset_index(drop=True, inplace=True)\n",
    "seq2prev2.reset_index(drop=True, inplace=True)\n",
    "word_color.reset_index(drop=True, inplace=True) \n",
    "cookie_thief.reset_index(drop=True, inplace=True)"
   ],
   "metadata": {
    "collapsed": false,
    "pycharm": {
     "name": "#%%\n"
    }
   }
  }
 ],
 "metadata": {
  "kernelspec": {
   "display_name": "Python 3 (ipykernel)",
   "language": "python",
   "name": "python3"
  },
  "language_info": {
   "codemirror_mode": {
    "name": "ipython",
    "version": 3
   },
   "file_extension": ".py",
   "mimetype": "text/x-python",
   "name": "python",
   "nbconvert_exporter": "python",
   "pygments_lexer": "ipython3",
   "version": "3.9.7"
  }
 },
 "nbformat": 4,
 "nbformat_minor": 5
}