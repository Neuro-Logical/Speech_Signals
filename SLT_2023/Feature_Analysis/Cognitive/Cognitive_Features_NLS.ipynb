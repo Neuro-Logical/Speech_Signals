{
 "cells": [
  {
   "cell_type": "code",
   "execution_count": 6,
   "id": "3bbe72aa",
   "metadata": {},
   "outputs": [],
   "source": [
    "import nltk \n",
    "import numpy \n",
    "import os\n",
    "import pandas as pd\n",
    "import seaborn as sns\n",
    "import re\n",
    "import spacy\n",
    "import en_core_web_sm\n",
    "import glob\n",
    "from spacy.matcher import Matcher\n",
    "import csv\n",
    "import os\n",
    "import sys\n",
    "\n",
    "import sox\n",
    "import shutil\n",
    "from operator import itemgetter\n",
    "from itertools import groupby\n",
    "\n",
    "import numpy as np\n",
    "import shutil \n",
    "import matplotlib.pyplot as plt\n",
    "import pandas as pd\n",
    "from scipy import stats\n",
    "nlp = spacy.load('en_core_web_sm')\n",
    "\n"
   ]
  },
  {
   "cell_type": "code",
   "execution_count": 7,
   "id": "1a2c66b4",
   "metadata": {},
   "outputs": [],
   "source": [
    "import statsmodels\n",
    "\n",
    "import statsmodels.api as sm\n",
    "import statsmodels.formula.api as smf"
   ]
  },
  {
   "cell_type": "code",
   "execution_count": 8,
   "id": "5b22e829",
   "metadata": {},
   "outputs": [],
   "source": [
    "def delete_multiple_element(list_object, indices):\n",
    "    indices = sorted(indices, reverse=True)\n",
    "    for idx in indices:\n",
    "        if idx < len(list_object):\n",
    "            list_object.pop(idx)\n",
    "            \n",
    "    return list_object\n"
   ]
  },
  {
   "cell_type": "code",
   "execution_count": 9,
   "id": "5b990bf2",
   "metadata": {},
   "outputs": [],
   "source": [
    "def holm_correction(kruskal):\n",
    "    line_to_remove=[]\n",
    "    values=[]\n",
    "    corrected =[]\n",
    "    final = []\n",
    "    for l in kruskal:\n",
    "        if \"nan\" in l:\n",
    "            line_to_remove.append(kruskal.index(l))\n",
    "    \n",
    "    new_krusk = delete_multiple_element(kruskal, line_to_remove)\n",
    "            \n",
    "    for line in new_krusk:\n",
    "        ok = line.split('vs.')[1]\n",
    "        num = ok.split(\" \")[2]\n",
    "        values.append(float(num))\n",
    "   # values = [x for x in values if isnan(x) == False]\n",
    "    result = statsmodels.stats.multitest.fdrcorrection(values, alpha=0.05, method='indep', is_sorted=False)\n",
    "    num = np.where(result[0] == True)\n",
    "    list_index = ((num)[0]).tolist()\n",
    "\n",
    "    for i in list_index:\n",
    "        corrected.append(result[1][i])\n",
    "    for i in list_index:\n",
    "        final.append(kruskal[i])\n",
    "    \n",
    "    return final, corrected\n",
    "    \n",
    "    \n",
    "    #return values\n",
    "#val = np.array(values)\n",
    "    #return statsmodels.stats.multitest.fdrcorrection(values, alpha=0.05, method='indep', is_sorted=False)"
   ]
  },
  {
   "cell_type": "code",
   "execution_count": 10,
   "id": "7d8d9269",
   "metadata": {},
   "outputs": [],
   "source": [
    "input_dir = '/export/c12/afavaro/Transcriptions/CTP/'\n",
    "#input_dir = '/export/c12/afavaro/Transcriptions/rainbow_passage_lower/'\n",
    "#input_dir = '/export/c12/afavaro/CTP_transc_updated/'"
   ]
  },
  {
   "cell_type": "code",
   "execution_count": 11,
   "id": "2e1b0c05",
   "metadata": {},
   "outputs": [
    {
     "data": {
      "text/plain": [
       "149"
      ]
     },
     "execution_count": 11,
     "metadata": {},
     "output_type": "execute_result"
    }
   ],
   "source": [
    "path = []\n",
    "for ok in os.listdir(input_dir):\n",
    "    if ok.endswith('.txt'):\n",
    "        path.append(os.path.join(input_dir, ok))\n",
    "len(path)   "
   ]
  },
  {
   "cell_type": "code",
   "execution_count": 12,
   "id": "2c3de636",
   "metadata": {},
   "outputs": [],
   "source": [
    "transcr = []\n",
    "for file in path:\n",
    "    with open(file, \"r\") as f:\n",
    "        string_without_line_breaks = \"\"\n",
    "        for line in f:\n",
    "            stripped_line = line.rstrip()\n",
    "            string_without_line_breaks += stripped_line\n",
    "        transcr.append(string_without_line_breaks)\n",
    "            \n",
    "\n",
    "        \n",
    "\n",
    "       # lines = f.readlines()[0]\n",
    "       # transcr.append(mylist)\n",
    "#(transcr)"
   ]
  },
  {
   "cell_type": "code",
   "execution_count": 13,
   "id": "6c34fd20",
   "metadata": {},
   "outputs": [],
   "source": [
    "speaker = [os.path.basename(file).split(\"_ses\")[0] for file in path]\n",
    "dataframe = {'idx':speaker, 'sentence': transcr}\n",
    "df_10msec = pd.DataFrame(dataframe)\n",
    "pd.set_option('display.max_colwidth', None)"
   ]
  },
  {
   "cell_type": "code",
   "execution_count": 14,
   "id": "f12710ef",
   "metadata": {},
   "outputs": [],
   "source": [
    "label_seneca = pd.read_excel(\"/export/b14/afavaro/Acoustic_Features/DigiPsych_Prosody/Hospital_Analysis/Book3.xlsx\")\n",
    "label = label_seneca['Label'].tolist()\n",
    "speak = label_seneca['Participant I.D.'].tolist() #id\n",
    "spk2lab_ = {sp:lab for sp,lab in zip(speak,label)}\n",
    "speak2__ = df_10msec['idx'].tolist()"
   ]
  },
  {
   "cell_type": "code",
   "execution_count": 15,
   "id": "4ae45bc8",
   "metadata": {},
   "outputs": [],
   "source": [
    "etichettex = []\n",
    "for nome in speak2__:\n",
    "    if nome in spk2lab_.keys():\n",
    "        lav = spk2lab_[nome]\n",
    "        etichettex.append(([nome, lav]))\n",
    "    else:\n",
    "         etichettex.append(([nome, 'Unknown']))"
   ]
  },
  {
   "cell_type": "code",
   "execution_count": 16,
   "id": "8d3c7cc2",
   "metadata": {},
   "outputs": [],
   "source": [
    "label_new_ = []\n",
    "for e in etichettex:\n",
    "    label_new_.append(e[1])\n",
    "df_10msec['label'] = label_new_"
   ]
  },
  {
   "cell_type": "code",
   "execution_count": 17,
   "id": "199f5666",
   "metadata": {},
   "outputs": [],
   "source": [
    "df = df_10msec"
   ]
  },
  {
   "cell_type": "code",
   "execution_count": 18,
   "id": "35db9738",
   "metadata": {},
   "outputs": [],
   "source": [
    "def uncertanty(text):\n",
    "    \n",
    "    '''Function design to capture the level of certainty of patients in providing the description\n",
    "    of the image. To operationalize uncertanty I chose modals verbs as cue and interrogative marks. '''\n",
    "    \n",
    "    cont_con = 0\n",
    "    if \"?\" in text:\n",
    "        cont_con = cont_con + 1\n",
    "    if \"why\" in text:\n",
    "        cont_con = cont_con + 1\n",
    "    if \"might\" in text:\n",
    "        cont_con = cont_con + 1\n",
    "    #if \"can\" in text:\n",
    "      #  cont_con = cont_con + 1\n",
    "    if \"could\" in text:\n",
    "        cont_con = cont_con + 1\n",
    "    if \"may\" in text:\n",
    "        cont_con = cont_con + 1\n",
    "    #if \"not sure\" in text:\n",
    "       # cont_con = cont_con + 1     \n",
    "   # if \"I\" in text:\n",
    "      #  cont_con = cont_con + 1 \n",
    "    if \"um\" in text:\n",
    "        cont_con = cont_con + 1 \n",
    "    if \"uhm\" in text:\n",
    "        cont_con = cont_con + 1 \n",
    "    if \"ah\" in text:\n",
    "        cont_con = cont_con + 1 \n",
    "    if \"perhaps\" in text:\n",
    "        cont_con = cont_con + 1 \n",
    "    #if \"should\" in text:\n",
    "        #cont_con = cont_con + 1 \n",
    "    if \"looks like\" in text:\n",
    "        cont_con = cont_con + 1\n",
    "        \n",
    "    \n",
    "    return cont_con\n",
    "\n",
    "df['uncertanty'] = df['sentence'].apply(uncertanty)"
   ]
  },
  {
   "cell_type": "code",
   "execution_count": 19,
   "id": "2e39e93f",
   "metadata": {},
   "outputs": [],
   "source": [
    "\n",
    "def repetitions(text):\n",
    "     \n",
    "    '''Function design to capture the redundancy in the code.  To operationalize \n",
    "    redundancy I chose to count the repetitions. '''\n",
    "    \n",
    "    \n",
    "    repetition = 0\n",
    "    \n",
    "    text = text.split()\n",
    "    d = dict()\n",
    "    \n",
    "    for line in text:\n",
    "        line = line.strip()\n",
    "        line = line.lower()\n",
    "        words = line.split(\" \")\n",
    "        for word in words:\n",
    "\n",
    "            if word in d:\n",
    "                d[word] = d[word] + 1\n",
    "            else:\n",
    "                d[word] = 1\n",
    "    \n",
    "    for key in list(d.keys()):\n",
    "        if key != 'the' and key != \"a\" and key != \"of\" and key != \"to\" and key !=\"on\" and key !=\"is\" and key !=\"are\" and key !=\"in\" and key != \"an\":\n",
    "            if d[key] > 1:\n",
    "                repetition +=1\n",
    "\n",
    "    return repetition\n",
    "\n",
    "\n",
    "df['repetition'] = df['sentence'].apply(repetitions)\n"
   ]
  },
  {
   "cell_type": "code",
   "execution_count": 20,
   "id": "ece98427",
   "metadata": {},
   "outputs": [],
   "source": [
    "def informational_verb(text):\n",
    "    \n",
    "    '''Exhaustivness of the description operationalized by \n",
    "    counting how many (if any) salient items (nouns) are mentioned. '''\n",
    "    \n",
    "    cont_con = 0\n",
    "    \n",
    "    if \"washing\" in text:\n",
    "        cont_con = cont_con + 1\n",
    "    if \"wash\" in text:\n",
    "        cont_con = cont_con + 1\n",
    "    \n",
    "    if \"overflowing\" in text:\n",
    "        cont_con = cont_con + 1\n",
    "      \n",
    "    if \"overflow\" in text:\n",
    "        cont_con = cont_con + 1\n",
    "        \n",
    "    if \"hanging\" in text:\n",
    "        cont_con = cont_con + 1\n",
    "    if \"hang\" in text:\n",
    "        cont_con = cont_con + 1\n",
    "        \n",
    "    if \"falling\" in text:\n",
    "        cont_con = cont_con + 1\n",
    "    if \"fall\" in text:\n",
    "        cont_con = cont_con + 1\n",
    "        \n",
    "    if \"wearing\" in text:\n",
    "        cont_con = cont_con + 1\n",
    "    if \"wear\" in text:\n",
    "        cont_con = cont_con + 1\n",
    "    if \"running\" in text:\n",
    "        cont_con = cont_con + 1\n",
    "        \n",
    "    if \"run\" in text:\n",
    "        cont_con = cont_con + 1\n",
    "        \n",
    "    if \"drying\" in text:\n",
    "        cont_con = cont_con + 1\n",
    "    if \"dry\" in text:\n",
    "        cont_con = cont_con + 1\n",
    "    if \"paying attention\" in text:\n",
    "        cont_con = cont_con + 1\n",
    "    if \"reaching\" in text:\n",
    "        cont_con = cont_con + 1\n",
    "    if \"reach\" in text:\n",
    "        cont_con = cont_con + 1\n",
    "    if \"tipping\" in text:\n",
    "        cont_con = cont_con + 1\n",
    "    if \"tipp\" in text:\n",
    "        cont_con = cont_con + 1\n",
    "\n",
    "\n",
    "    \n",
    "    return cont_con\n",
    "\n",
    "df['informational_verb'] = df['sentence'].apply(informational_verb)"
   ]
  },
  {
   "cell_type": "code",
   "execution_count": 21,
   "id": "991a7ce8",
   "metadata": {},
   "outputs": [],
   "source": [
    "def informational_content(text):\n",
    "\n",
    "    '''Exhaustivness of the description operationalized by \n",
    "    counting how many (if any) salient actions (verbs) are mentioned. '''\n",
    "\n",
    "    \n",
    "    cont_con = 0\n",
    "    \n",
    "    if \"mother\" in text:\n",
    "        cont_con = cont_con + 1\n",
    "    if \"sister\" in text:\n",
    "        cont_con = cont_con + 1\n",
    "    if \"cookie\" in text:\n",
    "        cont_con = cont_con + 1\n",
    "    if \"cookie jar\" in text:\n",
    "        cont_con = cont_con + 1\n",
    "    if \"curtains\" in text:\n",
    "        cont_con = cont_con + 1\n",
    "    if \"cabinet\" in text:\n",
    "        cont_con = cont_con + 1\n",
    "    if \"brother\" in text:\n",
    "        cont_con = cont_con + 1\n",
    "    if \"chair\" in text:\n",
    "        cont_con = cont_con + 1\n",
    "    if \"kitchen\" in text:\n",
    "        cont_con = cont_con + 1\n",
    "    if \"sink\" in text:\n",
    "        cont_con = cont_con + 1\n",
    "    if \"garden\" in text:\n",
    "        cont_con = cont_con + 1\n",
    "    if \"fall\" in text:\n",
    "        cont_con = cont_con + 1\n",
    "    if \"dishes\" in text:\n",
    "        cont_con = cont_con + 1     \n",
    "    if \"stool\" in text:\n",
    "        cont_con = cont_con + 1 \n",
    "    if \"poddle\" in text:\n",
    "        cont_con = cont_con + 1 \n",
    "    if \"shoes\" in text:\n",
    "        cont_con = cont_con + 1 \n",
    "    if \"apron\" in text:\n",
    "        cont_con = cont_con + 1 \n",
    "    \n",
    "    return cont_con\n",
    "\n",
    "df['informational'] = df['sentence'].apply(informational_content)"
   ]
  },
  {
   "cell_type": "markdown",
   "id": "ca50de6e",
   "metadata": {},
   "source": [
    "def combine(df_): \n",
    "    \n",
    "    '''Combination of repetitions and uncertanty. '''\n",
    "    \n",
    "    sum_ = df_['repetition'] +  df_[\"uncertanty\"]  #rep + uncertainty\n",
    "    df_[\"combined_uncertanty\"] = sum_\n",
    "    return df_\n",
    "\n",
    "df = combine(df)"
   ]
  },
  {
   "cell_type": "code",
   "execution_count": 22,
   "id": "84ae9da0",
   "metadata": {
    "scrolled": true
   },
   "outputs": [
    {
     "data": {
      "text/html": [
       "<div>\n",
       "<style scoped>\n",
       "    .dataframe tbody tr th:only-of-type {\n",
       "        vertical-align: middle;\n",
       "    }\n",
       "\n",
       "    .dataframe tbody tr th {\n",
       "        vertical-align: top;\n",
       "    }\n",
       "\n",
       "    .dataframe thead th {\n",
       "        text-align: right;\n",
       "    }\n",
       "</style>\n",
       "<table border=\"1\" class=\"dataframe\">\n",
       "  <thead>\n",
       "    <tr style=\"text-align: right;\">\n",
       "      <th></th>\n",
       "      <th>idx</th>\n",
       "      <th>sentence</th>\n",
       "      <th>label</th>\n",
       "      <th>uncertanty</th>\n",
       "      <th>repetition</th>\n",
       "      <th>informational_verb</th>\n",
       "      <th>informational</th>\n",
       "    </tr>\n",
       "  </thead>\n",
       "  <tbody>\n",
       "    <tr>\n",
       "      <th>0</th>\n",
       "      <td>NLS_85</td>\n",
       "      <td>Uhm, I see what looks like a a kitchen with a couple of kids. Uhm, one of them climbing on a stool to get to cookie jar. looks like uhm the adult female is washing and washing dishes and the sink is overflowing. Uhm, looks like she's wearing maybe an apron. uhm, the kids are one is a girl, one is a boy. uhm, I see curtains on the window. i see the uhm an adult woman's feet are in the the water, it looks like. and she looks clueless as to what the kids are up to.</td>\n",
       "      <td>PD</td>\n",
       "      <td>3</td>\n",
       "      <td>12</td>\n",
       "      <td>6</td>\n",
       "      <td>8</td>\n",
       "    </tr>\n",
       "    <tr>\n",
       "      <th>1</th>\n",
       "      <td>PEC_19</td>\n",
       "      <td>you know when the minute is up, right? yeah. okay, family, so you just want me to talk about the picture? okay, a a mother's son and a daughter trying to get cookies out of the cookie jar. the boys standing on a ladder, the mother's drying the dishes from the sink. uhm, the little girl has one our left cause she wants a cookie out of the cookie jar and uhm the mother's busy washing the dishes and dish, uhm the dishwater is overflowing on the floor. a the cup of saucer beside the mother who's washing, drying the dishes the little girl's waving again for a cookie and little boy got a cookie in his hand that he wants to give her but a the lids off the cookie jar. i'm not sure he's going a ech cause he's about the fall off the stool that he's standing on. mother doesn't know that the dish fan's overflowing but she's busy drying dishes and they're more just.</td>\n",
       "      <td>CTRL</td>\n",
       "      <td>3</td>\n",
       "      <td>23</td>\n",
       "      <td>7</td>\n",
       "      <td>7</td>\n",
       "    </tr>\n",
       "    <tr>\n",
       "      <th>2</th>\n",
       "      <td>NLS_61</td>\n",
       "      <td>ah the boy is standing on the stool, trying to get a cookie jar and he's falling from the stool. the girl wants a cookie but she's reaching out for it but she's trying to tell him to be quiet. the mother is washing and drying the uhm dishes. the sink is on and is overflowing to the floor. there are a couple of uhm dishes on top of the table, of the cabinet actually. the window has its a blinds open. the curtains are open. you can see outside in the garden. it looks like a shack house in the back. there are few trees. there some dots on the floor. there's some hay on the left that almost looks like an animal. Uhm, the woman is wearing some type of like very short heels. she is wearing in a dress. ah she is, she looks like she is smiling.</td>\n",
       "      <td>FND</td>\n",
       "      <td>3</td>\n",
       "      <td>16</td>\n",
       "      <td>12</td>\n",
       "      <td>10</td>\n",
       "    </tr>\n",
       "    <tr>\n",
       "      <th>3</th>\n",
       "      <td>PEC_5</td>\n",
       "      <td>two children, boy standing on stool reaching for cookies in the cookie jar. Mom standing in water. water's running out the sink. she's drying dishes. Uhm, in front she's standing in front of the window. Uhm, a window outside is a garden or garden path. Uhm, there are bowls, utensils on the countertop. two walls, it's like a spoon and a plate. Uhm, a curtains. Uhm, a counter top has open, has drawer has doors on the counter. two doors.</td>\n",
       "      <td>CTRL</td>\n",
       "      <td>0</td>\n",
       "      <td>7</td>\n",
       "      <td>6</td>\n",
       "      <td>7</td>\n",
       "    </tr>\n",
       "    <tr>\n",
       "      <th>4</th>\n",
       "      <td>AD_9</td>\n",
       "      <td>that you want me to describe what they're doing? little boy on ah on a a stool reaching for cookies. little girl waiting for him to give him her cookie. the mother's drying dishes while she's drying dishes ah the sink is overflowing and uhm that's it. that's what a puddle of water on the floor. Is there more? she's standing at the window the curtains of her drawing. is there anything else?</td>\n",
       "      <td>AD</td>\n",
       "      <td>3</td>\n",
       "      <td>11</td>\n",
       "      <td>6</td>\n",
       "      <td>6</td>\n",
       "    </tr>\n",
       "    <tr>\n",
       "      <th>...</th>\n",
       "      <td>...</td>\n",
       "      <td>...</td>\n",
       "      <td>...</td>\n",
       "      <td>...</td>\n",
       "      <td>...</td>\n",
       "      <td>...</td>\n",
       "      <td>...</td>\n",
       "    </tr>\n",
       "    <tr>\n",
       "      <th>144</th>\n",
       "      <td>NLS_60</td>\n",
       "      <td>woman's washing dishes but the sink's overflowing. the children are stealing cookies from the cookie jar but they're falling off the stool. Uhm uhm looks like a pretty day outside. there's the grass is cut short. Uhm, mom is wearing a dress and an apron which is very old school. uhm, i'm so worried that boy's gonna fall uhm off the stool. this is one of those and i each study pictures and i've seen it before. Uhm, that's all i can really. it's a kitchen of a home and uhm i don't know why she's drying the dish when she should be stopping the water that's running on the floor. yes.</td>\n",
       "      <td>MS</td>\n",
       "      <td>3</td>\n",
       "      <td>8</td>\n",
       "      <td>12</td>\n",
       "      <td>8</td>\n",
       "    </tr>\n",
       "    <tr>\n",
       "      <th>145</th>\n",
       "      <td>NLS_66</td>\n",
       "      <td>Oh my gosh, like kids getting out of the cookie jar. he's doing, uhm that mom's still doing dishes and the water is overflowing. the girl wants a cookie, hey brother go up and get me a cookie and that chair is gonna just go and that mom on me and watching, that's terrible, and the dishes are so overflowing. she's not done. uhm, she's an old fashioned lady. she has a dress on and doing dishes and an apron. uhm, its it looks like a nice day outside and looks i can need a little grass green in there that it's black and white. nice window, nice wide window. uhm, let's see. the girl is still giggling cause she still wants steal cookies. the brother's probably going to eat them all not even going to give to her. ah, that mom saw him me do a new dishes. she's just like wiping. i put him out not even get a water on and she's standing in water.</td>\n",
       "      <td>ATX</td>\n",
       "      <td>3</td>\n",
       "      <td>27</td>\n",
       "      <td>2</td>\n",
       "      <td>6</td>\n",
       "    </tr>\n",
       "    <tr>\n",
       "      <th>146</th>\n",
       "      <td>PEC_43</td>\n",
       "      <td>can see a mother and two children, a boy and a girl, they're getting into the cookie jar. it looks like chocolate chip cookies. there's a cabinet in the background and he's ready to fall off the stool. mom's washing dishes and the water is flowing over the sink onto the floor. i see a plate, a couple of cups. i can see outside in the grass and looks like a walkway. the window looks open and the curtains are moving some and there's a tree outside and maybe like a garage outside and maybe some flowers. and the cabinets in front of the mother and the little girl has a cute little dress on with long hair just on shoes and she's reaching up for the cookies.</td>\n",
       "      <td>CTRL</td>\n",
       "      <td>2</td>\n",
       "      <td>13</td>\n",
       "      <td>5</td>\n",
       "      <td>10</td>\n",
       "    </tr>\n",
       "    <tr>\n",
       "      <th>147</th>\n",
       "      <td>NLS_75</td>\n",
       "      <td>see lady washing dishes. the water is filling out of the sink, the faucet is running, the kids are getting into the cookie jar. the boy is on the stool which is falling over, he is handing his sister a cookie. she's laughing as he's falling out the stool. the lid for the cookie jar is sitting ajar, the cabinet door is open. the uhm it looks like the draperies are blowing a little bit as the breeze is coming through an open window. outside the window we have bushes below another window across the way from the house there. we have a a driveway or a walkway coming around the house as sitting on the counter. we have a couple of cups and a saucer. Uhm, the ladies wearing slippers where the water is falling down at her feet. she has an apron on. she is drying the ah dishes with a uhm a towel. Uhm, she's wearing a sleeveless dress a all the other cabinets or doors are closed and there's a ruffle on top.</td>\n",
       "      <td>CTRL</td>\n",
       "      <td>3</td>\n",
       "      <td>18</td>\n",
       "      <td>10</td>\n",
       "      <td>9</td>\n",
       "    </tr>\n",
       "    <tr>\n",
       "      <th>148</th>\n",
       "      <td>NLS_31</td>\n",
       "      <td>all right, little johnny's trying to get a cookie out of the cookie jar and he's about to fall over cause he's standing on the stool and it's tipping over. Little mary wants a cooky but she doesn't realize that he's falling over, maybe doesn't care. Mom's washing dishes but the sink's overflowing and the floor, she doesn't seem to care. couple of coffee cups sitting on the counter with the dish and puddle of water on the floor from the sink is overflowing, ah the lids off the cookie jar where he took it off. Uhm, there is some bushes out in the yard. window's open in the kitchen and ah the drapes are drawn in the window and the other side of the house. There is bushes outside the window. tree out in the yard. and drapes are drawn in the kitchen through the window and mom's wearing her apron. she's got a nice dish towel, drying the dish.</td>\n",
       "      <td>TS</td>\n",
       "      <td>2</td>\n",
       "      <td>20</td>\n",
       "      <td>12</td>\n",
       "      <td>8</td>\n",
       "    </tr>\n",
       "  </tbody>\n",
       "</table>\n",
       "<p>149 rows × 7 columns</p>\n",
       "</div>"
      ],
      "text/plain": [
       "        idx  \\\n",
       "0    NLS_85   \n",
       "1    PEC_19   \n",
       "2    NLS_61   \n",
       "3     PEC_5   \n",
       "4      AD_9   \n",
       "..      ...   \n",
       "144  NLS_60   \n",
       "145  NLS_66   \n",
       "146  PEC_43   \n",
       "147  NLS_75   \n",
       "148  NLS_31   \n",
       "\n",
       "                                                                                                                                                                                                                                                                                                                                                                                                                                                                                                                                                                                                                                                                                                                                                                                                                                                                                                                                          sentence  \\\n",
       "0                                                                                                                                                                                                                                                                                                                                                                                                                                                               Uhm, I see what looks like a a kitchen with a couple of kids. Uhm, one of them climbing on a stool to get to cookie jar. looks like uhm the adult female is washing and washing dishes and the sink is overflowing. Uhm, looks like she's wearing maybe an apron. uhm, the kids are one is a girl, one is a boy. uhm, I see curtains on the window. i see the uhm an adult woman's feet are in the the water, it looks like. and she looks clueless as to what the kids are up to.   \n",
       "1                                                you know when the minute is up, right? yeah. okay, family, so you just want me to talk about the picture? okay, a a mother's son and a daughter trying to get cookies out of the cookie jar. the boys standing on a ladder, the mother's drying the dishes from the sink. uhm, the little girl has one our left cause she wants a cookie out of the cookie jar and uhm the mother's busy washing the dishes and dish, uhm the dishwater is overflowing on the floor. a the cup of saucer beside the mother who's washing, drying the dishes the little girl's waving again for a cookie and little boy got a cookie in his hand that he wants to give her but a the lids off the cookie jar. i'm not sure he's going a ech cause he's about the fall off the stool that he's standing on. mother doesn't know that the dish fan's overflowing but she's busy drying dishes and they're more just.   \n",
       "2                                                                                                                                                                       ah the boy is standing on the stool, trying to get a cookie jar and he's falling from the stool. the girl wants a cookie but she's reaching out for it but she's trying to tell him to be quiet. the mother is washing and drying the uhm dishes. the sink is on and is overflowing to the floor. there are a couple of uhm dishes on top of the table, of the cabinet actually. the window has its a blinds open. the curtains are open. you can see outside in the garden. it looks like a shack house in the back. there are few trees. there some dots on the floor. there's some hay on the left that almost looks like an animal. Uhm, the woman is wearing some type of like very short heels. she is wearing in a dress. ah she is, she looks like she is smiling.   \n",
       "3                                                                                                                                                                                                                                                                                                                                                                                                                                                                                           two children, boy standing on stool reaching for cookies in the cookie jar. Mom standing in water. water's running out the sink. she's drying dishes. Uhm, in front she's standing in front of the window. Uhm, a window outside is a garden or garden path. Uhm, there are bowls, utensils on the countertop. two walls, it's like a spoon and a plate. Uhm, a curtains. Uhm, a counter top has open, has drawer has doors on the counter. two doors.   \n",
       "4                                                                                                                                                                                                                                                                                                                                                                                                                                                                                                                                         that you want me to describe what they're doing? little boy on ah on a a stool reaching for cookies. little girl waiting for him to give him her cookie. the mother's drying dishes while she's drying dishes ah the sink is overflowing and uhm that's it. that's what a puddle of water on the floor. Is there more? she's standing at the window the curtains of her drawing. is there anything else?   \n",
       "..                                                                                                                                                                                                                                                                                                                                                                                                                                                                                                                                                                                                                                                                                                                                                                                                                                                                                                                                             ...   \n",
       "144                                                                                                                                                                                                                                                                                                                                     woman's washing dishes but the sink's overflowing. the children are stealing cookies from the cookie jar but they're falling off the stool. Uhm uhm looks like a pretty day outside. there's the grass is cut short. Uhm, mom is wearing a dress and an apron which is very old school. uhm, i'm so worried that boy's gonna fall uhm off the stool. this is one of those and i each study pictures and i've seen it before. Uhm, that's all i can really. it's a kitchen of a home and uhm i don't know why she's drying the dish when she should be stopping the water that's running on the floor. yes.   \n",
       "145                                                                Oh my gosh, like kids getting out of the cookie jar. he's doing, uhm that mom's still doing dishes and the water is overflowing. the girl wants a cookie, hey brother go up and get me a cookie and that chair is gonna just go and that mom on me and watching, that's terrible, and the dishes are so overflowing. she's not done. uhm, she's an old fashioned lady. she has a dress on and doing dishes and an apron. uhm, its it looks like a nice day outside and looks i can need a little grass green in there that it's black and white. nice window, nice wide window. uhm, let's see. the girl is still giggling cause she still wants steal cookies. the brother's probably going to eat them all not even going to give to her. ah, that mom saw him me do a new dishes. she's just like wiping. i put him out not even get a water on and she's standing in water.   \n",
       "146                                                                                                                                                                                                                                                           can see a mother and two children, a boy and a girl, they're getting into the cookie jar. it looks like chocolate chip cookies. there's a cabinet in the background and he's ready to fall off the stool. mom's washing dishes and the water is flowing over the sink onto the floor. i see a plate, a couple of cups. i can see outside in the grass and looks like a walkway. the window looks open and the curtains are moving some and there's a tree outside and maybe like a garage outside and maybe some flowers. and the cabinets in front of the mother and the little girl has a cute little dress on with long hair just on shoes and she's reaching up for the cookies.   \n",
       "147  see lady washing dishes. the water is filling out of the sink, the faucet is running, the kids are getting into the cookie jar. the boy is on the stool which is falling over, he is handing his sister a cookie. she's laughing as he's falling out the stool. the lid for the cookie jar is sitting ajar, the cabinet door is open. the uhm it looks like the draperies are blowing a little bit as the breeze is coming through an open window. outside the window we have bushes below another window across the way from the house there. we have a a driveway or a walkway coming around the house as sitting on the counter. we have a couple of cups and a saucer. Uhm, the ladies wearing slippers where the water is falling down at her feet. she has an apron on. she is drying the ah dishes with a uhm a towel. Uhm, she's wearing a sleeveless dress a all the other cabinets or doors are closed and there's a ruffle on top.   \n",
       "148                                                               all right, little johnny's trying to get a cookie out of the cookie jar and he's about to fall over cause he's standing on the stool and it's tipping over. Little mary wants a cooky but she doesn't realize that he's falling over, maybe doesn't care. Mom's washing dishes but the sink's overflowing and the floor, she doesn't seem to care. couple of coffee cups sitting on the counter with the dish and puddle of water on the floor from the sink is overflowing, ah the lids off the cookie jar where he took it off. Uhm, there is some bushes out in the yard. window's open in the kitchen and ah the drapes are drawn in the window and the other side of the house. There is bushes outside the window. tree out in the yard. and drapes are drawn in the kitchen through the window and mom's wearing her apron. she's got a nice dish towel, drying the dish.   \n",
       "\n",
       "    label  uncertanty  repetition  informational_verb  informational  \n",
       "0      PD           3          12                   6              8  \n",
       "1    CTRL           3          23                   7              7  \n",
       "2     FND           3          16                  12             10  \n",
       "3    CTRL           0           7                   6              7  \n",
       "4      AD           3          11                   6              6  \n",
       "..    ...         ...         ...                 ...            ...  \n",
       "144    MS           3           8                  12              8  \n",
       "145   ATX           3          27                   2              6  \n",
       "146  CTRL           2          13                   5             10  \n",
       "147  CTRL           3          18                  10              9  \n",
       "148    TS           2          20                  12              8  \n",
       "\n",
       "[149 rows x 7 columns]"
      ]
     },
     "execution_count": 22,
     "metadata": {},
     "output_type": "execute_result"
    }
   ],
   "source": [
    "df"
   ]
  },
  {
   "cell_type": "code",
   "execution_count": 23,
   "id": "6b6fd03c",
   "metadata": {},
   "outputs": [
    {
     "data": {
      "text/html": [
       "<div>\n",
       "<style scoped>\n",
       "    .dataframe tbody tr th:only-of-type {\n",
       "        vertical-align: middle;\n",
       "    }\n",
       "\n",
       "    .dataframe tbody tr th {\n",
       "        vertical-align: top;\n",
       "    }\n",
       "\n",
       "    .dataframe thead th {\n",
       "        text-align: right;\n",
       "    }\n",
       "</style>\n",
       "<table border=\"1\" class=\"dataframe\">\n",
       "  <thead>\n",
       "    <tr style=\"text-align: right;\">\n",
       "      <th></th>\n",
       "      <th>idx</th>\n",
       "      <th>label</th>\n",
       "      <th>uncertanty</th>\n",
       "      <th>repetition</th>\n",
       "      <th>informational_verb</th>\n",
       "      <th>informational</th>\n",
       "    </tr>\n",
       "  </thead>\n",
       "  <tbody>\n",
       "    <tr>\n",
       "      <th>0</th>\n",
       "      <td>NLS_85</td>\n",
       "      <td>PD</td>\n",
       "      <td>3</td>\n",
       "      <td>12</td>\n",
       "      <td>6</td>\n",
       "      <td>8</td>\n",
       "    </tr>\n",
       "    <tr>\n",
       "      <th>1</th>\n",
       "      <td>PEC_19</td>\n",
       "      <td>CTRL</td>\n",
       "      <td>3</td>\n",
       "      <td>23</td>\n",
       "      <td>7</td>\n",
       "      <td>7</td>\n",
       "    </tr>\n",
       "    <tr>\n",
       "      <th>2</th>\n",
       "      <td>NLS_61</td>\n",
       "      <td>FND</td>\n",
       "      <td>3</td>\n",
       "      <td>16</td>\n",
       "      <td>12</td>\n",
       "      <td>10</td>\n",
       "    </tr>\n",
       "    <tr>\n",
       "      <th>3</th>\n",
       "      <td>PEC_5</td>\n",
       "      <td>CTRL</td>\n",
       "      <td>0</td>\n",
       "      <td>7</td>\n",
       "      <td>6</td>\n",
       "      <td>7</td>\n",
       "    </tr>\n",
       "    <tr>\n",
       "      <th>4</th>\n",
       "      <td>AD_9</td>\n",
       "      <td>AD</td>\n",
       "      <td>3</td>\n",
       "      <td>11</td>\n",
       "      <td>6</td>\n",
       "      <td>6</td>\n",
       "    </tr>\n",
       "    <tr>\n",
       "      <th>...</th>\n",
       "      <td>...</td>\n",
       "      <td>...</td>\n",
       "      <td>...</td>\n",
       "      <td>...</td>\n",
       "      <td>...</td>\n",
       "      <td>...</td>\n",
       "    </tr>\n",
       "    <tr>\n",
       "      <th>144</th>\n",
       "      <td>NLS_60</td>\n",
       "      <td>MS</td>\n",
       "      <td>3</td>\n",
       "      <td>8</td>\n",
       "      <td>12</td>\n",
       "      <td>8</td>\n",
       "    </tr>\n",
       "    <tr>\n",
       "      <th>145</th>\n",
       "      <td>NLS_66</td>\n",
       "      <td>ATX</td>\n",
       "      <td>3</td>\n",
       "      <td>27</td>\n",
       "      <td>2</td>\n",
       "      <td>6</td>\n",
       "    </tr>\n",
       "    <tr>\n",
       "      <th>146</th>\n",
       "      <td>PEC_43</td>\n",
       "      <td>CTRL</td>\n",
       "      <td>2</td>\n",
       "      <td>13</td>\n",
       "      <td>5</td>\n",
       "      <td>10</td>\n",
       "    </tr>\n",
       "    <tr>\n",
       "      <th>147</th>\n",
       "      <td>NLS_75</td>\n",
       "      <td>CTRL</td>\n",
       "      <td>3</td>\n",
       "      <td>18</td>\n",
       "      <td>10</td>\n",
       "      <td>9</td>\n",
       "    </tr>\n",
       "    <tr>\n",
       "      <th>148</th>\n",
       "      <td>NLS_31</td>\n",
       "      <td>TS</td>\n",
       "      <td>2</td>\n",
       "      <td>20</td>\n",
       "      <td>12</td>\n",
       "      <td>8</td>\n",
       "    </tr>\n",
       "  </tbody>\n",
       "</table>\n",
       "<p>149 rows × 6 columns</p>\n",
       "</div>"
      ],
      "text/plain": [
       "        idx label  uncertanty  repetition  informational_verb  informational\n",
       "0    NLS_85    PD           3          12                   6              8\n",
       "1    PEC_19  CTRL           3          23                   7              7\n",
       "2    NLS_61   FND           3          16                  12             10\n",
       "3     PEC_5  CTRL           0           7                   6              7\n",
       "4      AD_9    AD           3          11                   6              6\n",
       "..      ...   ...         ...         ...                 ...            ...\n",
       "144  NLS_60    MS           3           8                  12              8\n",
       "145  NLS_66   ATX           3          27                   2              6\n",
       "146  PEC_43  CTRL           2          13                   5             10\n",
       "147  NLS_75  CTRL           3          18                  10              9\n",
       "148  NLS_31    TS           2          20                  12              8\n",
       "\n",
       "[149 rows x 6 columns]"
      ]
     },
     "execution_count": 23,
     "metadata": {},
     "output_type": "execute_result"
    }
   ],
   "source": [
    "df =df.drop(columns=['sentence']) \n",
    "df"
   ]
  },
  {
   "cell_type": "code",
   "execution_count": 24,
   "id": "b11cfcf6",
   "metadata": {},
   "outputs": [],
   "source": [
    "df.to_csv('/export/b15/afavaro/Frontiers/submission/Classification/NLS_Data_set/cog_ling_helin.csv')"
   ]
  },
  {
   "cell_type": "markdown",
   "id": "9fc99b66",
   "metadata": {},
   "source": [
    "def ratio_info_rep_plus_uncert(df_): \n",
    "    \n",
    "    '''Ratio between repetitions and uncertanty,\n",
    "    where uncertainty is operationalized as repetition + uncertanty. '''\n",
    "    \n",
    "    summation = df_['repetition'] + df_[\"uncertanty\"]\n",
    "    ratio = df_['informational'] / summation #info / rep + uncertanty\n",
    "    df_[\"ratio_info_rep_plus_uncert\"] = ratio\n",
    "    \n",
    "    return df_\n",
    "\n",
    "df = ratio_info_rep_plus_uncert(df)"
   ]
  },
  {
   "cell_type": "markdown",
   "id": "81433bad",
   "metadata": {},
   "source": [
    "def ratio_rep_certanty(df_): \n",
    "    \n",
    "    '''Function designed to measure the ratio between repetitions and uncertanty,\n",
    "    where uncertainty is intended as uncertainty. '''\n",
    "    \n",
    "    division = df_['repetition'] / df_[\"uncertanty\"] # repetition / uncertainty\n",
    "    df_[\"ratio_rep_certanty\"] = division\n",
    "    \n",
    "    return df_\n",
    "\n",
    "df = ratio_rep_certanty(df)"
   ]
  },
  {
   "cell_type": "markdown",
   "id": "de77a27e",
   "metadata": {},
   "source": [
    "def ratio_info_repetition(df_): \n",
    "    \n",
    "    '''Function designed to measure the ratio between repetitions and uncertanty,\n",
    "    where uncertainty is operationalized as repetition + uncertanty. '''\n",
    "    \n",
    "    ratio = df_['informational'] / df_['repetition'] # info / rep\n",
    "    df_[\"ratio_info_repetition\"] = ratio\n",
    "    \n",
    "    return df_\n",
    "\n",
    "df = ratio_info_repetition(df)"
   ]
  },
  {
   "cell_type": "markdown",
   "id": "617ccd33",
   "metadata": {},
   "source": [
    "def ratio_info_uncer(df_): \n",
    "    \n",
    "    '''Function designed to measure the ratio between repetitions and uncertanty,\n",
    "    where uncertainty is operationalized as repetition + uncertanty. '''\n",
    "    \n",
    "    ratio = df_['informational'] / df_[\"uncertanty\"] # info / uncert\n",
    "    df_[\"ratio_info_uncer\"] = ratio\n",
    "    \n",
    "    return df_\n",
    "\n",
    "df = ratio_info_uncer(df)"
   ]
  },
  {
   "cell_type": "code",
   "execution_count": 53,
   "id": "e71d4933",
   "metadata": {},
   "outputs": [],
   "source": [
    "#nlp = spacy.load('en_core_web_sm')"
   ]
  },
  {
   "cell_type": "code",
   "execution_count": 54,
   "id": "f4333d15",
   "metadata": {},
   "outputs": [],
   "source": [
    "#df['sentence'] = df['sentence'].str.lower()"
   ]
  },
  {
   "cell_type": "code",
   "execution_count": 18,
   "id": "1a2121fb",
   "metadata": {},
   "outputs": [],
   "source": [
    "#df = df.rename(columns={\"informational_verb\": \"Uncertainty\\n(Interrogative-Conditional)\\nCTP task\"})\n",
    "#df = df.rename(columns={r\"informational_verb\": \"Informativeness [events]\\nCTP task\"})\n",
    "df = df.rename(columns={r\"informational\": \"Informativeness [entities]\\nCTP task (NLS)\"})\n",
    "#df.to_csv(\"/export/b14/afavaro/SLT_submission/cognitive/data_frame.csv\")\n"
   ]
  },
  {
   "cell_type": "code",
   "execution_count": 56,
   "id": "a8bc268c",
   "metadata": {},
   "outputs": [],
   "source": [
    "#df"
   ]
  },
  {
   "cell_type": "code",
   "execution_count": 19,
   "id": "4f513209",
   "metadata": {},
   "outputs": [
    {
     "data": {
      "text/plain": [
       "4"
      ]
     },
     "execution_count": 19,
     "metadata": {},
     "output_type": "execute_result"
    }
   ],
   "source": [
    "task = df.columns[3:].values.tolist()\n",
    "len(task)"
   ]
  },
  {
   "cell_type": "code",
   "execution_count": 20,
   "id": "40f64a07",
   "metadata": {},
   "outputs": [],
   "source": [
    "grouped = df.groupby('label')\n",
    "\n",
    "\n",
    "#grouped = data_frame.groupby('labels')\n",
    "\n",
    "control = grouped.get_group(\"CTRL\") \n",
    "parkinson_ = grouped.get_group(\"PD\")\n",
    "alzheimer =  grouped.get_group(\"AD\")\n",
    "#ataxia =  grouped.get_group(\"ATX\")\n",
    "others =  pd.concat([ grouped.get_group('CBS'),  \n",
    "                     grouped.get_group('ET'), grouped.get_group('GSS'), grouped.get_group('WD'), \n",
    "                      grouped.get_group('PSP'), grouped.get_group('MIM')])\n",
    "\n",
    "#grouped.get_gro/\n",
    "#grouped.get_group('MS'),\n",
    "\n",
    "pd.set_option('display.max_rows', 500)\n",
    "pd.set_option('display.max_columns', 500)\n",
    "pd.set_option('display.width', 1000)\n"
   ]
  },
  {
   "cell_type": "code",
   "execution_count": 21,
   "id": "9825fb2d",
   "metadata": {},
   "outputs": [],
   "source": [
    "parkinson_ = parkinson_[~parkinson_.idx.str.contains(\"NLS_102\")]\n",
    "parkinson_ = parkinson_[~parkinson_.idx.str.contains(\"NLS_98\")]\n",
    "parkinson_ = parkinson_[~parkinson_.idx.str.contains(\"NLS_95\")]\n",
    "parkinson_ = parkinson_[~parkinson_.idx.str.contains(\"NLS_87\")]\n",
    "parkinson_ = parkinson_[~parkinson_.idx.str.contains(\"NLS_85\")]\n",
    "parkinson_ = parkinson_[~parkinson_.idx.str.contains(\"NLS_57\")]\n",
    "parkinson_ = parkinson_[~parkinson_.idx.str.contains(\"NLS_34\")]\n",
    "parkinson_ = parkinson_[~parkinson_.idx.str.contains(\"NLS_33\")]\n",
    "parkinson_ = parkinson_[~parkinson_.idx.str.contains(\"NLS_12\")]\n",
    "parkinson_ = parkinson_[~parkinson_.idx.str.contains(\"NLS_21\")]\n"
   ]
  },
  {
   "cell_type": "code",
   "execution_count": 22,
   "id": "298ca6c7",
   "metadata": {},
   "outputs": [],
   "source": [
    "task = df.columns[3:].values.tolist()\n",
    "\n",
    "alzheimer_all_feat = np.array([alzheimer[feat] for feat in np.array(df.columns[3:])])\n",
    "others_all_feat = np.array([others[feat] for feat in np.array(df.columns[3:])])\n",
    "parkinson_all_feat = np.array([parkinson_[feat] for feat in np.array(df.columns[3:])])\n",
    "control_all_feat =np.array([control[feat] for feat in np.array(df.columns[3:])])\n",
    "#ataxia_all_feat =np.array([ataxia[feat] for feat in np.array(df.columns[3:])])"
   ]
  },
  {
   "cell_type": "code",
   "execution_count": 74,
   "id": "538e0626",
   "metadata": {},
   "outputs": [],
   "source": [
    "def kruskal(f, task, c, p, c_name, p_name):\n",
    "    for i, title in enumerate(task):\n",
    "        nome = title\n",
    "        f.write(('\\n'+ f'kruskal results for {title} {c_name} {p_name} {stats.kruskal(c[i], p[i])} \\n\\n'))\n",
    "\n",
    "with open('/export/b14/afavaro/SLT_submission/cognitive/results/cn_vs_pd.txt', 'w') as f:\n",
    " \n",
    "    kruskal(f, task, control_all_feat, parkinson_all_feat, \"controls vs.\", \"parkinson\")"
   ]
  },
  {
   "cell_type": "code",
   "execution_count": 75,
   "id": "941137f5",
   "metadata": {},
   "outputs": [],
   "source": [
    "with open('/export/b14/afavaro/SLT_submission/cognitive/results/cn_vs_otr.txt', 'w') as f:\n",
    "    \n",
    "    \n",
    "    kruskal(f, task, control_all_feat, others_all_feat, \"control vs.\", \"others\")\n",
    "    "
   ]
  },
  {
   "cell_type": "code",
   "execution_count": 76,
   "id": "7a7550ee",
   "metadata": {},
   "outputs": [],
   "source": [
    "with open('/export/b14/afavaro/SLT_submission/cognitive/results/pd_vs_otr.txt', 'w') as f:\n",
    "    \n",
    "    \n",
    "    kruskal(f, task, parkinson_all_feat, others_all_feat, \"parkinson vs.\", \"others\")\n",
    "    "
   ]
  },
  {
   "cell_type": "code",
   "execution_count": 77,
   "id": "d6f0e515",
   "metadata": {},
   "outputs": [],
   "source": [
    "with open('/export/b14/afavaro/SLT_submission/cognitive/results/ad_vs_otr.txt', 'w') as f:\n",
    "\n",
    "    \n",
    "    kruskal(f, task, alzheimer_all_feat, others_all_feat, \"alzheimers vs.\", \"others\")\n",
    "    "
   ]
  },
  {
   "cell_type": "code",
   "execution_count": 78,
   "id": "396c8d31",
   "metadata": {},
   "outputs": [],
   "source": [
    "with open('/export/b14/afavaro/SLT_submission/cognitive/results/ad_vs_cn.txt', 'w') as f:\n",
    "    #final_sub\n",
    "    \n",
    "    kruskal(f, task, alzheimer_all_feat, control_all_feat, \"alzheimers vs.\", \"controls\")\n",
    "    "
   ]
  },
  {
   "cell_type": "code",
   "execution_count": 79,
   "id": "195f4b47",
   "metadata": {},
   "outputs": [],
   "source": [
    "with open('/export/b14/afavaro/SLT_submission/cognitive/results/ad_vs_pd.txt', 'w') as f:\n",
    "    #final_sub\n",
    "    \n",
    "    kruskal(f, task, alzheimer_all_feat, parkinson_all_feat, \"alzheimers vs.\", \"parkinson\")"
   ]
  },
  {
   "cell_type": "code",
   "execution_count": 80,
   "id": "f31dc639",
   "metadata": {},
   "outputs": [],
   "source": [
    "def read_stats_test(file):\n",
    "    \n",
    "    with open(file, 'r') as f:\n",
    "        lista = []\n",
    "        testo = f.readlines()\n",
    "        testo = [line.strip(\"\\n\") for line in testo]\n",
    "\n",
    "        for line in testo:\n",
    "            if line==\"\":\n",
    "                pass\n",
    "            else:\n",
    "                lista.append(line)\n",
    "                \n",
    "    return lista"
   ]
  },
  {
   "cell_type": "code",
   "execution_count": 81,
   "id": "11212654",
   "metadata": {},
   "outputs": [],
   "source": [
    "def compute_best_scores(lista):    \n",
    "\n",
    "    values = []\n",
    "    critical = []\n",
    "    final = [] \n",
    "    \n",
    "    for l in lista:\n",
    "       # print(l)\n",
    "        ok = l.split('vs.')[1]\n",
    "        num = ok.split(\" \")[2]\n",
    "        values.append(num)\n",
    "\n",
    "    for value in values:\n",
    "        if float(value) < 0.05:\n",
    "            critical.append(value)\n",
    "\n",
    "    for li in lista:\n",
    "        for cri in critical:\n",
    "            if cri in li:\n",
    "                final.append(li)\n",
    "\n",
    "    return final"
   ]
  },
  {
   "cell_type": "code",
   "execution_count": 82,
   "id": "45f8181c",
   "metadata": {},
   "outputs": [
    {
     "data": {
      "text/plain": [
       "['kruskal results for uncertanty control vs. others KruskalResult(statistic=4.744387015569396, pvalue=0.029394023881265607) ',\n",
       " 'kruskal results for repetition control vs. others KruskalResult(statistic=1.4867567712630687, pvalue=0.22272034769126753) ',\n",
       " 'kruskal results for informational_verb control vs. others KruskalResult(statistic=4.107901126651138, pvalue=0.04268330240503464) ',\n",
       " 'kruskal results for informational control vs. others KruskalResult(statistic=7.061428799431602, pvalue=0.007876115674316305) ']"
      ]
     },
     "execution_count": 82,
     "metadata": {},
     "output_type": "execute_result"
    }
   ],
   "source": [
    "kruskal_1 = read_stats_test('/export/b14/afavaro/SLT_submission/cognitive/results/ad_vs_cn.txt')\n",
    "\n",
    "kruskal_1_ = read_stats_test('/export/b14/afavaro/SLT_submission/cognitive/results/ry_ad_vs_cn.txt')\n",
    "kruskal_1__= read_stats_test('/export/b14/afavaro/SLT_submission/cognitive/results/rt_ad_vs_cn.txt')\n",
    "kruskal_2 = read_stats_test('/export/b14/afavaro/SLT_submission/cognitive/results/ad_vs_otr.txt')\n",
    "kruskal_3 = read_stats_test('/export/b14/afavaro/SLT_submission/cognitive/results/ad_vs_pd.txt')\n",
    "kruskal_4 = read_stats_test('/export/b14/afavaro/SLT_submission/cognitive/results/cn_vs_otr.txt')\n",
    "kruskal_4_ = read_stats_test('/export/b14/afavaro/SLT_submission/cognitive/results/ry_cn_vs_otr.txt')\n",
    "kruskal_4__ = read_stats_test('/export/b14/afavaro/SLT_submission/cognitive/results/ry_cn_vs_otr.txt')\n",
    "kruskal_4__ = read_stats_test('/export/b14/afavaro/SLT_submission/cognitive/results/rt_cn_vs_otr.txt')\n",
    "kruskal_5 = read_stats_test('/export/b14/afavaro/SLT_submission/cognitive/results/cn_vs_pd.txt')\n",
    "kruskal_5_ = read_stats_test('/export/b14/afavaro/SLT_submission/cognitive/results/rt_cn_vs_pd.txt')\n",
    "kruskal_6 = read_stats_test('/export/b14/afavaro/SLT_submission/cognitive/results/pd_vs_otr.txt')\n",
    "#best_krusk = compute_best_scores(kruskal)\n",
    "kruskal_4"
   ]
  },
  {
   "cell_type": "code",
   "execution_count": 70,
   "id": "423a9273",
   "metadata": {},
   "outputs": [
    {
     "data": {
      "text/plain": [
       "(['kruskal results for RT alzheimers vs. controls 0.006675968568923189 '],\n",
       " [0.04673177998246233])"
      ]
     },
     "execution_count": 70,
     "metadata": {},
     "output_type": "execute_result"
    }
   ],
   "source": [
    "holm_correction(kruskal_1 + kruskal_1_+ kruskal_1__)"
   ]
  },
  {
   "cell_type": "code",
   "execution_count": 71,
   "id": "f3f81372",
   "metadata": {},
   "outputs": [
    {
     "data": {
      "text/plain": [
       "0.11981132075471697"
      ]
     },
     "execution_count": 71,
     "metadata": {},
     "output_type": "execute_result"
    }
   ],
   "source": [
    "comp"
   ]
  },
  {
   "cell_type": "code",
   "execution_count": 54,
   "id": "dfde16a6",
   "metadata": {},
   "outputs": [
    {
     "data": {
      "text/plain": [
       "['kruskal results for uncertanty alzheimers vs. controls 0.03456636877932838 ',\n",
       " 'kruskal results for repetition alzheimers vs. controls 0.06137402163025788 ',\n",
       " 'kruskal results for informational_verb alzheimers vs. controls 0.6432898686545967 ',\n",
       " 'kruskal results for Informativeness [entities]',\n",
       " 'CTP task alzheimers vs. controls 0.06863104357534053 ']"
      ]
     },
     "execution_count": 54,
     "metadata": {},
     "output_type": "execute_result"
    }
   ],
   "source": [
    "kruskal_1"
   ]
  },
  {
   "cell_type": "code",
   "execution_count": 43,
   "id": "64b57b17",
   "metadata": {},
   "outputs": [
    {
     "ename": "ValueError",
     "evalue": "could not convert string to float: 'KruskalResult(statistic=0.019907628603291188,'",
     "output_type": "error",
     "traceback": [
      "\u001b[0;31m---------------------------------------------------------------------------\u001b[0m",
      "\u001b[0;31mValueError\u001b[0m                                Traceback (most recent call last)",
      "\u001b[0;32m/tmp/ipykernel_7878/16009552.py\u001b[0m in \u001b[0;36m<module>\u001b[0;34m\u001b[0m\n\u001b[0;32m----> 1\u001b[0;31m \u001b[0mholm_correction\u001b[0m\u001b[0;34m(\u001b[0m\u001b[0mkruskal_2\u001b[0m\u001b[0;34m)\u001b[0m\u001b[0;34m\u001b[0m\u001b[0;34m\u001b[0m\u001b[0m\n\u001b[0m",
      "\u001b[0;32m/tmp/ipykernel_7878/136117258.py\u001b[0m in \u001b[0;36mholm_correction\u001b[0;34m(kruskal)\u001b[0m\n\u001b[1;32m     13\u001b[0m         \u001b[0mok\u001b[0m \u001b[0;34m=\u001b[0m \u001b[0mline\u001b[0m\u001b[0;34m.\u001b[0m\u001b[0msplit\u001b[0m\u001b[0;34m(\u001b[0m\u001b[0;34m'vs.'\u001b[0m\u001b[0;34m)\u001b[0m\u001b[0;34m[\u001b[0m\u001b[0;36m1\u001b[0m\u001b[0;34m]\u001b[0m\u001b[0;34m\u001b[0m\u001b[0;34m\u001b[0m\u001b[0m\n\u001b[1;32m     14\u001b[0m         \u001b[0mnum\u001b[0m \u001b[0;34m=\u001b[0m \u001b[0mok\u001b[0m\u001b[0;34m.\u001b[0m\u001b[0msplit\u001b[0m\u001b[0;34m(\u001b[0m\u001b[0;34m\" \"\u001b[0m\u001b[0;34m)\u001b[0m\u001b[0;34m[\u001b[0m\u001b[0;36m2\u001b[0m\u001b[0;34m]\u001b[0m\u001b[0;34m\u001b[0m\u001b[0;34m\u001b[0m\u001b[0m\n\u001b[0;32m---> 15\u001b[0;31m         \u001b[0mvalues\u001b[0m\u001b[0;34m.\u001b[0m\u001b[0mappend\u001b[0m\u001b[0;34m(\u001b[0m\u001b[0mfloat\u001b[0m\u001b[0;34m(\u001b[0m\u001b[0mnum\u001b[0m\u001b[0;34m)\u001b[0m\u001b[0;34m)\u001b[0m\u001b[0;34m\u001b[0m\u001b[0;34m\u001b[0m\u001b[0m\n\u001b[0m\u001b[1;32m     16\u001b[0m    \u001b[0;31m# values = [x for x in values if isnan(x) == False]\u001b[0m\u001b[0;34m\u001b[0m\u001b[0;34m\u001b[0m\u001b[0m\n\u001b[1;32m     17\u001b[0m     \u001b[0mresult\u001b[0m \u001b[0;34m=\u001b[0m \u001b[0mstatsmodels\u001b[0m\u001b[0;34m.\u001b[0m\u001b[0mstats\u001b[0m\u001b[0;34m.\u001b[0m\u001b[0mmultitest\u001b[0m\u001b[0;34m.\u001b[0m\u001b[0mfdrcorrection\u001b[0m\u001b[0;34m(\u001b[0m\u001b[0mvalues\u001b[0m\u001b[0;34m,\u001b[0m \u001b[0malpha\u001b[0m\u001b[0;34m=\u001b[0m\u001b[0;36m0.05\u001b[0m\u001b[0;34m,\u001b[0m \u001b[0mmethod\u001b[0m\u001b[0;34m=\u001b[0m\u001b[0;34m'indep'\u001b[0m\u001b[0;34m,\u001b[0m \u001b[0mis_sorted\u001b[0m\u001b[0;34m=\u001b[0m\u001b[0;32mFalse\u001b[0m\u001b[0;34m)\u001b[0m\u001b[0;34m\u001b[0m\u001b[0;34m\u001b[0m\u001b[0m\n",
      "\u001b[0;31mValueError\u001b[0m: could not convert string to float: 'KruskalResult(statistic=0.019907628603291188,'"
     ]
    }
   ],
   "source": [
    "holm_correction(kruskal_2)\n"
   ]
  },
  {
   "cell_type": "code",
   "execution_count": 73,
   "id": "fed63e55",
   "metadata": {},
   "outputs": [
    {
     "data": {
      "text/plain": [
       "['kruskal results for Rhythm_std control vs. others 0.9505490015219512 ']"
      ]
     },
     "execution_count": 73,
     "metadata": {},
     "output_type": "execute_result"
    }
   ],
   "source": [
    "o = kruskal_4__[:1]\n",
    "o"
   ]
  },
  {
   "cell_type": "code",
   "execution_count": 74,
   "id": "65c0ebbb",
   "metadata": {},
   "outputs": [
    {
     "data": {
      "text/plain": [
       "([], [])"
      ]
     },
     "execution_count": 74,
     "metadata": {},
     "output_type": "execute_result"
    }
   ],
   "source": [
    "holm_correction(kruskal_3)"
   ]
  },
  {
   "cell_type": "code",
   "execution_count": 75,
   "id": "7617000f",
   "metadata": {},
   "outputs": [
    {
     "data": {
      "text/plain": [
       "(['kruskal results for informational control vs. others 0.007876115674316305 '],\n",
       " [0.047256694045897836])"
      ]
     },
     "execution_count": 75,
     "metadata": {},
     "output_type": "execute_result"
    }
   ],
   "source": [
    "holm_correction(kruskal_4+ kruskal_4_ + o)"
   ]
  },
  {
   "cell_type": "code",
   "execution_count": null,
   "id": "153688d3",
   "metadata": {},
   "outputs": [],
   "source": [
    "holm_correction(kruskal_5_)"
   ]
  },
  {
   "cell_type": "code",
   "execution_count": 42,
   "id": "8eb6aaff",
   "metadata": {},
   "outputs": [
    {
     "data": {
      "text/plain": [
       "([], [])"
      ]
     },
     "execution_count": 42,
     "metadata": {},
     "output_type": "execute_result"
    }
   ],
   "source": [
    "holm_correction(kruskal_6)"
   ]
  },
  {
   "cell_type": "code",
   "execution_count": 49,
   "id": "59b62086",
   "metadata": {},
   "outputs": [
    {
     "ename": "TypeError",
     "evalue": "list indices must be integers or slices, not str",
     "output_type": "error",
     "traceback": [
      "\u001b[0;31m---------------------------------------------------------------------------\u001b[0m",
      "\u001b[0;31mTypeError\u001b[0m                                 Traceback (most recent call last)",
      "\u001b[0;32m/tmp/ipykernel_132789/133358337.py\u001b[0m in \u001b[0;36m<module>\u001b[0;34m\u001b[0m\n\u001b[1;32m     11\u001b[0m \u001b[0;34m\u001b[0m\u001b[0m\n\u001b[1;32m     12\u001b[0m \u001b[0;34m\u001b[0m\u001b[0m\n\u001b[0;32m---> 13\u001b[0;31m \u001b[0motr\u001b[0m \u001b[0;34m=\u001b[0m\u001b[0;34m(\u001b[0m\u001b[0mothers\u001b[0m\u001b[0;34m[\u001b[0m\u001b[0;34m'informational'\u001b[0m\u001b[0;34m]\u001b[0m\u001b[0;34m.\u001b[0m\u001b[0mtolist\u001b[0m\u001b[0;34m(\u001b[0m\u001b[0;34m)\u001b[0m\u001b[0;34m)\u001b[0m\u001b[0;34m\u001b[0m\u001b[0;34m\u001b[0m\u001b[0m\n\u001b[0m\u001b[1;32m     14\u001b[0m \u001b[0motr\u001b[0m \u001b[0;34m=\u001b[0m \u001b[0mnp\u001b[0m\u001b[0;34m.\u001b[0m\u001b[0marray\u001b[0m\u001b[0;34m(\u001b[0m\u001b[0;34m[\u001b[0m\u001b[0mx\u001b[0m \u001b[0;32mfor\u001b[0m \u001b[0mx\u001b[0m \u001b[0;32min\u001b[0m \u001b[0motr\u001b[0m \u001b[0;32mif\u001b[0m \u001b[0mx\u001b[0m \u001b[0;34m!=\u001b[0m\u001b[0;34m'None'\u001b[0m\u001b[0;34m]\u001b[0m\u001b[0;34m)\u001b[0m\u001b[0;34m\u001b[0m\u001b[0;34m\u001b[0m\u001b[0m\n\u001b[1;32m     15\u001b[0m \u001b[0motr\u001b[0m \u001b[0;34m=\u001b[0m \u001b[0motr\u001b[0m\u001b[0;34m.\u001b[0m\u001b[0mastype\u001b[0m\u001b[0;34m(\u001b[0m\u001b[0mfloat\u001b[0m\u001b[0;34m)\u001b[0m\u001b[0;34m\u001b[0m\u001b[0;34m\u001b[0m\u001b[0m\n",
      "\u001b[0;31mTypeError\u001b[0m: list indices must be integers or slices, not str"
     ]
    }
   ],
   "source": [
    "az = (alzheimer['informational'].tolist())\n",
    "az = np.array([x for x in az if x !='None'])\n",
    "az = az.astype(float)\n",
    "ctrl =(control['informational'].tolist())\n",
    "ctrl = np.array([x for x in ctrl if x !='None'])\n",
    "ctrl = ctrl.astype(float)\n",
    "\n",
    "pd =(parkinson_['informational'].tolist())\n",
    "pd = np.array([x for x in pd if x !='None'])\n",
    "pd = pd.astype(float)\n",
    "\n",
    "\n",
    "otr =(others['informational'].tolist())\n",
    "otr = np.array([x for x in otr if x !='None'])\n",
    "otr = otr.astype(float)\n",
    "\n",
    "\n",
    "mean_az = np.mean(az)\n",
    "st_ad = np.std(az)\n",
    "mean_ctrl =  np.mean(ctrl)\n",
    "st_ctrl = np.std(ctrl)\n",
    "\n",
    "\n",
    "\n",
    "mean_pd = np.mean(pd)\n",
    "st_pd = np.std(pd)\n",
    "\n",
    "\n",
    "mean_otr = np.mean(otr)\n",
    "st_otr = np.std(otr)"
   ]
  },
  {
   "cell_type": "code",
   "execution_count": 32,
   "id": "c7e5b3bc",
   "metadata": {},
   "outputs": [
    {
     "data": {
      "text/plain": [
       "['uncertanty', 'repetition', 'informational_verb', 'informational']"
      ]
     },
     "execution_count": 32,
     "metadata": {},
     "output_type": "execute_result"
    }
   ],
   "source": [
    "task"
   ]
  },
  {
   "cell_type": "code",
   "execution_count": 33,
   "id": "eca79a91",
   "metadata": {},
   "outputs": [],
   "source": [
    "df = df.rename(columns={\"informational\": \"informativeness [entities]\\nCTP task\"})"
   ]
  },
  {
   "cell_type": "code",
   "execution_count": 23,
   "id": "eee79fca",
   "metadata": {},
   "outputs": [
    {
     "data": {
      "image/png": "[encoded data removed]",
      "text/plain": [
       "<Figure size 423.36x302.4 with 1 Axes>"
      ]
     },
     "metadata": {},
     "output_type": "display_data"
    },
    {
     "data": {
      "image/png": "[encoded data removed]",
      "text/plain": [
       "<Figure size 423.36x302.4 with 1 Axes>"
      ]
     },
     "metadata": {},
     "output_type": "display_data"
    },
    {
     "data": {
      "image/png": "[encoded data removed]",
      "text/plain": [
       "<Figure size 423.36x302.4 with 1 Axes>"
      ]
     },
     "metadata": {},
     "output_type": "display_data"
    },
    {
     "data": {
      "image/png": "[encoded data removed]",
      "text/plain": [
       "<Figure size 423.36x302.4 with 1 Axes>"
      ]
     },
     "metadata": {},
     "output_type": "display_data"
    }
   ],
   "source": [
    "for i, title in enumerate(task):  \n",
    "    \n",
    "    nome = title\n",
    "   \n",
    "    controls = []\n",
    "    parkinson=[]\n",
    "    alz = []\n",
    "    #ataxia = []\n",
    "    others= []\n",
    "    \n",
    "    data = np.concatenate([control_all_feat[i], parkinson_all_feat[i], alzheimer_all_feat[i], others_all_feat[i]])\n",
    "    data = data.tolist()\n",
    "\n",
    "    [controls.append('CN') for value in range(len(control_all_feat[i]))]\n",
    "    #[ataxia.append('ATX') for value in range(len(ataxia_all_feat[i]))]\n",
    "    [parkinson.append('PD') for value in range(len(parkinson_all_feat[i]))]\n",
    "    [alz.append('AD') for value in range(len(alzheimer_all_feat[i]))]\n",
    "    [others.append('PDM') for value in range(len(others_all_feat[i]))]\n",
    "\n",
    "    lista = controls+parkinson+alz+others\n",
    "    \n",
    "    dict = {nome: data, 'Group': lista} \n",
    "    df = pd.DataFrame(dict)\n",
    "    #tips = pd.DataFrame()\n",
    "    #tips['task'] = data\n",
    "    #tips['lista'] = lista\n",
    "    \n",
    "    sns.set(font_scale=2)\n",
    "    sns.catplot(x=nome, y=\"Group\", kind=\"boxen\", data=df, k_depth='full', palette=\"Blues\",\\\n",
    "               height=4.2, aspect=1.4, showfliers = False)\n",
    "    \n",
    "    plt.savefig(f'/export/b14/afavaro/SLT_submission/Final_plot_SLT/{nome}_', facecolor='white', dpi=600)"
   ]
  },
  {
   "cell_type": "code",
   "execution_count": null,
   "id": "66a2acc1",
   "metadata": {},
   "outputs": [],
   "source": []
  },
  {
   "cell_type": "code",
   "execution_count": 57,
   "id": "a3ad763c",
   "metadata": {},
   "outputs": [],
   "source": [
    "#compute effect size\n",
    "from numpy.random import randn\n",
    "from numpy.random import seed\n",
    "from numpy import mean\n",
    "from numpy import var\n",
    "from math import sqrt\n",
    "import numpy as np\n",
    "import scipy.stats as st\n",
    "\n",
    "\n",
    "def conf_interval(list_of_values):\n",
    "    return st.t.interval(alpha=0.95, df=len(list_of_values)-1, loc=np.mean(list_of_values), scale=st.sem(list_of_values)) \n",
    "   \n",
    "\n",
    "\n",
    "def cohend(d1, d2):\n",
    "\t# calculate the size of samples\n",
    "\tn1, n2 = len(d1), len(d2)\n",
    "\t# calculate the variance of the samples\n",
    "\ts1, s2 = var(d1, ddof=1), var(d2, ddof=1)\n",
    "\t# calculate the pooled standard deviation\n",
    "\ts = sqrt(((n1 - 1) * s1 + (n2 - 1) * s2) / (n1 + n2 - 2))\n",
    "\t# calculate the means of the samples\n",
    "\tu1, u2 = mean(d1), mean(d2)\n",
    "\t# calculate the effect size\n",
    "\treturn (u1 - u2) / s"
   ]
  },
  {
   "cell_type": "code",
   "execution_count": 60,
   "id": "6d98348d",
   "metadata": {},
   "outputs": [],
   "source": [
    "az = (alzheimer['uncertanty'].tolist())\n",
    "az = np.array([x for x in az if x !='None'])\n",
    "az = az.astype(float)\n",
    "ctrl =(control['uncertanty'].tolist())\n",
    "ctrl = np.array([x for x in ctrl if x !='None'])\n",
    "ctrl = ctrl.astype(float)\n",
    "atx =(ataxia['combined_uncertanty'].tolist())\n",
    "atx = np.array([x for x in atx if x !='None'])\n",
    "atx = atx.astype(float)\n",
    "pd =(parkinson_['combined_uncertanty'].tolist())\n",
    "pd = np.array([x for x in pd if x !='None'])\n",
    "pd = pd.astype(float)\n",
    "\n",
    "\n",
    "mean_atx = np.mean(atx)\n",
    "st_atx = np.std(atx)\n",
    "mean_az = np.mean(az)\n",
    "st_ad = np.std(az)\n",
    "mean_ctrl =  np.mean(ctrl)\n",
    "st_ctrl = np.std(ctrl)\n",
    "mean_pd = np.mean(pd)\n",
    "st_pd = np.std(pd)\n"
   ]
  },
  {
   "cell_type": "code",
   "execution_count": 61,
   "id": "4ead71ce",
   "metadata": {},
   "outputs": [
    {
     "data": {
      "text/plain": [
       "array([1., 2., 4., 0., 1., 0., 2., 0., 2.])"
      ]
     },
     "execution_count": 61,
     "metadata": {},
     "output_type": "execute_result"
    }
   ],
   "source": []
  },
  {
   "cell_type": "code",
   "execution_count": null,
   "id": "11c780e5",
   "metadata": {},
   "outputs": [],
   "source": []
  },
  {
   "cell_type": "code",
   "execution_count": 71,
   "id": "061fcb10",
   "metadata": {},
   "outputs": [
    {
     "data": {
      "text/plain": [
       "['uncertanty',\n",
       " 'repetition',\n",
       " 'informational_verb',\n",
       " 'informational',\n",
       " 'combined_uncertanty',\n",
       " 'ratio_info_rep_plus_uncert',\n",
       " 'ratio_rep_certanty',\n",
       " 'ratio_info_repetition',\n",
       " 'ratio_info_uncer',\n",
       " 'ratio_nouns_verb',\n",
       " 'ratio_nouns_adv',\n",
       " 'ratio_adv_noun',\n",
       " 'ratio_verb_noun',\n",
       " 'ratio_verb_adj',\n",
       " 'ratio_adj_verb',\n",
       " 'ratio_noun_adj',\n",
       " 'ratio_adj_noun',\n",
       " 'ratio_noun_numeral',\n",
       " 'ratio_numeral_noun',\n",
       " 'ratio_adj_numeral']"
      ]
     },
     "execution_count": 71,
     "metadata": {},
     "output_type": "execute_result"
    }
   ],
   "source": [
    "task"
   ]
  },
  {
   "cell_type": "code",
   "execution_count": 72,
   "id": "e793aa09",
   "metadata": {},
   "outputs": [],
   "source": [
    "import numpy as np\n",
    "from sklearn import metrics\n",
    "import sklearn\n",
    "\n",
    "\n",
    "def compute_auc(array_1, array_2):\n",
    "    xs = np.concatenate([array_1, array_2],axis=1)\n",
    "    y = np.concatenate([array_1.shape[1]*[2], array_2.shape[1]*[1]])\n",
    "    \n",
    "    for i, x in enumerate(xs):\n",
    "        fpr, tpr, thresholds = metrics.roc_curve(y, x, pos_label=2)\n",
    "        #print(i, metrics.auc(fpr, tpr))\n",
    "        m = metrics.roc_auc_score(y, x)\n",
    "        print(round(max(m, 1-m), 2))\n"
   ]
  },
  {
   "cell_type": "code",
   "execution_count": 84,
   "id": "5375e366",
   "metadata": {},
   "outputs": [
    {
     "data": {
      "text/plain": [
       "['uncertanty', 'repetition', 'informational_verb', 'informational']"
      ]
     },
     "execution_count": 84,
     "metadata": {},
     "output_type": "execute_result"
    }
   ],
   "source": [
    "task"
   ]
  },
  {
   "cell_type": "code",
   "execution_count": 83,
   "id": "8d16099a",
   "metadata": {},
   "outputs": [
    {
     "name": "stdout",
     "output_type": "stream",
     "text": [
      "0.69\n",
      "0.61\n",
      "0.68\n",
      "0.74\n"
     ]
    }
   ],
   "source": [
    "compute_auc(controaa_all_feat, others_all_feat)"
   ]
  },
  {
   "cell_type": "code",
   "execution_count": 85,
   "id": "793448f9",
   "metadata": {},
   "outputs": [
    {
     "data": {
      "text/plain": [
       "0.11222222222222221"
      ]
     },
     "execution_count": 85,
     "metadata": {},
     "output_type": "execute_result"
    }
   ],
   "source": [
    "(7.06-1)/(56-2)"
   ]
  },
  {
   "cell_type": "code",
   "execution_count": null,
   "id": "aa49b5c4",
   "metadata": {},
   "outputs": [],
   "source": []
  }
 ],
 "metadata": {
  "kernelspec": {
   "display_name": "Python 3 (ipykernel)",
   "language": "python",
   "name": "python3"
  },
  "language_info": {
   "codemirror_mode": {
    "name": "ipython",
    "version": 3
   },
   "file_extension": ".py",
   "mimetype": "text/x-python",
   "name": "python",
   "nbconvert_exporter": "python",
   "pygments_lexer": "ipython3",
   "version": "3.9.7"
  }
 },
 "nbformat": 4,
 "nbformat_minor": 5
}
